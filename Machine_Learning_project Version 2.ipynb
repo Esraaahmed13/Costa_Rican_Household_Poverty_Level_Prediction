{
 "cells": [
  {
   "cell_type": "code",
   "execution_count": 1,
   "id": "4be4ecb7",
   "metadata": {
    "_cell_guid": "b1076dfc-b9ad-4769-8c92-a6c4dae69d19",
    "_uuid": "8f2839f25d086af736a60e9eeb907d3b93b6e0e5",
    "colab": {
     "base_uri": "https://localhost:8080/"
    },
    "execution": {
     "iopub.execute_input": "2021-08-24T03:22:06.646292Z",
     "iopub.status.busy": "2021-08-24T03:22:06.645462Z",
     "iopub.status.idle": "2021-08-24T03:22:17.542757Z",
     "shell.execute_reply": "2021-08-24T03:22:17.541445Z",
     "shell.execute_reply.started": "2021-08-24T03:15:56.133269Z"
    },
    "executionInfo": {
     "elapsed": 5571,
     "status": "ok",
     "timestamp": 1672001825165,
     "user": {
      "displayName": "marina wafeek",
      "userId": "08678773223737812097"
     },
     "user_tz": -120
    },
    "id": "4be4ecb7",
    "outputId": "4d4dff81-d7cf-4390-baf4-f77bc16a38bc",
    "papermill": {
     "duration": 11.015224,
     "end_time": "2021-08-24T03:22:17.542953",
     "exception": false,
     "start_time": "2021-08-24T03:22:06.527729",
     "status": "completed"
    },
    "tags": []
   },
   "outputs": [],
   "source": [
    "import numpy as np \n",
    "import pandas as pd \n",
    "import matplotlib\n",
    "import matplotlib.pyplot as plt\n",
    "from matplotlib.pyplot import figure\n",
    "%matplotlib inline\n",
    "import seaborn as sns\n",
    "from sklearn import preprocessing\n",
    "from sklearn.model_selection import StratifiedKFold, train_test_split,KFold,cross_val_score\n",
    "from sklearn.neighbors import KNeighborsClassifier\n",
    "from sklearn.tree import DecisionTreeClassifier\n",
    "from sklearn.ensemble import RandomForestClassifier, AdaBoostClassifier\n",
    "\n",
    "\n",
    "from sklearn.preprocessing import MinMaxScaler\n",
    "from sklearn.metrics import confusion_matrix, f1_score, make_scorer,accuracy_score,classification_report\n",
    "\n",
    "\n",
    "\n",
    "p_train=pd.read_csv(r\"C:\\Users\\User\\Downloads\\machineProject\\Train.csv.csv\")\n",
    "\n",
    "p_test=pd.read_csv(r\"C:\\Users\\User\\Downloads\\machineProject\\Test.csv.csv\")\n",
    "\n"
   ]
  },
  {
   "cell_type": "code",
   "execution_count": 2,
   "id": "a5b3c3b1",
   "metadata": {
    "colab": {
     "base_uri": "https://localhost:8080/",
     "height": 299
    },
    "execution": {
     "iopub.execute_input": "2021-08-24T03:22:17.978345Z",
     "iopub.status.busy": "2021-08-24T03:22:17.977583Z",
     "iopub.status.idle": "2021-08-24T03:22:18.083037Z",
     "shell.execute_reply": "2021-08-24T03:22:18.083927Z",
     "shell.execute_reply.started": "2021-08-24T03:15:56.592343Z"
    },
    "executionInfo": {
     "elapsed": 47,
     "status": "ok",
     "timestamp": 1672001825166,
     "user": {
      "displayName": "marina wafeek",
      "userId": "08678773223737812097"
     },
     "user_tz": -120
    },
    "id": "a5b3c3b1",
    "outputId": "5e4ebba0-32e6-4d72-e9c8-04686146b9d3",
    "papermill": {
     "duration": 0.217244,
     "end_time": "2021-08-24T03:22:18.084125",
     "exception": false,
     "start_time": "2021-08-24T03:22:17.866881",
     "status": "completed"
    },
    "tags": []
   },
   "outputs": [
    {
     "data": {
      "text/html": [
       "<div>\n",
       "<style scoped>\n",
       "    .dataframe tbody tr th:only-of-type {\n",
       "        vertical-align: middle;\n",
       "    }\n",
       "\n",
       "    .dataframe tbody tr th {\n",
       "        vertical-align: top;\n",
       "    }\n",
       "\n",
       "    .dataframe thead th {\n",
       "        text-align: right;\n",
       "    }\n",
       "</style>\n",
       "<table border=\"1\" class=\"dataframe\">\n",
       "  <thead>\n",
       "    <tr style=\"text-align: right;\">\n",
       "      <th></th>\n",
       "      <th>Id</th>\n",
       "      <th>v2a1</th>\n",
       "      <th>hacdor</th>\n",
       "      <th>rooms</th>\n",
       "      <th>hacapo</th>\n",
       "      <th>v14a</th>\n",
       "      <th>refrig</th>\n",
       "      <th>v18q</th>\n",
       "      <th>v18q1</th>\n",
       "      <th>r4h1</th>\n",
       "      <th>...</th>\n",
       "      <th>SQBescolari</th>\n",
       "      <th>SQBage</th>\n",
       "      <th>SQBhogar_total</th>\n",
       "      <th>SQBedjefe</th>\n",
       "      <th>SQBhogar_nin</th>\n",
       "      <th>SQBovercrowding</th>\n",
       "      <th>SQBdependency</th>\n",
       "      <th>SQBmeaned</th>\n",
       "      <th>agesq</th>\n",
       "      <th>Target</th>\n",
       "    </tr>\n",
       "  </thead>\n",
       "  <tbody>\n",
       "    <tr>\n",
       "      <th>0</th>\n",
       "      <td>ID_279628684</td>\n",
       "      <td>190000.0</td>\n",
       "      <td>0</td>\n",
       "      <td>3</td>\n",
       "      <td>0</td>\n",
       "      <td>1</td>\n",
       "      <td>1</td>\n",
       "      <td>0</td>\n",
       "      <td>NaN</td>\n",
       "      <td>0</td>\n",
       "      <td>...</td>\n",
       "      <td>100</td>\n",
       "      <td>1849</td>\n",
       "      <td>1</td>\n",
       "      <td>100</td>\n",
       "      <td>0</td>\n",
       "      <td>1.000000</td>\n",
       "      <td>0.0</td>\n",
       "      <td>100.0</td>\n",
       "      <td>1849</td>\n",
       "      <td>4</td>\n",
       "    </tr>\n",
       "    <tr>\n",
       "      <th>1</th>\n",
       "      <td>ID_f29eb3ddd</td>\n",
       "      <td>135000.0</td>\n",
       "      <td>0</td>\n",
       "      <td>4</td>\n",
       "      <td>0</td>\n",
       "      <td>1</td>\n",
       "      <td>1</td>\n",
       "      <td>1</td>\n",
       "      <td>1.0</td>\n",
       "      <td>0</td>\n",
       "      <td>...</td>\n",
       "      <td>144</td>\n",
       "      <td>4489</td>\n",
       "      <td>1</td>\n",
       "      <td>144</td>\n",
       "      <td>0</td>\n",
       "      <td>1.000000</td>\n",
       "      <td>64.0</td>\n",
       "      <td>144.0</td>\n",
       "      <td>4489</td>\n",
       "      <td>4</td>\n",
       "    </tr>\n",
       "    <tr>\n",
       "      <th>2</th>\n",
       "      <td>ID_68de51c94</td>\n",
       "      <td>NaN</td>\n",
       "      <td>0</td>\n",
       "      <td>8</td>\n",
       "      <td>0</td>\n",
       "      <td>1</td>\n",
       "      <td>1</td>\n",
       "      <td>0</td>\n",
       "      <td>NaN</td>\n",
       "      <td>0</td>\n",
       "      <td>...</td>\n",
       "      <td>121</td>\n",
       "      <td>8464</td>\n",
       "      <td>1</td>\n",
       "      <td>0</td>\n",
       "      <td>0</td>\n",
       "      <td>0.250000</td>\n",
       "      <td>64.0</td>\n",
       "      <td>121.0</td>\n",
       "      <td>8464</td>\n",
       "      <td>4</td>\n",
       "    </tr>\n",
       "    <tr>\n",
       "      <th>3</th>\n",
       "      <td>ID_d671db89c</td>\n",
       "      <td>180000.0</td>\n",
       "      <td>0</td>\n",
       "      <td>5</td>\n",
       "      <td>0</td>\n",
       "      <td>1</td>\n",
       "      <td>1</td>\n",
       "      <td>1</td>\n",
       "      <td>1.0</td>\n",
       "      <td>0</td>\n",
       "      <td>...</td>\n",
       "      <td>81</td>\n",
       "      <td>289</td>\n",
       "      <td>16</td>\n",
       "      <td>121</td>\n",
       "      <td>4</td>\n",
       "      <td>1.777778</td>\n",
       "      <td>1.0</td>\n",
       "      <td>121.0</td>\n",
       "      <td>289</td>\n",
       "      <td>4</td>\n",
       "    </tr>\n",
       "    <tr>\n",
       "      <th>4</th>\n",
       "      <td>ID_d56d6f5f5</td>\n",
       "      <td>180000.0</td>\n",
       "      <td>0</td>\n",
       "      <td>5</td>\n",
       "      <td>0</td>\n",
       "      <td>1</td>\n",
       "      <td>1</td>\n",
       "      <td>1</td>\n",
       "      <td>1.0</td>\n",
       "      <td>0</td>\n",
       "      <td>...</td>\n",
       "      <td>121</td>\n",
       "      <td>1369</td>\n",
       "      <td>16</td>\n",
       "      <td>121</td>\n",
       "      <td>4</td>\n",
       "      <td>1.777778</td>\n",
       "      <td>1.0</td>\n",
       "      <td>121.0</td>\n",
       "      <td>1369</td>\n",
       "      <td>4</td>\n",
       "    </tr>\n",
       "  </tbody>\n",
       "</table>\n",
       "<p>5 rows × 143 columns</p>\n",
       "</div>"
      ],
      "text/plain": [
       "             Id      v2a1  hacdor  rooms  hacapo  v14a  refrig  v18q  v18q1  \\\n",
       "0  ID_279628684  190000.0       0      3       0     1       1     0    NaN   \n",
       "1  ID_f29eb3ddd  135000.0       0      4       0     1       1     1    1.0   \n",
       "2  ID_68de51c94       NaN       0      8       0     1       1     0    NaN   \n",
       "3  ID_d671db89c  180000.0       0      5       0     1       1     1    1.0   \n",
       "4  ID_d56d6f5f5  180000.0       0      5       0     1       1     1    1.0   \n",
       "\n",
       "   r4h1  ...  SQBescolari  SQBage  SQBhogar_total  SQBedjefe  SQBhogar_nin  \\\n",
       "0     0  ...          100    1849               1        100             0   \n",
       "1     0  ...          144    4489               1        144             0   \n",
       "2     0  ...          121    8464               1          0             0   \n",
       "3     0  ...           81     289              16        121             4   \n",
       "4     0  ...          121    1369              16        121             4   \n",
       "\n",
       "   SQBovercrowding  SQBdependency  SQBmeaned  agesq  Target  \n",
       "0         1.000000            0.0      100.0   1849       4  \n",
       "1         1.000000           64.0      144.0   4489       4  \n",
       "2         0.250000           64.0      121.0   8464       4  \n",
       "3         1.777778            1.0      121.0    289       4  \n",
       "4         1.777778            1.0      121.0   1369       4  \n",
       "\n",
       "[5 rows x 143 columns]"
      ]
     },
     "execution_count": 2,
     "metadata": {},
     "output_type": "execute_result"
    }
   ],
   "source": [
    "p_train.head()"
   ]
  },
  {
   "cell_type": "code",
   "execution_count": 3,
   "id": "89ae6333",
   "metadata": {
    "colab": {
     "base_uri": "https://localhost:8080/"
    },
    "execution": {
     "iopub.execute_input": "2021-08-24T03:22:18.282870Z",
     "iopub.status.busy": "2021-08-24T03:22:18.282076Z",
     "iopub.status.idle": "2021-08-24T03:22:18.306945Z",
     "shell.execute_reply": "2021-08-24T03:22:18.305964Z",
     "shell.execute_reply.started": "2021-08-24T03:15:56.687051Z"
    },
    "executionInfo": {
     "elapsed": 44,
     "status": "ok",
     "timestamp": 1672001825168,
     "user": {
      "displayName": "marina wafeek",
      "userId": "08678773223737812097"
     },
     "user_tz": -120
    },
    "id": "89ae6333",
    "outputId": "d05f3fb2-a223-4f9b-ae3e-a2e9f6b7e191",
    "papermill": {
     "duration": 0.124461,
     "end_time": "2021-08-24T03:22:18.307169",
     "exception": false,
     "start_time": "2021-08-24T03:22:18.182708",
     "status": "completed"
    },
    "tags": []
   },
   "outputs": [
    {
     "name": "stdout",
     "output_type": "stream",
     "text": [
      "<class 'pandas.core.frame.DataFrame'>\n",
      "RangeIndex: 9557 entries, 0 to 9556\n",
      "Columns: 143 entries, Id to Target\n",
      "dtypes: float64(8), int64(130), object(5)\n",
      "memory usage: 10.4+ MB\n"
     ]
    }
   ],
   "source": [
    "p_train.info()\n",
    "\n",
    "# We're dealing with an 9557x143 dataframe, using 10.4MB of memory. A fairly large database to kaggle parameters\n",
    "# Most values are int, some are categorical and float"
   ]
  },
  {
   "cell_type": "code",
   "execution_count": 4,
   "id": "90dd843a",
   "metadata": {
    "colab": {
     "base_uri": "https://localhost:8080/",
     "height": 393
    },
    "execution": {
     "iopub.execute_input": "2021-08-24T03:22:18.507731Z",
     "iopub.status.busy": "2021-08-24T03:22:18.506837Z",
     "iopub.status.idle": "2021-08-24T03:22:18.941783Z",
     "shell.execute_reply": "2021-08-24T03:22:18.942304Z",
     "shell.execute_reply.started": "2021-08-24T03:15:56.714210Z"
    },
    "executionInfo": {
     "elapsed": 29,
     "status": "ok",
     "timestamp": 1672001825169,
     "user": {
      "displayName": "marina wafeek",
      "userId": "08678773223737812097"
     },
     "user_tz": -120
    },
    "id": "90dd843a",
    "outputId": "888a2c6a-4583-4692-f82e-8e5167a2e258",
    "papermill": {
     "duration": 0.540144,
     "end_time": "2021-08-24T03:22:18.942480",
     "exception": false,
     "start_time": "2021-08-24T03:22:18.402336",
     "status": "completed"
    },
    "tags": []
   },
   "outputs": [
    {
     "data": {
      "text/html": [
       "<div>\n",
       "<style scoped>\n",
       "    .dataframe tbody tr th:only-of-type {\n",
       "        vertical-align: middle;\n",
       "    }\n",
       "\n",
       "    .dataframe tbody tr th {\n",
       "        vertical-align: top;\n",
       "    }\n",
       "\n",
       "    .dataframe thead th {\n",
       "        text-align: right;\n",
       "    }\n",
       "</style>\n",
       "<table border=\"1\" class=\"dataframe\">\n",
       "  <thead>\n",
       "    <tr style=\"text-align: right;\">\n",
       "      <th></th>\n",
       "      <th>v2a1</th>\n",
       "      <th>hacdor</th>\n",
       "      <th>rooms</th>\n",
       "      <th>hacapo</th>\n",
       "      <th>v14a</th>\n",
       "      <th>refrig</th>\n",
       "      <th>v18q</th>\n",
       "      <th>v18q1</th>\n",
       "      <th>r4h1</th>\n",
       "      <th>r4h2</th>\n",
       "      <th>...</th>\n",
       "      <th>SQBescolari</th>\n",
       "      <th>SQBage</th>\n",
       "      <th>SQBhogar_total</th>\n",
       "      <th>SQBedjefe</th>\n",
       "      <th>SQBhogar_nin</th>\n",
       "      <th>SQBovercrowding</th>\n",
       "      <th>SQBdependency</th>\n",
       "      <th>SQBmeaned</th>\n",
       "      <th>agesq</th>\n",
       "      <th>Target</th>\n",
       "    </tr>\n",
       "  </thead>\n",
       "  <tbody>\n",
       "    <tr>\n",
       "      <th>count</th>\n",
       "      <td>2.697000e+03</td>\n",
       "      <td>9557.000000</td>\n",
       "      <td>9557.000000</td>\n",
       "      <td>9557.000000</td>\n",
       "      <td>9557.000000</td>\n",
       "      <td>9557.000000</td>\n",
       "      <td>9557.000000</td>\n",
       "      <td>2215.000000</td>\n",
       "      <td>9557.000000</td>\n",
       "      <td>9557.000000</td>\n",
       "      <td>...</td>\n",
       "      <td>9557.000000</td>\n",
       "      <td>9557.000000</td>\n",
       "      <td>9557.000000</td>\n",
       "      <td>9557.000000</td>\n",
       "      <td>9557.000000</td>\n",
       "      <td>9557.000000</td>\n",
       "      <td>9557.000000</td>\n",
       "      <td>9552.000000</td>\n",
       "      <td>9557.000000</td>\n",
       "      <td>9557.000000</td>\n",
       "    </tr>\n",
       "    <tr>\n",
       "      <th>mean</th>\n",
       "      <td>1.652316e+05</td>\n",
       "      <td>0.038087</td>\n",
       "      <td>4.955530</td>\n",
       "      <td>0.023648</td>\n",
       "      <td>0.994768</td>\n",
       "      <td>0.957623</td>\n",
       "      <td>0.231767</td>\n",
       "      <td>1.404063</td>\n",
       "      <td>0.385895</td>\n",
       "      <td>1.559171</td>\n",
       "      <td>...</td>\n",
       "      <td>74.222769</td>\n",
       "      <td>1643.774302</td>\n",
       "      <td>19.132887</td>\n",
       "      <td>53.500262</td>\n",
       "      <td>3.844826</td>\n",
       "      <td>3.249485</td>\n",
       "      <td>3.900409</td>\n",
       "      <td>102.588867</td>\n",
       "      <td>1643.774302</td>\n",
       "      <td>3.302292</td>\n",
       "    </tr>\n",
       "    <tr>\n",
       "      <th>std</th>\n",
       "      <td>1.504571e+05</td>\n",
       "      <td>0.191417</td>\n",
       "      <td>1.468381</td>\n",
       "      <td>0.151957</td>\n",
       "      <td>0.072145</td>\n",
       "      <td>0.201459</td>\n",
       "      <td>0.421983</td>\n",
       "      <td>0.763131</td>\n",
       "      <td>0.680779</td>\n",
       "      <td>1.036574</td>\n",
       "      <td>...</td>\n",
       "      <td>76.777549</td>\n",
       "      <td>1741.197050</td>\n",
       "      <td>18.751395</td>\n",
       "      <td>78.445804</td>\n",
       "      <td>6.946296</td>\n",
       "      <td>4.129547</td>\n",
       "      <td>12.511831</td>\n",
       "      <td>93.516890</td>\n",
       "      <td>1741.197050</td>\n",
       "      <td>1.009565</td>\n",
       "    </tr>\n",
       "    <tr>\n",
       "      <th>min</th>\n",
       "      <td>0.000000e+00</td>\n",
       "      <td>0.000000</td>\n",
       "      <td>1.000000</td>\n",
       "      <td>0.000000</td>\n",
       "      <td>0.000000</td>\n",
       "      <td>0.000000</td>\n",
       "      <td>0.000000</td>\n",
       "      <td>1.000000</td>\n",
       "      <td>0.000000</td>\n",
       "      <td>0.000000</td>\n",
       "      <td>...</td>\n",
       "      <td>0.000000</td>\n",
       "      <td>0.000000</td>\n",
       "      <td>1.000000</td>\n",
       "      <td>0.000000</td>\n",
       "      <td>0.000000</td>\n",
       "      <td>0.040000</td>\n",
       "      <td>0.000000</td>\n",
       "      <td>0.000000</td>\n",
       "      <td>0.000000</td>\n",
       "      <td>1.000000</td>\n",
       "    </tr>\n",
       "    <tr>\n",
       "      <th>25%</th>\n",
       "      <td>8.000000e+04</td>\n",
       "      <td>0.000000</td>\n",
       "      <td>4.000000</td>\n",
       "      <td>0.000000</td>\n",
       "      <td>1.000000</td>\n",
       "      <td>1.000000</td>\n",
       "      <td>0.000000</td>\n",
       "      <td>1.000000</td>\n",
       "      <td>0.000000</td>\n",
       "      <td>1.000000</td>\n",
       "      <td>...</td>\n",
       "      <td>16.000000</td>\n",
       "      <td>289.000000</td>\n",
       "      <td>9.000000</td>\n",
       "      <td>0.000000</td>\n",
       "      <td>0.000000</td>\n",
       "      <td>1.000000</td>\n",
       "      <td>0.111111</td>\n",
       "      <td>36.000000</td>\n",
       "      <td>289.000000</td>\n",
       "      <td>3.000000</td>\n",
       "    </tr>\n",
       "    <tr>\n",
       "      <th>50%</th>\n",
       "      <td>1.300000e+05</td>\n",
       "      <td>0.000000</td>\n",
       "      <td>5.000000</td>\n",
       "      <td>0.000000</td>\n",
       "      <td>1.000000</td>\n",
       "      <td>1.000000</td>\n",
       "      <td>0.000000</td>\n",
       "      <td>1.000000</td>\n",
       "      <td>0.000000</td>\n",
       "      <td>1.000000</td>\n",
       "      <td>...</td>\n",
       "      <td>36.000000</td>\n",
       "      <td>961.000000</td>\n",
       "      <td>16.000000</td>\n",
       "      <td>36.000000</td>\n",
       "      <td>1.000000</td>\n",
       "      <td>2.250000</td>\n",
       "      <td>0.444444</td>\n",
       "      <td>81.000000</td>\n",
       "      <td>961.000000</td>\n",
       "      <td>4.000000</td>\n",
       "    </tr>\n",
       "    <tr>\n",
       "      <th>75%</th>\n",
       "      <td>2.000000e+05</td>\n",
       "      <td>0.000000</td>\n",
       "      <td>6.000000</td>\n",
       "      <td>0.000000</td>\n",
       "      <td>1.000000</td>\n",
       "      <td>1.000000</td>\n",
       "      <td>0.000000</td>\n",
       "      <td>2.000000</td>\n",
       "      <td>1.000000</td>\n",
       "      <td>2.000000</td>\n",
       "      <td>...</td>\n",
       "      <td>121.000000</td>\n",
       "      <td>2601.000000</td>\n",
       "      <td>25.000000</td>\n",
       "      <td>81.000000</td>\n",
       "      <td>4.000000</td>\n",
       "      <td>4.000000</td>\n",
       "      <td>1.777778</td>\n",
       "      <td>134.560010</td>\n",
       "      <td>2601.000000</td>\n",
       "      <td>4.000000</td>\n",
       "    </tr>\n",
       "    <tr>\n",
       "      <th>max</th>\n",
       "      <td>2.353477e+06</td>\n",
       "      <td>1.000000</td>\n",
       "      <td>11.000000</td>\n",
       "      <td>1.000000</td>\n",
       "      <td>1.000000</td>\n",
       "      <td>1.000000</td>\n",
       "      <td>1.000000</td>\n",
       "      <td>6.000000</td>\n",
       "      <td>5.000000</td>\n",
       "      <td>8.000000</td>\n",
       "      <td>...</td>\n",
       "      <td>441.000000</td>\n",
       "      <td>9409.000000</td>\n",
       "      <td>169.000000</td>\n",
       "      <td>441.000000</td>\n",
       "      <td>81.000000</td>\n",
       "      <td>36.000000</td>\n",
       "      <td>64.000000</td>\n",
       "      <td>1369.000000</td>\n",
       "      <td>9409.000000</td>\n",
       "      <td>4.000000</td>\n",
       "    </tr>\n",
       "  </tbody>\n",
       "</table>\n",
       "<p>8 rows × 138 columns</p>\n",
       "</div>"
      ],
      "text/plain": [
       "               v2a1       hacdor        rooms       hacapo         v14a  \\\n",
       "count  2.697000e+03  9557.000000  9557.000000  9557.000000  9557.000000   \n",
       "mean   1.652316e+05     0.038087     4.955530     0.023648     0.994768   \n",
       "std    1.504571e+05     0.191417     1.468381     0.151957     0.072145   \n",
       "min    0.000000e+00     0.000000     1.000000     0.000000     0.000000   \n",
       "25%    8.000000e+04     0.000000     4.000000     0.000000     1.000000   \n",
       "50%    1.300000e+05     0.000000     5.000000     0.000000     1.000000   \n",
       "75%    2.000000e+05     0.000000     6.000000     0.000000     1.000000   \n",
       "max    2.353477e+06     1.000000    11.000000     1.000000     1.000000   \n",
       "\n",
       "            refrig         v18q        v18q1         r4h1         r4h2  ...  \\\n",
       "count  9557.000000  9557.000000  2215.000000  9557.000000  9557.000000  ...   \n",
       "mean      0.957623     0.231767     1.404063     0.385895     1.559171  ...   \n",
       "std       0.201459     0.421983     0.763131     0.680779     1.036574  ...   \n",
       "min       0.000000     0.000000     1.000000     0.000000     0.000000  ...   \n",
       "25%       1.000000     0.000000     1.000000     0.000000     1.000000  ...   \n",
       "50%       1.000000     0.000000     1.000000     0.000000     1.000000  ...   \n",
       "75%       1.000000     0.000000     2.000000     1.000000     2.000000  ...   \n",
       "max       1.000000     1.000000     6.000000     5.000000     8.000000  ...   \n",
       "\n",
       "       SQBescolari       SQBage  SQBhogar_total    SQBedjefe  SQBhogar_nin  \\\n",
       "count  9557.000000  9557.000000     9557.000000  9557.000000   9557.000000   \n",
       "mean     74.222769  1643.774302       19.132887    53.500262      3.844826   \n",
       "std      76.777549  1741.197050       18.751395    78.445804      6.946296   \n",
       "min       0.000000     0.000000        1.000000     0.000000      0.000000   \n",
       "25%      16.000000   289.000000        9.000000     0.000000      0.000000   \n",
       "50%      36.000000   961.000000       16.000000    36.000000      1.000000   \n",
       "75%     121.000000  2601.000000       25.000000    81.000000      4.000000   \n",
       "max     441.000000  9409.000000      169.000000   441.000000     81.000000   \n",
       "\n",
       "       SQBovercrowding  SQBdependency    SQBmeaned        agesq       Target  \n",
       "count      9557.000000    9557.000000  9552.000000  9557.000000  9557.000000  \n",
       "mean          3.249485       3.900409   102.588867  1643.774302     3.302292  \n",
       "std           4.129547      12.511831    93.516890  1741.197050     1.009565  \n",
       "min           0.040000       0.000000     0.000000     0.000000     1.000000  \n",
       "25%           1.000000       0.111111    36.000000   289.000000     3.000000  \n",
       "50%           2.250000       0.444444    81.000000   961.000000     4.000000  \n",
       "75%           4.000000       1.777778   134.560010  2601.000000     4.000000  \n",
       "max          36.000000      64.000000  1369.000000  9409.000000     4.000000  \n",
       "\n",
       "[8 rows x 138 columns]"
      ]
     },
     "execution_count": 4,
     "metadata": {},
     "output_type": "execute_result"
    }
   ],
   "source": [
    "p_train.describe()\n",
    "\n",
    "# There are many columns that are hot one encoded categorical features\n",
    "# Which is visible by their min, 75% and max values"
   ]
  },
  {
   "cell_type": "code",
   "execution_count": 5,
   "id": "e0c75aab",
   "metadata": {
    "colab": {
     "base_uri": "https://localhost:8080/"
    },
    "execution": {
     "iopub.execute_input": "2021-08-24T03:22:19.401727Z",
     "iopub.status.busy": "2021-08-24T03:22:19.401020Z",
     "iopub.status.idle": "2021-08-24T03:22:19.434180Z",
     "shell.execute_reply": "2021-08-24T03:22:19.433410Z",
     "shell.execute_reply.started": "2021-08-24T03:15:57.221263Z"
    },
    "executionInfo": {
     "elapsed": 535,
     "status": "ok",
     "timestamp": 1672001825685,
     "user": {
      "displayName": "marina wafeek",
      "userId": "08678773223737812097"
     },
     "user_tz": -120
    },
    "id": "e0c75aab",
    "outputId": "250eb709-f861-4a95-c1bd-f47f3a2495d9",
    "papermill": {
     "duration": 0.138667,
     "end_time": "2021-08-24T03:22:19.434363",
     "exception": false,
     "start_time": "2021-08-24T03:22:19.295696",
     "status": "completed"
    },
    "tags": []
   },
   "outputs": [
    {
     "name": "stdout",
     "output_type": "stream",
     "text": [
      "v2a1         6860\n",
      "v18q1        7342\n",
      "rez_esc      7928\n",
      "meaneduc        5\n",
      "SQBmeaned       5\n",
      "dtype: int32\n"
     ]
    }
   ],
   "source": [
    "cols_nan = p_train.isna().sum()\n",
    "print(cols_nan.where(cols_nan > 0).dropna().astype('int32'))\n",
    "\n",
    "# Only a few columns with missing data. Since there are 9557 entries total, the columns with over 6000 missing entries will likely be dropped\n",
    "# The columns with 5 missing entries will be further investigated"
   ]
  },
  {
   "cell_type": "code",
   "execution_count": 6,
   "id": "b33ab021",
   "metadata": {
    "execution": {
     "iopub.execute_input": "2021-08-24T03:22:20.093903Z",
     "iopub.status.busy": "2021-08-24T03:22:20.093108Z",
     "iopub.status.idle": "2021-08-24T03:22:20.100046Z",
     "shell.execute_reply": "2021-08-24T03:22:20.100721Z",
     "shell.execute_reply.started": "2021-08-24T03:15:57.451389Z"
    },
    "id": "b33ab021",
    "papermill": {
     "duration": 0.120895,
     "end_time": "2021-08-24T03:22:20.100937",
     "exception": false,
     "start_time": "2021-08-24T03:22:19.980042",
     "status": "completed"
    },
    "tags": []
   },
   "outputs": [],
   "source": [
    "# We can fill the NaN values as 0 for tipovivi1\n",
    "\n",
    "\n",
    "p_train.loc[(p_train['tipovivi1'] == 1), 'v2a1'] = 0\n",
    "p_test.loc[(p_test['tipovivi1'] == 1), 'v2a1'] = 0\n",
    "\n",
    "p_train['v2a1-missing'] = p_train['v2a1'].isnull()\n",
    "p_test['v2a1-missing'] = p_test['v2a1'].isnull()\n",
    "\n",
    "p_train['v2a1'].fillna(0, inplace=True)\n",
    "p_test['v2a1'].fillna(0, inplace=True)"
   ]
  },
  {
   "cell_type": "code",
   "execution_count": 7,
   "id": "bbcffd0f",
   "metadata": {
    "colab": {
     "base_uri": "https://localhost:8080/"
    },
    "execution": {
     "iopub.execute_input": "2021-08-24T03:22:21.736609Z",
     "iopub.status.busy": "2021-08-24T03:22:21.735876Z",
     "iopub.status.idle": "2021-08-24T03:22:21.747250Z",
     "shell.execute_reply": "2021-08-24T03:22:21.747808Z",
     "shell.execute_reply.started": "2021-08-24T03:15:58.376415Z"
    },
    "executionInfo": {
     "elapsed": 47,
     "status": "ok",
     "timestamp": 1672001826853,
     "user": {
      "displayName": "marina wafeek",
      "userId": "08678773223737812097"
     },
     "user_tz": -120
    },
    "id": "bbcffd0f",
    "outputId": "4202e5a1-54d6-4f0e-953a-6acd8522e61b",
    "papermill": {
     "duration": 0.118957,
     "end_time": "2021-08-24T03:22:21.747988",
     "exception": false,
     "start_time": "2021-08-24T03:22:21.629031",
     "status": "completed"
    },
    "tags": []
   },
   "outputs": [
    {
     "data": {
      "text/plain": [
       "count    1629.000000\n",
       "mean       12.258441\n",
       "std         3.218325\n",
       "min         7.000000\n",
       "25%         9.000000\n",
       "50%        12.000000\n",
       "75%        15.000000\n",
       "max        17.000000\n",
       "Name: age, dtype: float64"
      ]
     },
     "execution_count": 7,
     "metadata": {},
     "output_type": "execute_result"
    }
   ],
   "source": [
    "# The third feature with missing values is rez_esc\n",
    "# It represents the years behind in school the individual has\n",
    "# The most plausible hypothesis is that the NaN values represents individuals that are not behind in school\n",
    "\n",
    "p_train.loc[p_train['rez_esc'].notnull()]['age'].describe()"
   ]
  },
  {
   "cell_type": "code",
   "execution_count": 8,
   "id": "4ddbd6be",
   "metadata": {
    "colab": {
     "base_uri": "https://localhost:8080/"
    },
    "execution": {
     "iopub.execute_input": "2021-08-24T03:22:21.952434Z",
     "iopub.status.busy": "2021-08-24T03:22:21.951394Z",
     "iopub.status.idle": "2021-08-24T03:22:21.965930Z",
     "shell.execute_reply": "2021-08-24T03:22:21.966515Z",
     "shell.execute_reply.started": "2021-08-24T03:15:58.397029Z"
    },
    "executionInfo": {
     "elapsed": 40,
     "status": "ok",
     "timestamp": 1672001826854,
     "user": {
      "displayName": "marina wafeek",
      "userId": "08678773223737812097"
     },
     "user_tz": -120
    },
    "id": "4ddbd6be",
    "outputId": "a5528ce7-2cb3-4446-9e5a-bd28c536f956",
    "papermill": {
     "duration": 0.118466,
     "end_time": "2021-08-24T03:22:21.966705",
     "exception": false,
     "start_time": "2021-08-24T03:22:21.848239",
     "status": "completed"
    },
    "tags": []
   },
   "outputs": [
    {
     "data": {
      "text/plain": [
       "count    7928.000000\n",
       "mean       38.833249\n",
       "std        20.989486\n",
       "min         0.000000\n",
       "25%        24.000000\n",
       "50%        38.000000\n",
       "75%        54.000000\n",
       "max        97.000000\n",
       "Name: age, dtype: float64"
      ]
     },
     "execution_count": 8,
     "metadata": {},
     "output_type": "execute_result"
    }
   ],
   "source": [
    "p_train.loc[p_train['rez_esc'].isnull()]['age'].describe()\n",
    "\n",
    "# The competition describes the rez_esc feature only taking in consideration people between the ages 7-19\n",
    "# Anything under 7 or over 19 will be assumed to have no years behind in school"
   ]
  },
  {
   "cell_type": "code",
   "execution_count": 9,
   "id": "109bfda2",
   "metadata": {
    "execution": {
     "iopub.execute_input": "2021-08-24T03:22:22.173762Z",
     "iopub.status.busy": "2021-08-24T03:22:22.172759Z",
     "iopub.status.idle": "2021-08-24T03:22:22.192289Z",
     "shell.execute_reply": "2021-08-24T03:22:22.191698Z",
     "shell.execute_reply.started": "2021-08-24T03:15:58.416024Z"
    },
    "id": "109bfda2",
    "papermill": {
     "duration": 0.124618,
     "end_time": "2021-08-24T03:22:22.192462",
     "exception": false,
     "start_time": "2021-08-24T03:22:22.067844",
     "status": "completed"
    },
    "tags": []
   },
   "outputs": [],
   "source": [
    "p_train.loc[((p_train['age'] > 19) | (p_train['age'] < 7)) & (p_train['rez_esc'].isnull()), 'rez_esc'] = 0\n",
    "p_test.loc[((p_test['age'] > 19) | (p_test['age'] < 7)) & (p_test['rez_esc'].isnull()), 'rez_esc'] = 0\n",
    "\n",
    "# For those in the 7 to 19 range and still have missing value, it makes sense to imput with 0 as well\n",
    "# But its good practice to create the imputed flag column, to flag our assumption\n",
    "\n",
    "p_train['rez_esc-missing'] = p_train['rez_esc'].isnull()\n",
    "p_test['rez_esc-missing'] = p_test['rez_esc'].isnull()\n",
    "\n",
    "# Now that the flag column has been created, we can finish filling all the missing values\n",
    "\n",
    "p_train['rez_esc'].fillna(0, inplace=True)\n",
    "p_test['rez_esc'].fillna(0, inplace=True)\n",
    "\n",
    "# The competition also describes as the maximum years behind school is 5. So anything over it will be considered an outlier\n",
    "\n",
    "p_train.loc[p_train['rez_esc'] > 5, 'rez_esc'] = 5\n",
    "p_test.loc[p_test['rez_esc'] > 5, 'rez_esc'] = 5"
   ]
  },
  {
   "cell_type": "code",
   "execution_count": 10,
   "id": "4354ad82",
   "metadata": {
    "colab": {
     "base_uri": "https://localhost:8080/"
    },
    "execution": {
     "iopub.execute_input": "2021-08-24T03:22:22.405472Z",
     "iopub.status.busy": "2021-08-24T03:22:22.404809Z",
     "iopub.status.idle": "2021-08-24T03:22:22.420587Z",
     "shell.execute_reply": "2021-08-24T03:22:22.419981Z",
     "shell.execute_reply.started": "2021-08-24T03:15:58.436861Z"
    },
    "executionInfo": {
     "elapsed": 30,
     "status": "ok",
     "timestamp": 1672001826856,
     "user": {
      "displayName": "marina wafeek",
      "userId": "08678773223737812097"
     },
     "user_tz": -120
    },
    "id": "4354ad82",
    "outputId": "9f34987a-9bb6-4d31-8ad6-5dd53aa264eb",
    "papermill": {
     "duration": 0.123535,
     "end_time": "2021-08-24T03:22:22.420737",
     "exception": false,
     "start_time": "2021-08-24T03:22:22.297202",
     "status": "completed"
    },
    "tags": []
   },
   "outputs": [
    {
     "name": "stdout",
     "output_type": "stream",
     "text": [
      "v18q1        7342\n",
      "meaneduc        5\n",
      "SQBmeaned       5\n",
      "dtype: int32\n"
     ]
    }
   ],
   "source": [
    "cols_nan = p_train.isna().sum()\n",
    "print(cols_nan.where(cols_nan > 0).dropna().astype('int32'))\n",
    "\n",
    "# Now all thats left is meaneduc and SQBmeaned\n",
    "# meaneduc shows the average years of education on adults (18+)\n",
    "# SQBmeaned shows the square of the mean years of education of adults (18+) in the household"
   ]
  },
  {
   "cell_type": "code",
   "execution_count": 11,
   "id": "21a3bf52",
   "metadata": {
    "colab": {
     "base_uri": "https://localhost:8080/"
    },
    "execution": {
     "iopub.execute_input": "2021-08-24T03:22:22.631129Z",
     "iopub.status.busy": "2021-08-24T03:22:22.630138Z",
     "iopub.status.idle": "2021-08-24T03:22:22.648718Z",
     "shell.execute_reply": "2021-08-24T03:22:22.649275Z",
     "shell.execute_reply.started": "2021-08-24T03:15:58.460091Z"
    },
    "executionInfo": {
     "elapsed": 25,
     "status": "ok",
     "timestamp": 1672001826857,
     "user": {
      "displayName": "marina wafeek",
      "userId": "08678773223737812097"
     },
     "user_tz": -120
    },
    "id": "21a3bf52",
    "outputId": "b1e96931-9ae4-4c7e-eb4e-2906e0578bda",
    "papermill": {
     "duration": 0.125232,
     "end_time": "2021-08-24T03:22:22.649466",
     "exception": false,
     "start_time": "2021-08-24T03:22:22.524234",
     "status": "completed"
    },
    "tags": []
   },
   "outputs": [
    {
     "name": "stdout",
     "output_type": "stream",
     "text": [
      "Int64Index([1291, 1840, 1841, 2049, 2050], dtype='int64')\n",
      "Int64Index([1291, 1840, 1841, 2049, 2050], dtype='int64')\n",
      "-------------------------\n",
      "a874b7ce7    2\n",
      "faaebf71a    2\n",
      "1b31fd159    1\n",
      "Name: idhogar, dtype: int64\n",
      "-------------------------\n",
      "      age\n",
      "1291   18\n",
      "1840   18\n",
      "1841   18\n",
      "2049   19\n",
      "2050   19\n"
     ]
    }
   ],
   "source": [
    "# First lets check if the NaN values in both columns correspond to the same indexes\n",
    "\n",
    "nan_index = p_train[p_train['meaneduc'].isna()].index\n",
    "print(nan_index)\n",
    "print(p_train[p_train['SQBmeaned'].isna()].index)\n",
    "\n",
    "# Same indexes, so they refer to the same individuals\n",
    "\n",
    "house_with_nan = p_train.loc[p_train['meaneduc'].isnull(), 'idhogar'].value_counts()\n",
    "\n",
    "print('-'*25)\n",
    "print(house_with_nan)\n",
    "\n",
    "print('-'*25)\n",
    "print(p_train.loc[p_train['idhogar'].isin(house_with_nan.index), ['age']])\n",
    "\n",
    "# All individuals with null values are 18 or 19 years old\n",
    "# They are the only individuals in the household\n",
    "\n"
   ]
  },
  {
   "cell_type": "code",
   "execution_count": 12,
   "id": "767eaddc",
   "metadata": {
    "colab": {
     "base_uri": "https://localhost:8080/",
     "height": 454
    },
    "execution": {
     "iopub.execute_input": "2021-08-24T03:22:22.908273Z",
     "iopub.status.busy": "2021-08-24T03:22:22.907530Z",
     "iopub.status.idle": "2021-08-24T03:22:23.129310Z",
     "shell.execute_reply": "2021-08-24T03:22:23.129809Z",
     "shell.execute_reply.started": "2021-08-24T03:15:58.482630Z"
    },
    "executionInfo": {
     "elapsed": 878,
     "status": "ok",
     "timestamp": 1672001827717,
     "user": {
      "displayName": "marina wafeek",
      "userId": "08678773223737812097"
     },
     "user_tz": -120
    },
    "id": "767eaddc",
    "outputId": "299f0979-ea75-42b8-8d0b-62116132144b",
    "papermill": {
     "duration": 0.374104,
     "end_time": "2021-08-24T03:22:23.130003",
     "exception": false,
     "start_time": "2021-08-24T03:22:22.755899",
     "status": "completed"
    },
    "tags": []
   },
   "outputs": [
    {
     "data": {
      "image/png": "[encoded data removed]",
      "text/plain": [
       "<Figure size 504x360 with 1 Axes>"
      ]
     },
     "metadata": {
      "needs_background": "light"
     },
     "output_type": "display_data"
    }
   ],
   "source": [
    "# Lets check the level of education of these 5 individuals\n",
    "\n",
    "edu_series = p_train.columns.to_series().str.contains('instlevel')\n",
    "edu_var = edu_series.where(edu_series != False).dropna().index.to_list()\n",
    "\n",
    "p_train.loc[p_train['meaneduc'].isnull(), edu_var].sum().plot.bar(figsize = (7, 5))\n",
    "plt.xticks([0, 1, 2, 3, 4, 5, 6, 7, 8],\n",
    "           ['No Education', 'Incomplete Primary', 'Complete Primary', 'Incomplete Second Level', 'Complete Second Level', 'Incomplete Technical Level', 'Complete Technical Level', 'Undergraduated and Higher', 'Postgraduate and Higher'],\n",
    "          rotation = 60)\n",
    "plt.title('Level of education of individuals with NaN meaneduc value', size = 15);\n",
    "\n",
    "# So we have a variety of education levels to these 5 individuals"
   ]
  },
  {
   "cell_type": "code",
   "execution_count": 13,
   "id": "9ba10354",
   "metadata": {
    "execution": {
     "iopub.execute_input": "2021-08-24T03:22:23.344859Z",
     "iopub.status.busy": "2021-08-24T03:22:23.344192Z",
     "iopub.status.idle": "2021-08-24T03:22:23.350870Z",
     "shell.execute_reply": "2021-08-24T03:22:23.351380Z",
     "shell.execute_reply.started": "2021-08-24T03:15:59.138848Z"
    },
    "id": "9ba10354",
    "papermill": {
     "duration": 0.116903,
     "end_time": "2021-08-24T03:22:23.351566",
     "exception": false,
     "start_time": "2021-08-24T03:22:23.234663",
     "status": "completed"
    },
    "tags": []
   },
   "outputs": [],
   "source": [
    "# For each of them, we'll impute the median value for that specific education level\n",
    "\n",
    "def impute_median(index, df):\n",
    "    \n",
    "    df_t = (df.loc[df.index == index, edu_var]).transpose()\n",
    "    instlevel = df_t[df_t == 1].dropna().index.values\n",
    "    \n",
    "    \n",
    "    mdmed = df.loc[df[instlevel[0]] == 1, 'meaneduc'].median()\n",
    "    sqmed = df.loc[df[instlevel[0]] == 1, 'SQBmeaned'].median()\n",
    "        \n",
    "    df.loc[df.index == index, 'meaneduc'] = mdmed\n",
    "    df.loc[df.index == index, 'SQBmeaned'] = sqmed"
   ]
  },
  {
   "cell_type": "code",
   "execution_count": 14,
   "id": "35acf2da",
   "metadata": {
    "execution": {
     "iopub.execute_input": "2021-08-24T03:22:23.561814Z",
     "iopub.status.busy": "2021-08-24T03:22:23.561092Z",
     "iopub.status.idle": "2021-08-24T03:22:23.852885Z",
     "shell.execute_reply": "2021-08-24T03:22:23.852295Z",
     "shell.execute_reply.started": "2021-08-24T03:15:59.148828Z"
    },
    "id": "35acf2da",
    "papermill": {
     "duration": 0.397719,
     "end_time": "2021-08-24T03:22:23.853026",
     "exception": false,
     "start_time": "2021-08-24T03:22:23.455307",
     "status": "completed"
    },
    "tags": []
   },
   "outputs": [],
   "source": [
    "for df in [p_train, p_test]: \n",
    "    nan_index = df[df['meaneduc'].isna()].index\n",
    "    for j in nan_index:\n",
    "        impute_median(j, df)"
   ]
  },
  {
   "cell_type": "code",
   "execution_count": 15,
   "id": "78d80856",
   "metadata": {
    "colab": {
     "base_uri": "https://localhost:8080/"
    },
    "execution": {
     "iopub.execute_input": "2021-08-24T03:22:24.070485Z",
     "iopub.status.busy": "2021-08-24T03:22:24.069770Z",
     "iopub.status.idle": "2021-08-24T03:22:24.085817Z",
     "shell.execute_reply": "2021-08-24T03:22:24.086633Z",
     "shell.execute_reply.started": "2021-08-24T03:15:59.460141Z"
    },
    "executionInfo": {
     "elapsed": 42,
     "status": "ok",
     "timestamp": 1672001827720,
     "user": {
      "displayName": "marina wafeek",
      "userId": "08678773223737812097"
     },
     "user_tz": -120
    },
    "id": "78d80856",
    "outputId": "1a7507d7-8d25-477d-a1a3-14116bb2a433",
    "papermill": {
     "duration": 0.128117,
     "end_time": "2021-08-24T03:22:24.086858",
     "exception": false,
     "start_time": "2021-08-24T03:22:23.958741",
     "status": "completed"
    },
    "tags": []
   },
   "outputs": [
    {
     "name": "stdout",
     "output_type": "stream",
     "text": [
      "v18q1    7342\n",
      "dtype: int32\n"
     ]
    }
   ],
   "source": [
    "cols_nan = p_train.isna().sum()\n",
    "print(cols_nan.where(cols_nan > 0).dropna().astype('int32'))\n",
    "\n",
    "# All NaN values in the dataset has been dealt with"
   ]
  },
  {
   "cell_type": "code",
   "execution_count": 16,
   "id": "4fa29982",
   "metadata": {
    "colab": {
     "base_uri": "https://localhost:8080/"
    },
    "execution": {
     "iopub.execute_input": "2021-08-24T03:22:24.359731Z",
     "iopub.status.busy": "2021-08-24T03:22:24.358940Z",
     "iopub.status.idle": "2021-08-24T03:22:25.183255Z",
     "shell.execute_reply": "2021-08-24T03:22:25.183985Z",
     "shell.execute_reply.started": "2021-08-24T03:15:59.477236Z"
    },
    "executionInfo": {
     "elapsed": 29,
     "status": "ok",
     "timestamp": 1672001827721,
     "user": {
      "displayName": "marina wafeek",
      "userId": "08678773223737812097"
     },
     "user_tz": -120
    },
    "id": "4fa29982",
    "outputId": "2fbb81ee-192d-4234-e083-cbdc7d094c38",
    "papermill": {
     "duration": 0.939018,
     "end_time": "2021-08-24T03:22:25.184255",
     "exception": false,
     "start_time": "2021-08-24T03:22:24.245237",
     "status": "completed"
    },
    "tags": []
   },
   "outputs": [
    {
     "name": "stdout",
     "output_type": "stream",
     "text": [
      "idhogar\n",
      "001ff74ca    True\n",
      "003123ec2    True\n",
      "004616164    True\n",
      "004983866    True\n",
      "005905417    True\n",
      "             ... \n",
      "ff9343a35    True\n",
      "ff9d5ab17    True\n",
      "ffae4a097    True\n",
      "ffe90d46f    True\n",
      "fff7d6be1    True\n",
      "Name: Target, Length: 2988, dtype: bool\n",
      "-------------------------\n",
      "85\n",
      "-------------------------\n",
      "2973\n",
      "-------------------------\n",
      "0\n"
     ]
    }
   ],
   "source": [
    "# In the dataframe, each column represents one individual. The predictions must be made based on households\n",
    "# Each individual has its household identified by the idhogar column, and the head of the household is identified as parentesco1 = 1\n",
    "# Every individual in a same household must share the same Target feature in the train database, since its household based\n",
    "\n",
    "check_target = p_train.groupby('idhogar')['Target'].apply(lambda x: x.nunique() == 1)\n",
    "print(check_target)\n",
    "print('-'*25)\n",
    "dif_target = check_target[check_target != True] \n",
    "print(len(dif_target))\n",
    "print('-'*25)\n",
    "print(p_train['parentesco1'].sum())\n",
    "print('-'*25)\n",
    "print(p_train.groupby('idhogar')['parentesco1'].apply(lambda x: x.sum() > 1).sum())\n",
    "# There are 2988 total households in the dataset\n",
    "# 85 of these households have more than 1 target value for the residents\n",
    "# There are 2988 different households and 2973 heads, so we have 15 households without a household head\n",
    "# There are no household with multiple heads"
   ]
  },
  {
   "cell_type": "code",
   "execution_count": 17,
   "id": "0c1befdf",
   "metadata": {
    "execution": {
     "iopub.execute_input": "2021-08-24T03:22:27.296001Z",
     "iopub.status.busy": "2021-08-24T03:22:27.295327Z",
     "iopub.status.idle": "2021-08-24T03:22:27.316823Z",
     "shell.execute_reply": "2021-08-24T03:22:27.317388Z",
     "shell.execute_reply.started": "2021-08-24T03:16:01.685008Z"
    },
    "id": "0c1befdf",
    "papermill": {
     "duration": 0.130718,
     "end_time": "2021-08-24T03:22:27.317576",
     "exception": false,
     "start_time": "2021-08-24T03:22:27.186858",
     "status": "completed"
    },
    "tags": []
   },
   "outputs": [],
   "source": [
    "# There are a series of squared feature columns\n",
    "# These can be useful when using a simple linear model, but to more complex models, it tends to be prejudicial by making the model overfit\n",
    "# So these features will be dropped\n",
    "\n",
    "SQBcol = ['SQBescolari', 'SQBage', 'SQBhogar_total', 'SQBedjefe', 'SQBhogar_nin', 'SQBovercrowding', 'SQBdependency', 'SQBmeaned', 'agesq']\n",
    "train = p_train.drop(SQBcol, axis=1)\n",
    "test = p_test.drop(SQBcol, axis=1)"
   ]
  },
  {
   "cell_type": "code",
   "execution_count": 18,
   "id": "4787837a",
   "metadata": {
    "execution": {
     "iopub.execute_input": "2021-08-24T03:22:27.533418Z",
     "iopub.status.busy": "2021-08-24T03:22:27.532666Z",
     "iopub.status.idle": "2021-08-24T03:22:27.537801Z",
     "shell.execute_reply": "2021-08-24T03:22:27.538372Z",
     "shell.execute_reply.started": "2021-08-24T03:16:01.720985Z"
    },
    "id": "4787837a",
    "papermill": {
     "duration": 0.113152,
     "end_time": "2021-08-24T03:22:27.538565",
     "exception": false,
     "start_time": "2021-08-24T03:22:27.425413",
     "status": "completed"
    },
    "tags": []
   },
   "outputs": [],
   "source": [
    "# There are many columns that are one hot encoded features, and others that are clearly correlated\n",
    "# For the hot one encoded, we'll try to create a single ordinal column, when we can define a clear order for the values\n",
    "# We'll also focus on features house related, since the resident related must be aggregated into house related as well\n",
    "\n",
    "def mc(dic, colname):\n",
    "    for df in [train, test]:\n",
    "        for i in dic:\n",
    "            df.loc[df[i] == 1, colname] = dic[i]"
   ]
  },
  {
   "cell_type": "code",
   "execution_count": 19,
   "id": "d355230a",
   "metadata": {
    "execution": {
     "iopub.execute_input": "2021-08-24T03:22:28.403443Z",
     "iopub.status.busy": "2021-08-24T03:22:28.402730Z",
     "iopub.status.idle": "2021-08-24T03:22:28.515397Z",
     "shell.execute_reply": "2021-08-24T03:22:28.514021Z",
     "shell.execute_reply.started": "2021-08-24T03:16:01.947875Z"
    },
    "id": "d355230a",
    "papermill": {
     "duration": 0.224286,
     "end_time": "2021-08-24T03:22:28.515566",
     "exception": false,
     "start_time": "2021-08-24T03:22:28.291280",
     "status": "completed"
    },
    "tags": []
   },
   "outputs": [],
   "source": [
    "# Now for the floor type columns\n",
    "\n",
    "train['floortype'] = 0\n",
    "test['floortype'] = 0\n",
    "\n",
    "floor_dt = {\n",
    "    'pisonotiene': 1,\n",
    "    'pisoother': 2,\n",
    "    'pisonatur': 2,\n",
    "    'pisocemento': 3,\n",
    "    'pisomadera': 4,\n",
    "    'pisomoscer': 5,  \n",
    "}\n",
    "\n",
    "mc(floor_dt, 'floortype')\n",
    "\n",
    "for i in floor_dt:\n",
    "    train = train.drop(i, axis=1)\n",
    "    test = test.drop(i, axis=1)\n",
    "    \n",
    "# The number of entries that matches pisoother, pisonatur and pisonotiene are too few\n",
    "# Since all of them represent low quality floor, to avoid overfitting they will be joined in a single category"
   ]
  },
  {
   "cell_type": "code",
   "execution_count": 20,
   "id": "a5ce9f9c",
   "metadata": {
    "execution": {
     "iopub.execute_input": "2021-08-24T03:22:29.056315Z",
     "iopub.status.busy": "2021-08-24T03:22:29.054201Z",
     "iopub.status.idle": "2021-08-24T03:22:29.175889Z",
     "shell.execute_reply": "2021-08-24T03:22:29.174220Z",
     "shell.execute_reply.started": "2021-08-24T03:16:02.124195Z"
    },
    "id": "a5ce9f9c",
    "papermill": {
     "duration": 0.267066,
     "end_time": "2021-08-24T03:22:29.176068",
     "exception": false,
     "start_time": "2021-08-24T03:22:28.909002",
     "status": "completed"
    },
    "tags": []
   },
   "outputs": [],
   "source": [
    "# Now for the roof\n",
    "\n",
    "# cielorazo gives 1 if a house HAS a roof. We want a column that is True when it DOES NOT\n",
    "\n",
    "train['nothaveroof'] = 0\n",
    "train.loc[train['cielorazo'] == 0, 'nothaveroof'] = 1\n",
    "train = train.drop('cielorazo', axis=1)\n",
    "\n",
    "test['nothaveroof'] = 0\n",
    "test.loc[test['cielorazo'] == 0, 'nothaveroof'] = 1\n",
    "test = test.drop('cielorazo', axis=1)\n",
    "\n",
    "\n",
    "train['rooftype'] = 0\n",
    "test['rooftype'] = 0\n",
    "\n",
    "roof_dt = {\n",
    "    'nothaveroof': 1,\n",
    "    'techootro': 2,\n",
    "    'techocane': 2,\n",
    "    'techoentrepiso': 3,\n",
    "    'techozinc': 4\n",
    "}\n",
    "\n",
    "mc(roof_dt, 'rooftype')\n",
    "\n",
    "for i in roof_dt:\n",
    "    train = train.drop(i, axis=1)\n",
    "    test = test.drop(i, axis=1)\n",
    "\n",
    "# The number of entries that matches techootro and techocane are too few\n",
    "# Since all of them represent low quality ceiling, to avoid overfitting they will be joined in a single category"
   ]
  },
  {
   "cell_type": "code",
   "execution_count": 21,
   "id": "e986d7ba",
   "metadata": {
    "execution": {
     "iopub.execute_input": "2021-08-24T03:22:29.683257Z",
     "iopub.status.busy": "2021-08-24T03:22:29.682263Z",
     "iopub.status.idle": "2021-08-24T03:22:29.737975Z",
     "shell.execute_reply": "2021-08-24T03:22:29.737235Z",
     "shell.execute_reply.started": "2021-08-24T03:16:02.307920Z"
    },
    "id": "e986d7ba",
    "papermill": {
     "duration": 0.173499,
     "end_time": "2021-08-24T03:22:29.738164",
     "exception": false,
     "start_time": "2021-08-24T03:22:29.564665",
     "status": "completed"
    },
    "tags": []
   },
   "outputs": [],
   "source": [
    "# Now for water provision\n",
    "\n",
    "train['waterprov'] = 0\n",
    "test['waterprov'] = 0\n",
    "\n",
    "water_dt = {\n",
    "    'abastaguano' : 1,\n",
    "    'abastaguafuera' : 2,\n",
    "    'abastaguadentro' : 3\n",
    "}\n",
    "  \n",
    "mc(water_dt, 'waterprov')\n",
    "\n",
    "for i in water_dt:\n",
    "    train = train.drop(i, axis=1)\n",
    "    test = test.drop(i, axis=1)\n",
    "    \n"
   ]
  },
  {
   "cell_type": "code",
   "execution_count": 22,
   "id": "e63a3340",
   "metadata": {
    "execution": {
     "iopub.execute_input": "2021-08-24T03:22:29.968286Z",
     "iopub.status.busy": "2021-08-24T03:22:29.967493Z",
     "iopub.status.idle": "2021-08-24T03:22:30.039736Z",
     "shell.execute_reply": "2021-08-24T03:22:30.039018Z",
     "shell.execute_reply.started": "2021-08-24T03:16:02.370934Z"
    },
    "id": "e63a3340",
    "papermill": {
     "duration": 0.193092,
     "end_time": "2021-08-24T03:22:30.039891",
     "exception": false,
     "start_time": "2021-08-24T03:22:29.846799",
     "status": "completed"
    },
    "tags": []
   },
   "outputs": [],
   "source": [
    "# Electricity Source\n",
    "\n",
    "train['elecsource'] = 0\n",
    "test['elecsource'] = 0\n",
    "\n",
    "elec_dt = {\n",
    "    'noelec' : 1,\n",
    "    'planpri' : 2,\n",
    "    'coopele' : 2,\n",
    "    'public' : 3,\n",
    "}\n",
    "  \n",
    "mc(elec_dt, 'elecsource')\n",
    "\n",
    "for i in elec_dt:\n",
    "    train = train.drop(i, axis=1)\n",
    "    test = test.drop(i, axis=1)"
   ]
  },
  {
   "cell_type": "code",
   "execution_count": 23,
   "id": "f3fef3b5",
   "metadata": {
    "execution": {
     "iopub.execute_input": "2021-08-24T03:22:30.267590Z",
     "iopub.status.busy": "2021-08-24T03:22:30.266194Z",
     "iopub.status.idle": "2021-08-24T03:22:30.346338Z",
     "shell.execute_reply": "2021-08-24T03:22:30.345742Z",
     "shell.execute_reply.started": "2021-08-24T03:16:02.445894Z"
    },
    "id": "f3fef3b5",
    "papermill": {
     "duration": 0.198135,
     "end_time": "2021-08-24T03:22:30.346507",
     "exception": false,
     "start_time": "2021-08-24T03:22:30.148372",
     "status": "completed"
    },
    "tags": []
   },
   "outputs": [],
   "source": [
    "# Toilet Dwelling\n",
    "\n",
    "train['toiletdwel'] = 0\n",
    "test['toiletdwel'] = 0\n",
    "\n",
    "toilet_dt = {\n",
    "    'sanitario1' : 1,\n",
    "    'sanitario5' : 2,\n",
    "    'sanitario6' : 3,\n",
    "    'sanitario3' : 3,\n",
    "    'sanitario2' : 4\n",
    "}\n",
    "  \n",
    "mc(toilet_dt, 'toiletdwel')\n",
    "\n",
    "for i in toilet_dt:\n",
    "    train = train.drop(i, axis=1)\n",
    "    test = test.drop(i, axis=1)"
   ]
  },
  {
   "cell_type": "code",
   "execution_count": 24,
   "id": "66d1a74c",
   "metadata": {
    "execution": {
     "iopub.execute_input": "2021-08-24T03:22:30.569039Z",
     "iopub.status.busy": "2021-08-24T03:22:30.568092Z",
     "iopub.status.idle": "2021-08-24T03:22:30.632090Z",
     "shell.execute_reply": "2021-08-24T03:22:30.631566Z",
     "shell.execute_reply.started": "2021-08-24T03:16:02.527348Z"
    },
    "id": "66d1a74c",
    "papermill": {
     "duration": 0.180537,
     "end_time": "2021-08-24T03:22:30.632260",
     "exception": false,
     "start_time": "2021-08-24T03:22:30.451723",
     "status": "completed"
    },
    "tags": []
   },
   "outputs": [],
   "source": [
    "# Cooking Energy Source\n",
    "\n",
    "train['cookingsource'] = 0\n",
    "test['cookingsource'] = 0\n",
    "\n",
    "cook_dt = {\n",
    "    'energcocinar1' : 1,\n",
    "    'energcocinar4' : 2,\n",
    "    'energcocinar3' : 3,\n",
    "    'energcocinar2' : 4,\n",
    "}\n",
    "  \n",
    "mc(cook_dt, 'cookingsource')\n",
    "\n",
    "for i in cook_dt:\n",
    "    train = train.drop(i, axis=1)\n",
    "    test = test.drop(i, axis=1)\n",
    "    "
   ]
  },
  {
   "cell_type": "code",
   "execution_count": 25,
   "id": "d0a1c88f",
   "metadata": {
    "execution": {
     "iopub.execute_input": "2021-08-24T03:22:30.857632Z",
     "iopub.status.busy": "2021-08-24T03:22:30.856924Z",
     "iopub.status.idle": "2021-08-24T03:22:30.943708Z",
     "shell.execute_reply": "2021-08-24T03:22:30.943127Z",
     "shell.execute_reply.started": "2021-08-24T03:16:02.595128Z"
    },
    "id": "d0a1c88f",
    "papermill": {
     "duration": 0.20518,
     "end_time": "2021-08-24T03:22:30.943877",
     "exception": false,
     "start_time": "2021-08-24T03:22:30.738697",
     "status": "completed"
    },
    "tags": []
   },
   "outputs": [],
   "source": [
    "# Rubbish Disposal\n",
    "\n",
    "train['rubbishdisp'] = 0\n",
    "test['rubbishdisp'] = 0\n",
    "\n",
    "rubbish_dt = {\n",
    "    'elimbasu6' : 1,\n",
    "    'elimbasu5' : 2,\n",
    "    'elimbasu4' : 1,\n",
    "    'elimbasu3' : 3,\n",
    "    'elimbasu2' : 1,\n",
    "    'elimbasu1' : 4\n",
    "}\n",
    "  \n",
    "mc(rubbish_dt, 'rubbishdisp')\n",
    "\n",
    "for i in rubbish_dt:\n",
    "    train = train.drop(i, axis=1)\n",
    "    test = test.drop(i, axis=1)"
   ]
  },
  {
   "cell_type": "code",
   "execution_count": 26,
   "id": "d679546c",
   "metadata": {
    "execution": {
     "iopub.execute_input": "2021-08-24T03:22:31.166298Z",
     "iopub.status.busy": "2021-08-24T03:22:31.165584Z",
     "iopub.status.idle": "2021-08-24T03:22:31.239726Z",
     "shell.execute_reply": "2021-08-24T03:22:31.239128Z",
     "shell.execute_reply.started": "2021-08-24T03:16:02.685812Z"
    },
    "id": "d679546c",
    "papermill": {
     "duration": 0.186297,
     "end_time": "2021-08-24T03:22:31.239883",
     "exception": false,
     "start_time": "2021-08-24T03:22:31.053586",
     "status": "completed"
    },
    "tags": []
   },
   "outputs": [],
   "source": [
    "# Own House Status\n",
    "\n",
    "# This feature will be divided into owned or not, and the precarious feature will remain as a separated one\n",
    "\n",
    "train = train.rename(columns = {'tipovivi4': 'isprecarious'})\n",
    "test = test.rename(columns = {'tipovivi4': 'isprecarious'})\n",
    "\n",
    "                     \n",
    "train['houseowned'] = 0\n",
    "test['houseowned'] = 0\n",
    "\n",
    "houseown_dt = {\n",
    "    'tipovivi5' : 0,\n",
    "    'tipovivi3' : 0,\n",
    "    'tipovivi2' : 1,\n",
    "    'tipovivi1' : 1,\n",
    "}\n",
    "  \n",
    "mc(houseown_dt, 'houseowned')\n",
    "\n",
    "for i in houseown_dt:\n",
    "    train = train.drop(i, axis=1)\n",
    "    test = test.drop(i, axis=1)"
   ]
  },
  {
   "cell_type": "code",
   "execution_count": 27,
   "id": "4b352f70",
   "metadata": {
    "execution": {
     "iopub.execute_input": "2021-08-24T03:22:31.769608Z",
     "iopub.status.busy": "2021-08-24T03:22:31.767931Z",
     "iopub.status.idle": "2021-08-24T03:22:31.790233Z",
     "shell.execute_reply": "2021-08-24T03:22:31.789646Z",
     "shell.execute_reply.started": "2021-08-24T03:16:02.853501Z"
    },
    "id": "4b352f70",
    "papermill": {
     "duration": 0.135963,
     "end_time": "2021-08-24T03:22:31.790385",
     "exception": false,
     "start_time": "2021-08-24T03:22:31.654422",
     "status": "completed"
    },
    "tags": []
   },
   "outputs": [],
   "source": [
    "# Removing reduntant area column\n",
    "\n",
    "train = train.rename(columns = {'area1': 'isurban'})\n",
    "test = test.rename(columns = {'area1': 'isurban'})\n",
    "\n",
    "train = train.drop('area2', axis=1)\n",
    "test = test.drop('area2', axis=1)"
   ]
  },
  {
   "cell_type": "code",
   "execution_count": 28,
   "id": "68248a7e",
   "metadata": {
    "colab": {
     "base_uri": "https://localhost:8080/",
     "height": 299
    },
    "execution": {
     "iopub.execute_input": "2021-08-24T03:22:32.061044Z",
     "iopub.status.busy": "2021-08-24T03:22:32.060016Z",
     "iopub.status.idle": "2021-08-24T03:22:32.066158Z",
     "shell.execute_reply": "2021-08-24T03:22:32.065474Z",
     "shell.execute_reply.started": "2021-08-24T03:16:02.877288Z"
    },
    "executionInfo": {
     "elapsed": 56,
     "status": "ok",
     "timestamp": 1672001830039,
     "user": {
      "displayName": "marina wafeek",
      "userId": "08678773223737812097"
     },
     "user_tz": -120
    },
    "id": "68248a7e",
    "outputId": "55ec7e22-4029-4266-a25b-2cef3188434f",
    "papermill": {
     "duration": 0.16809,
     "end_time": "2021-08-24T03:22:32.066309",
     "exception": false,
     "start_time": "2021-08-24T03:22:31.898219",
     "status": "completed"
    },
    "tags": []
   },
   "outputs": [
    {
     "data": {
      "text/html": [
       "<div>\n",
       "<style scoped>\n",
       "    .dataframe tbody tr th:only-of-type {\n",
       "        vertical-align: middle;\n",
       "    }\n",
       "\n",
       "    .dataframe tbody tr th {\n",
       "        vertical-align: top;\n",
       "    }\n",
       "\n",
       "    .dataframe thead th {\n",
       "        text-align: right;\n",
       "    }\n",
       "</style>\n",
       "<table border=\"1\" class=\"dataframe\">\n",
       "  <thead>\n",
       "    <tr style=\"text-align: right;\">\n",
       "      <th></th>\n",
       "      <th>Id</th>\n",
       "      <th>v2a1</th>\n",
       "      <th>hacdor</th>\n",
       "      <th>rooms</th>\n",
       "      <th>hacapo</th>\n",
       "      <th>v14a</th>\n",
       "      <th>refrig</th>\n",
       "      <th>v18q</th>\n",
       "      <th>v18q1</th>\n",
       "      <th>r4h1</th>\n",
       "      <th>...</th>\n",
       "      <th>v2a1-missing</th>\n",
       "      <th>rez_esc-missing</th>\n",
       "      <th>floortype</th>\n",
       "      <th>rooftype</th>\n",
       "      <th>waterprov</th>\n",
       "      <th>elecsource</th>\n",
       "      <th>toiletdwel</th>\n",
       "      <th>cookingsource</th>\n",
       "      <th>rubbishdisp</th>\n",
       "      <th>houseowned</th>\n",
       "    </tr>\n",
       "  </thead>\n",
       "  <tbody>\n",
       "    <tr>\n",
       "      <th>0</th>\n",
       "      <td>ID_279628684</td>\n",
       "      <td>190000.0</td>\n",
       "      <td>0</td>\n",
       "      <td>3</td>\n",
       "      <td>0</td>\n",
       "      <td>1</td>\n",
       "      <td>1</td>\n",
       "      <td>0</td>\n",
       "      <td>NaN</td>\n",
       "      <td>0</td>\n",
       "      <td>...</td>\n",
       "      <td>False</td>\n",
       "      <td>False</td>\n",
       "      <td>5</td>\n",
       "      <td>3</td>\n",
       "      <td>3</td>\n",
       "      <td>3</td>\n",
       "      <td>4</td>\n",
       "      <td>3</td>\n",
       "      <td>4</td>\n",
       "      <td>0</td>\n",
       "    </tr>\n",
       "    <tr>\n",
       "      <th>1</th>\n",
       "      <td>ID_f29eb3ddd</td>\n",
       "      <td>135000.0</td>\n",
       "      <td>0</td>\n",
       "      <td>4</td>\n",
       "      <td>0</td>\n",
       "      <td>1</td>\n",
       "      <td>1</td>\n",
       "      <td>1</td>\n",
       "      <td>1.0</td>\n",
       "      <td>0</td>\n",
       "      <td>...</td>\n",
       "      <td>False</td>\n",
       "      <td>False</td>\n",
       "      <td>4</td>\n",
       "      <td>4</td>\n",
       "      <td>3</td>\n",
       "      <td>3</td>\n",
       "      <td>4</td>\n",
       "      <td>4</td>\n",
       "      <td>4</td>\n",
       "      <td>0</td>\n",
       "    </tr>\n",
       "    <tr>\n",
       "      <th>2</th>\n",
       "      <td>ID_68de51c94</td>\n",
       "      <td>0.0</td>\n",
       "      <td>0</td>\n",
       "      <td>8</td>\n",
       "      <td>0</td>\n",
       "      <td>1</td>\n",
       "      <td>1</td>\n",
       "      <td>0</td>\n",
       "      <td>NaN</td>\n",
       "      <td>0</td>\n",
       "      <td>...</td>\n",
       "      <td>False</td>\n",
       "      <td>False</td>\n",
       "      <td>5</td>\n",
       "      <td>4</td>\n",
       "      <td>3</td>\n",
       "      <td>3</td>\n",
       "      <td>4</td>\n",
       "      <td>4</td>\n",
       "      <td>4</td>\n",
       "      <td>1</td>\n",
       "    </tr>\n",
       "    <tr>\n",
       "      <th>3</th>\n",
       "      <td>ID_d671db89c</td>\n",
       "      <td>180000.0</td>\n",
       "      <td>0</td>\n",
       "      <td>5</td>\n",
       "      <td>0</td>\n",
       "      <td>1</td>\n",
       "      <td>1</td>\n",
       "      <td>1</td>\n",
       "      <td>1.0</td>\n",
       "      <td>0</td>\n",
       "      <td>...</td>\n",
       "      <td>False</td>\n",
       "      <td>False</td>\n",
       "      <td>5</td>\n",
       "      <td>4</td>\n",
       "      <td>3</td>\n",
       "      <td>3</td>\n",
       "      <td>4</td>\n",
       "      <td>4</td>\n",
       "      <td>4</td>\n",
       "      <td>0</td>\n",
       "    </tr>\n",
       "    <tr>\n",
       "      <th>4</th>\n",
       "      <td>ID_d56d6f5f5</td>\n",
       "      <td>180000.0</td>\n",
       "      <td>0</td>\n",
       "      <td>5</td>\n",
       "      <td>0</td>\n",
       "      <td>1</td>\n",
       "      <td>1</td>\n",
       "      <td>1</td>\n",
       "      <td>1.0</td>\n",
       "      <td>0</td>\n",
       "      <td>...</td>\n",
       "      <td>False</td>\n",
       "      <td>False</td>\n",
       "      <td>5</td>\n",
       "      <td>4</td>\n",
       "      <td>3</td>\n",
       "      <td>3</td>\n",
       "      <td>4</td>\n",
       "      <td>4</td>\n",
       "      <td>4</td>\n",
       "      <td>0</td>\n",
       "    </tr>\n",
       "  </tbody>\n",
       "</table>\n",
       "<p>5 rows × 106 columns</p>\n",
       "</div>"
      ],
      "text/plain": [
       "             Id      v2a1  hacdor  rooms  hacapo  v14a  refrig  v18q  v18q1  \\\n",
       "0  ID_279628684  190000.0       0      3       0     1       1     0    NaN   \n",
       "1  ID_f29eb3ddd  135000.0       0      4       0     1       1     1    1.0   \n",
       "2  ID_68de51c94       0.0       0      8       0     1       1     0    NaN   \n",
       "3  ID_d671db89c  180000.0       0      5       0     1       1     1    1.0   \n",
       "4  ID_d56d6f5f5  180000.0       0      5       0     1       1     1    1.0   \n",
       "\n",
       "   r4h1  ...  v2a1-missing  rez_esc-missing  floortype  rooftype  waterprov  \\\n",
       "0     0  ...         False            False          5         3          3   \n",
       "1     0  ...         False            False          4         4          3   \n",
       "2     0  ...         False            False          5         4          3   \n",
       "3     0  ...         False            False          5         4          3   \n",
       "4     0  ...         False            False          5         4          3   \n",
       "\n",
       "   elecsource  toiletdwel  cookingsource  rubbishdisp  houseowned  \n",
       "0           3           4              3            4           0  \n",
       "1           3           4              4            4           0  \n",
       "2           3           4              4            4           1  \n",
       "3           3           4              4            4           0  \n",
       "4           3           4              4            4           0  \n",
       "\n",
       "[5 rows x 106 columns]"
      ]
     },
     "execution_count": 28,
     "metadata": {},
     "output_type": "execute_result"
    }
   ],
   "source": [
    "train.head()"
   ]
  },
  {
   "cell_type": "code",
   "execution_count": 29,
   "id": "82ddddae",
   "metadata": {
    "colab": {
     "base_uri": "https://localhost:8080/",
     "height": 363
    },
    "execution": {
     "iopub.execute_input": "2021-08-24T03:22:32.294958Z",
     "iopub.status.busy": "2021-08-24T03:22:32.294213Z",
     "iopub.status.idle": "2021-08-24T03:22:32.298711Z",
     "shell.execute_reply": "2021-08-24T03:22:32.298137Z",
     "shell.execute_reply.started": "2021-08-24T03:16:02.935695Z"
    },
    "executionInfo": {
     "elapsed": 54,
     "status": "ok",
     "timestamp": 1672001830040,
     "user": {
      "displayName": "marina wafeek",
      "userId": "08678773223737812097"
     },
     "user_tz": -120
    },
    "id": "82ddddae",
    "outputId": "d22b0d51-4fcd-4346-c3d4-014143099333",
    "papermill": {
     "duration": 0.123725,
     "end_time": "2021-08-24T03:22:32.298854",
     "exception": false,
     "start_time": "2021-08-24T03:22:32.175129",
     "status": "completed"
    },
    "tags": []
   },
   "outputs": [
    {
     "data": {
      "text/html": [
       "<div>\n",
       "<style scoped>\n",
       "    .dataframe tbody tr th:only-of-type {\n",
       "        vertical-align: middle;\n",
       "    }\n",
       "\n",
       "    .dataframe tbody tr th {\n",
       "        vertical-align: top;\n",
       "    }\n",
       "\n",
       "    .dataframe thead th {\n",
       "        text-align: right;\n",
       "    }\n",
       "</style>\n",
       "<table border=\"1\" class=\"dataframe\">\n",
       "  <thead>\n",
       "    <tr style=\"text-align: right;\">\n",
       "      <th></th>\n",
       "      <th>dependency</th>\n",
       "      <th>edjefe</th>\n",
       "      <th>edjefa</th>\n",
       "    </tr>\n",
       "  </thead>\n",
       "  <tbody>\n",
       "    <tr>\n",
       "      <th>0</th>\n",
       "      <td>no</td>\n",
       "      <td>10</td>\n",
       "      <td>no</td>\n",
       "    </tr>\n",
       "    <tr>\n",
       "      <th>1</th>\n",
       "      <td>8</td>\n",
       "      <td>12</td>\n",
       "      <td>no</td>\n",
       "    </tr>\n",
       "    <tr>\n",
       "      <th>2</th>\n",
       "      <td>8</td>\n",
       "      <td>no</td>\n",
       "      <td>11</td>\n",
       "    </tr>\n",
       "    <tr>\n",
       "      <th>3</th>\n",
       "      <td>yes</td>\n",
       "      <td>11</td>\n",
       "      <td>no</td>\n",
       "    </tr>\n",
       "    <tr>\n",
       "      <th>4</th>\n",
       "      <td>yes</td>\n",
       "      <td>11</td>\n",
       "      <td>no</td>\n",
       "    </tr>\n",
       "    <tr>\n",
       "      <th>5</th>\n",
       "      <td>yes</td>\n",
       "      <td>11</td>\n",
       "      <td>no</td>\n",
       "    </tr>\n",
       "    <tr>\n",
       "      <th>6</th>\n",
       "      <td>yes</td>\n",
       "      <td>11</td>\n",
       "      <td>no</td>\n",
       "    </tr>\n",
       "    <tr>\n",
       "      <th>7</th>\n",
       "      <td>yes</td>\n",
       "      <td>9</td>\n",
       "      <td>no</td>\n",
       "    </tr>\n",
       "    <tr>\n",
       "      <th>8</th>\n",
       "      <td>yes</td>\n",
       "      <td>9</td>\n",
       "      <td>no</td>\n",
       "    </tr>\n",
       "    <tr>\n",
       "      <th>9</th>\n",
       "      <td>yes</td>\n",
       "      <td>9</td>\n",
       "      <td>no</td>\n",
       "    </tr>\n",
       "  </tbody>\n",
       "</table>\n",
       "</div>"
      ],
      "text/plain": [
       "  dependency edjefe edjefa\n",
       "0         no     10     no\n",
       "1          8     12     no\n",
       "2          8     no     11\n",
       "3        yes     11     no\n",
       "4        yes     11     no\n",
       "5        yes     11     no\n",
       "6        yes     11     no\n",
       "7        yes      9     no\n",
       "8        yes      9     no\n",
       "9        yes      9     no"
      ]
     },
     "execution_count": 29,
     "metadata": {},
     "output_type": "execute_result"
    }
   ],
   "source": [
    "train[['dependency', 'edjefe', 'edjefa']].head(10)"
   ]
  },
  {
   "cell_type": "code",
   "execution_count": 30,
   "id": "f34815d4",
   "metadata": {
    "colab": {
     "base_uri": "https://localhost:8080/",
     "height": 363
    },
    "execution": {
     "iopub.execute_input": "2021-08-24T03:22:32.758783Z",
     "iopub.status.busy": "2021-08-24T03:22:32.757770Z",
     "iopub.status.idle": "2021-08-24T03:22:46.401716Z",
     "shell.execute_reply": "2021-08-24T03:22:46.401049Z",
     "shell.execute_reply.started": "2021-08-24T03:16:02.965625Z"
    },
    "executionInfo": {
     "elapsed": 8663,
     "status": "ok",
     "timestamp": 1672001838669,
     "user": {
      "displayName": "marina wafeek",
      "userId": "08678773223737812097"
     },
     "user_tz": -120
    },
    "id": "f34815d4",
    "outputId": "d4fc4f8f-84a4-4292-940f-e50325546a55",
    "papermill": {
     "duration": 13.762453,
     "end_time": "2021-08-24T03:22:46.401865",
     "exception": false,
     "start_time": "2021-08-24T03:22:32.639412",
     "status": "completed"
    },
    "tags": []
   },
   "outputs": [
    {
     "data": {
      "text/html": [
       "<div>\n",
       "<style scoped>\n",
       "    .dataframe tbody tr th:only-of-type {\n",
       "        vertical-align: middle;\n",
       "    }\n",
       "\n",
       "    .dataframe tbody tr th {\n",
       "        vertical-align: top;\n",
       "    }\n",
       "\n",
       "    .dataframe thead th {\n",
       "        text-align: right;\n",
       "    }\n",
       "</style>\n",
       "<table border=\"1\" class=\"dataframe\">\n",
       "  <thead>\n",
       "    <tr style=\"text-align: right;\">\n",
       "      <th></th>\n",
       "      <th>idhogar</th>\n",
       "      <th>n_depend</th>\n",
       "      <th>n_indep</th>\n",
       "      <th>age</th>\n",
       "    </tr>\n",
       "  </thead>\n",
       "  <tbody>\n",
       "    <tr>\n",
       "      <th>0</th>\n",
       "      <td>21eb7fcc1</td>\n",
       "      <td>0</td>\n",
       "      <td>1</td>\n",
       "      <td>43</td>\n",
       "    </tr>\n",
       "    <tr>\n",
       "      <th>1</th>\n",
       "      <td>0e5d7a658</td>\n",
       "      <td>1</td>\n",
       "      <td>0</td>\n",
       "      <td>67</td>\n",
       "    </tr>\n",
       "    <tr>\n",
       "      <th>2</th>\n",
       "      <td>2c7317ea8</td>\n",
       "      <td>1</td>\n",
       "      <td>0</td>\n",
       "      <td>92</td>\n",
       "    </tr>\n",
       "    <tr>\n",
       "      <th>3</th>\n",
       "      <td>2b58d945f</td>\n",
       "      <td>2</td>\n",
       "      <td>2</td>\n",
       "      <td>17</td>\n",
       "    </tr>\n",
       "    <tr>\n",
       "      <th>4</th>\n",
       "      <td>2b58d945f</td>\n",
       "      <td>2</td>\n",
       "      <td>2</td>\n",
       "      <td>37</td>\n",
       "    </tr>\n",
       "    <tr>\n",
       "      <th>5</th>\n",
       "      <td>2b58d945f</td>\n",
       "      <td>2</td>\n",
       "      <td>2</td>\n",
       "      <td>38</td>\n",
       "    </tr>\n",
       "    <tr>\n",
       "      <th>6</th>\n",
       "      <td>2b58d945f</td>\n",
       "      <td>2</td>\n",
       "      <td>2</td>\n",
       "      <td>8</td>\n",
       "    </tr>\n",
       "    <tr>\n",
       "      <th>7</th>\n",
       "      <td>d6dae86b7</td>\n",
       "      <td>2</td>\n",
       "      <td>2</td>\n",
       "      <td>7</td>\n",
       "    </tr>\n",
       "    <tr>\n",
       "      <th>8</th>\n",
       "      <td>d6dae86b7</td>\n",
       "      <td>2</td>\n",
       "      <td>2</td>\n",
       "      <td>30</td>\n",
       "    </tr>\n",
       "    <tr>\n",
       "      <th>9</th>\n",
       "      <td>d6dae86b7</td>\n",
       "      <td>2</td>\n",
       "      <td>2</td>\n",
       "      <td>28</td>\n",
       "    </tr>\n",
       "  </tbody>\n",
       "</table>\n",
       "</div>"
      ],
      "text/plain": [
       "     idhogar  n_depend  n_indep  age\n",
       "0  21eb7fcc1         0        1   43\n",
       "1  0e5d7a658         1        0   67\n",
       "2  2c7317ea8         1        0   92\n",
       "3  2b58d945f         2        2   17\n",
       "4  2b58d945f         2        2   37\n",
       "5  2b58d945f         2        2   38\n",
       "6  2b58d945f         2        2    8\n",
       "7  d6dae86b7         2        2    7\n",
       "8  d6dae86b7         2        2   30\n",
       "9  d6dae86b7         2        2   28"
      ]
     },
     "execution_count": 30,
     "metadata": {},
     "output_type": "execute_result"
    }
   ],
   "source": [
    "train['n_depend'] = 0\n",
    "train['n_indep'] = 0\n",
    "\n",
    "n_dep = train[['age', 'idhogar']].loc[(train['age'] < 19) | (train['age'] > 64)].groupby('idhogar').count()\n",
    "n_ind = train[['age', 'idhogar']].loc[(train['age'] >= 19) & (train['age'] <= 64)].groupby('idhogar').count()\n",
    "\n",
    "\n",
    "for i in n_dep.index:\n",
    "    train.loc[train['idhogar'] == i, 'n_depend'] = int(n_dep.loc[n_dep.index == i, 'age'].values)\n",
    "    \n",
    "for i in n_ind.index:\n",
    "    train.loc[train['idhogar'] == i, 'n_indep'] = int(n_ind.loc[n_ind.index == i, 'age'].values)\n",
    "        \n",
    "train['dependencynew'] = train['n_depend']/train['n_indep']\n",
    "train.loc[train['dependencynew'] == np.inf, 'dependencynew'] = 10\n",
    "\n",
    "train[['idhogar', 'n_depend', 'n_indep', 'age']].head(10)"
   ]
  },
  {
   "cell_type": "code",
   "execution_count": 31,
   "id": "5f339fe1",
   "metadata": {
    "execution": {
     "iopub.execute_input": "2021-08-24T03:22:46.626462Z",
     "iopub.status.busy": "2021-08-24T03:22:46.625706Z",
     "iopub.status.idle": "2021-08-24T03:22:46.629767Z",
     "shell.execute_reply": "2021-08-24T03:22:46.629232Z",
     "shell.execute_reply.started": "2021-08-24T03:16:16.737213Z"
    },
    "id": "5f339fe1",
    "papermill": {
     "duration": 0.121491,
     "end_time": "2021-08-24T03:22:46.629923",
     "exception": false,
     "start_time": "2021-08-24T03:22:46.508432",
     "status": "completed"
    },
    "tags": []
   },
   "outputs": [],
   "source": [
    "train = train.drop(['n_depend', 'n_indep', 'dependency'], axis=1)"
   ]
  },
  {
   "cell_type": "code",
   "execution_count": 32,
   "id": "c09244aa",
   "metadata": {
    "execution": {
     "iopub.execute_input": "2021-08-24T03:22:46.853906Z",
     "iopub.status.busy": "2021-08-24T03:22:46.853099Z",
     "iopub.status.idle": "2021-08-24T03:22:46.893364Z",
     "shell.execute_reply": "2021-08-24T03:22:46.892783Z",
     "shell.execute_reply.started": "2021-08-24T03:16:16.747476Z"
    },
    "id": "c09244aa",
    "papermill": {
     "duration": 0.155942,
     "end_time": "2021-08-24T03:22:46.893523",
     "exception": false,
     "start_time": "2021-08-24T03:22:46.737581",
     "status": "completed"
    },
    "tags": []
   },
   "outputs": [],
   "source": [
    "test['n_depend'] = 0\n",
    "test['n_indep'] = 0\n",
    "\n",
    "n_dep = test[['age', 'idhogar']].loc[(test['age'] < 19) | (test['age'] > 64)].groupby('idhogar').count()\n",
    "n_ind = test[['age', 'idhogar']].loc[(test['age'] >= 19) & (test['age'] <= 64)].groupby('idhogar').count()"
   ]
  },
  {
   "cell_type": "code",
   "execution_count": 33,
   "id": "b66d91a4",
   "metadata": {
    "execution": {
     "iopub.execute_input": "2021-08-24T03:22:47.129639Z",
     "iopub.status.busy": "2021-08-24T03:22:47.128918Z",
     "iopub.status.idle": "2021-08-24T03:23:18.243295Z",
     "shell.execute_reply": "2021-08-24T03:23:18.243965Z",
     "shell.execute_reply.started": "2021-08-24T03:16:16.800034Z"
    },
    "id": "b66d91a4",
    "papermill": {
     "duration": 31.240431,
     "end_time": "2021-08-24T03:23:18.244175",
     "exception": false,
     "start_time": "2021-08-24T03:22:47.003744",
     "status": "completed"
    },
    "tags": []
   },
   "outputs": [],
   "source": [
    "for i in n_dep.index:\n",
    "    test.loc[test['idhogar'] == i, 'n_depend'] = int(n_dep.loc[n_dep.index == i, 'age'].values)\n"
   ]
  },
  {
   "cell_type": "code",
   "execution_count": 34,
   "id": "1767f7b0",
   "metadata": {
    "execution": {
     "iopub.execute_input": "2021-08-24T03:23:18.480057Z",
     "iopub.status.busy": "2021-08-24T03:23:18.473097Z",
     "iopub.status.idle": "2021-08-24T03:23:59.607542Z",
     "shell.execute_reply": "2021-08-24T03:23:59.606589Z",
     "shell.execute_reply.started": "2021-08-24T03:16:47.769002Z"
    },
    "id": "1767f7b0",
    "papermill": {
     "duration": 41.254018,
     "end_time": "2021-08-24T03:23:59.607696",
     "exception": false,
     "start_time": "2021-08-24T03:23:18.353678",
     "status": "completed"
    },
    "tags": []
   },
   "outputs": [],
   "source": [
    "for i in n_ind.index:\n",
    "    test.loc[test['idhogar'] == i, 'n_indep'] = int(n_ind.loc[n_ind.index == i, 'age'].values)"
   ]
  },
  {
   "cell_type": "code",
   "execution_count": 35,
   "id": "3ceaf6bc",
   "metadata": {
    "colab": {
     "base_uri": "https://localhost:8080/",
     "height": 363
    },
    "execution": {
     "iopub.execute_input": "2021-08-24T03:23:59.833812Z",
     "iopub.status.busy": "2021-08-24T03:23:59.833042Z",
     "iopub.status.idle": "2021-08-24T03:23:59.850471Z",
     "shell.execute_reply": "2021-08-24T03:23:59.850957Z",
     "shell.execute_reply.started": "2021-08-24T03:17:29.067804Z"
    },
    "executionInfo": {
     "elapsed": 87,
     "status": "ok",
     "timestamp": 1672001876006,
     "user": {
      "displayName": "marina wafeek",
      "userId": "08678773223737812097"
     },
     "user_tz": -120
    },
    "id": "3ceaf6bc",
    "outputId": "230d2b12-57f0-4f9e-de86-d9224910673f",
    "papermill": {
     "duration": 0.132509,
     "end_time": "2021-08-24T03:23:59.851174",
     "exception": false,
     "start_time": "2021-08-24T03:23:59.718665",
     "status": "completed"
    },
    "tags": []
   },
   "outputs": [
    {
     "data": {
      "text/html": [
       "<div>\n",
       "<style scoped>\n",
       "    .dataframe tbody tr th:only-of-type {\n",
       "        vertical-align: middle;\n",
       "    }\n",
       "\n",
       "    .dataframe tbody tr th {\n",
       "        vertical-align: top;\n",
       "    }\n",
       "\n",
       "    .dataframe thead th {\n",
       "        text-align: right;\n",
       "    }\n",
       "</style>\n",
       "<table border=\"1\" class=\"dataframe\">\n",
       "  <thead>\n",
       "    <tr style=\"text-align: right;\">\n",
       "      <th></th>\n",
       "      <th>idhogar</th>\n",
       "      <th>n_depend</th>\n",
       "      <th>n_indep</th>\n",
       "      <th>age</th>\n",
       "    </tr>\n",
       "  </thead>\n",
       "  <tbody>\n",
       "    <tr>\n",
       "      <th>0</th>\n",
       "      <td>72958b30c</td>\n",
       "      <td>1</td>\n",
       "      <td>2</td>\n",
       "      <td>4</td>\n",
       "    </tr>\n",
       "    <tr>\n",
       "      <th>1</th>\n",
       "      <td>72958b30c</td>\n",
       "      <td>1</td>\n",
       "      <td>2</td>\n",
       "      <td>41</td>\n",
       "    </tr>\n",
       "    <tr>\n",
       "      <th>2</th>\n",
       "      <td>72958b30c</td>\n",
       "      <td>1</td>\n",
       "      <td>2</td>\n",
       "      <td>41</td>\n",
       "    </tr>\n",
       "    <tr>\n",
       "      <th>3</th>\n",
       "      <td>5b598fbc9</td>\n",
       "      <td>0</td>\n",
       "      <td>1</td>\n",
       "      <td>59</td>\n",
       "    </tr>\n",
       "    <tr>\n",
       "      <th>4</th>\n",
       "      <td>1e2fc704e</td>\n",
       "      <td>1</td>\n",
       "      <td>0</td>\n",
       "      <td>18</td>\n",
       "    </tr>\n",
       "    <tr>\n",
       "      <th>5</th>\n",
       "      <td>8ee7365a8</td>\n",
       "      <td>0</td>\n",
       "      <td>2</td>\n",
       "      <td>38</td>\n",
       "    </tr>\n",
       "    <tr>\n",
       "      <th>6</th>\n",
       "      <td>8ee7365a8</td>\n",
       "      <td>0</td>\n",
       "      <td>2</td>\n",
       "      <td>42</td>\n",
       "    </tr>\n",
       "    <tr>\n",
       "      <th>7</th>\n",
       "      <td>ff69a6fc8</td>\n",
       "      <td>0</td>\n",
       "      <td>2</td>\n",
       "      <td>21</td>\n",
       "    </tr>\n",
       "    <tr>\n",
       "      <th>8</th>\n",
       "      <td>ff69a6fc8</td>\n",
       "      <td>0</td>\n",
       "      <td>2</td>\n",
       "      <td>22</td>\n",
       "    </tr>\n",
       "    <tr>\n",
       "      <th>9</th>\n",
       "      <td>b61e2bb92</td>\n",
       "      <td>1</td>\n",
       "      <td>0</td>\n",
       "      <td>70</td>\n",
       "    </tr>\n",
       "  </tbody>\n",
       "</table>\n",
       "</div>"
      ],
      "text/plain": [
       "     idhogar  n_depend  n_indep  age\n",
       "0  72958b30c         1        2    4\n",
       "1  72958b30c         1        2   41\n",
       "2  72958b30c         1        2   41\n",
       "3  5b598fbc9         0        1   59\n",
       "4  1e2fc704e         1        0   18\n",
       "5  8ee7365a8         0        2   38\n",
       "6  8ee7365a8         0        2   42\n",
       "7  ff69a6fc8         0        2   21\n",
       "8  ff69a6fc8         0        2   22\n",
       "9  b61e2bb92         1        0   70"
      ]
     },
     "execution_count": 35,
     "metadata": {},
     "output_type": "execute_result"
    }
   ],
   "source": [
    "test['dependencynew'] = test['n_depend']/test['n_indep']\n",
    "test.loc[test['dependencynew'] == np.inf, 'dependencynew'] = 10\n",
    "\n",
    "test[['idhogar', 'n_depend', 'n_indep', 'age']].head(10)"
   ]
  },
  {
   "cell_type": "code",
   "execution_count": 36,
   "id": "7596363c",
   "metadata": {
    "execution": {
     "iopub.execute_input": "2021-08-24T03:24:00.076980Z",
     "iopub.status.busy": "2021-08-24T03:24:00.075976Z",
     "iopub.status.idle": "2021-08-24T03:24:00.086230Z",
     "shell.execute_reply": "2021-08-24T03:24:00.086720Z",
     "shell.execute_reply.started": "2021-08-24T03:17:29.089998Z"
    },
    "id": "7596363c",
    "papermill": {
     "duration": 0.125366,
     "end_time": "2021-08-24T03:24:00.086908",
     "exception": false,
     "start_time": "2021-08-24T03:23:59.961542",
     "status": "completed"
    },
    "tags": []
   },
   "outputs": [],
   "source": [
    "test = test.drop(['n_depend', 'n_indep', 'dependency'], axis=1)"
   ]
  },
  {
   "cell_type": "code",
   "execution_count": 37,
   "id": "ab4f6a24",
   "metadata": {
    "colab": {
     "base_uri": "https://localhost:8080/"
    },
    "execution": {
     "iopub.execute_input": "2021-08-24T03:24:00.309206Z",
     "iopub.status.busy": "2021-08-24T03:24:00.308255Z",
     "iopub.status.idle": "2021-08-24T03:24:00.324938Z",
     "shell.execute_reply": "2021-08-24T03:24:00.324053Z",
     "shell.execute_reply.started": "2021-08-24T03:17:29.103875Z"
    },
    "executionInfo": {
     "elapsed": 84,
     "status": "ok",
     "timestamp": 1672001876008,
     "user": {
      "displayName": "marina wafeek",
      "userId": "08678773223737812097"
     },
     "user_tz": -120
    },
    "id": "ab4f6a24",
    "outputId": "7bb6be07-7999-4453-ead0-8f4a4b09f370",
    "papermill": {
     "duration": 0.128714,
     "end_time": "2021-08-24T03:24:00.325129",
     "exception": false,
     "start_time": "2021-08-24T03:24:00.196415",
     "status": "completed"
    },
    "tags": []
   },
   "outputs": [
    {
     "data": {
      "text/plain": [
       "edjefe  edjefa\n",
       "6       no        1845\n",
       "no      6          947\n",
       "11      no         751\n",
       "9       no         486\n",
       "no      no         435\n",
       "        11         399\n",
       "3       no         307\n",
       "15      no         285\n",
       "8       no         257\n",
       "no      9          237\n",
       "7       no         234\n",
       "5       no         222\n",
       "no      8          217\n",
       "14      no         208\n",
       "17      no         202\n",
       "2       no         194\n",
       "no      15         188\n",
       "        7          179\n",
       "        5          176\n",
       "        3          152\n",
       "4       no         137\n",
       "no      4          136\n",
       "16      no         134\n",
       "yes     no         123\n",
       "no      14         120\n",
       "12      no         113\n",
       "no      16         113\n",
       "10      no         111\n",
       "13      no         103\n",
       "no      10          96\n",
       "        2           84\n",
       "        17          76\n",
       "        12          72\n",
       "        yes         69\n",
       "        13          52\n",
       "21      no          43\n",
       "18      no          19\n",
       "19      no          14\n",
       "20      no           7\n",
       "no      21           5\n",
       "        19           4\n",
       "        18           3\n",
       "        20           2\n",
       "dtype: int64"
      ]
     },
     "execution_count": 37,
     "metadata": {},
     "output_type": "execute_result"
    }
   ],
   "source": [
    "train[['edjefe', 'edjefa']].value_counts()\n",
    "\n",
    "# edjefe and edjefa seem to have the same weird problem, with both columns\n",
    "# We'll remake these two columns as well\n",
    "# They will be converted into one"
   ]
  },
  {
   "cell_type": "code",
   "execution_count": 38,
   "id": "68fbc0b1",
   "metadata": {
    "execution": {
     "iopub.execute_input": "2021-08-24T03:24:00.555562Z",
     "iopub.status.busy": "2021-08-24T03:24:00.554751Z",
     "iopub.status.idle": "2021-08-24T03:24:00.581972Z",
     "shell.execute_reply": "2021-08-24T03:24:00.581437Z",
     "shell.execute_reply.started": "2021-08-24T03:17:29.129165Z"
    },
    "id": "68fbc0b1",
    "papermill": {
     "duration": 0.144794,
     "end_time": "2021-08-24T03:24:00.582127",
     "exception": false,
     "start_time": "2021-08-24T03:24:00.437333",
     "status": "completed"
    },
    "tags": []
   },
   "outputs": [],
   "source": [
    "train['headescolari'] = 0\n",
    "test['headescolari'] = 0\n",
    "\n",
    "train.loc[train['parentesco1'] == 1, 'headescolari'] = train['escolari']\n",
    "test.loc[test['parentesco1'] == 1, 'headescolari'] = test['escolari']\n",
    "\n",
    "train = train.drop(['edjefe', 'edjefa'], axis=1)\n",
    "test = test.drop(['edjefe', 'edjefa'], axis=1)\n"
   ]
  },
  {
   "cell_type": "code",
   "execution_count": 39,
   "id": "fd93982e",
   "metadata": {
    "colab": {
     "base_uri": "https://localhost:8080/"
    },
    "execution": {
     "iopub.execute_input": "2021-08-24T03:24:00.807387Z",
     "iopub.status.busy": "2021-08-24T03:24:00.806572Z",
     "iopub.status.idle": "2021-08-24T03:24:00.810364Z",
     "shell.execute_reply": "2021-08-24T03:24:00.809724Z",
     "shell.execute_reply.started": "2021-08-24T03:17:29.163851Z"
    },
    "executionInfo": {
     "elapsed": 71,
     "status": "ok",
     "timestamp": 1672001876010,
     "user": {
      "displayName": "marina wafeek",
      "userId": "08678773223737812097"
     },
     "user_tz": -120
    },
    "id": "fd93982e",
    "outputId": "64d51015-df1e-4f2c-d3ab-bc60d52844e6",
    "papermill": {
     "duration": 0.121127,
     "end_time": "2021-08-24T03:24:00.810506",
     "exception": false,
     "start_time": "2021-08-24T03:24:00.689379",
     "status": "completed"
    },
    "tags": []
   },
   "outputs": [
    {
     "data": {
      "text/plain": [
       "Id                object\n",
       "v2a1             float64\n",
       "hacdor             int64\n",
       "rooms              int64\n",
       "hacapo             int64\n",
       "                  ...   \n",
       "cookingsource      int64\n",
       "rubbishdisp        int64\n",
       "houseowned         int64\n",
       "dependencynew    float64\n",
       "headescolari       int64\n",
       "Length: 105, dtype: object"
      ]
     },
     "execution_count": 39,
     "metadata": {},
     "output_type": "execute_result"
    }
   ],
   "source": [
    "train.dtypes"
   ]
  },
  {
   "cell_type": "code",
   "execution_count": 40,
   "id": "981dbe1a",
   "metadata": {
    "execution": {
     "iopub.execute_input": "2021-08-24T03:24:01.039181Z",
     "iopub.status.busy": "2021-08-24T03:24:01.038525Z",
     "iopub.status.idle": "2021-08-24T03:24:01.052086Z",
     "shell.execute_reply": "2021-08-24T03:24:01.052651Z",
     "shell.execute_reply.started": "2021-08-24T03:17:29.176869Z"
    },
    "id": "981dbe1a",
    "papermill": {
     "duration": 0.126458,
     "end_time": "2021-08-24T03:24:01.052841",
     "exception": false,
     "start_time": "2021-08-24T03:24:00.926383",
     "status": "completed"
    },
    "tags": []
   },
   "outputs": [],
   "source": [
    "# We converted into ordinal all columns household related where the trend was clear\n",
    "# Now lets do the same for columns in individual level\n",
    "\n",
    "# The variables r4 shows a clear correlation and redundancy others\n",
    "# Sex and Age are already given by different columns\n",
    "# A column showing whether someone is under or over 12 could be useful though\n",
    "# So all columns will be dropped except r4t1 and r4t3\n",
    "\n",
    "drop_cols = ['r4h1', 'r4h2', 'r4h3', 'r4m1', 'r4m2', 'r4m3', 'r4t2']\n",
    "train = train.drop(drop_cols, axis=1)\n",
    "test = test.drop(drop_cols, axis=1)"
   ]
  },
  {
   "cell_type": "code",
   "execution_count": 41,
   "id": "c176d70e",
   "metadata": {
    "execution": {
     "iopub.execute_input": "2021-08-24T03:24:01.276592Z",
     "iopub.status.busy": "2021-08-24T03:24:01.275825Z",
     "iopub.status.idle": "2021-08-24T03:24:01.357673Z",
     "shell.execute_reply": "2021-08-24T03:24:01.358263Z",
     "shell.execute_reply.started": "2021-08-24T03:17:29.198815Z"
    },
    "id": "c176d70e",
    "papermill": {
     "duration": 0.196107,
     "end_time": "2021-08-24T03:24:01.358447",
     "exception": false,
     "start_time": "2021-08-24T03:24:01.162340",
     "status": "completed"
    },
    "tags": []
   },
   "outputs": [],
   "source": [
    "# Civil State\n",
    "\n",
    "train['civilstate'] = 0\n",
    "test['civilstate'] = 0\n",
    "\n",
    "civil_dt = {\n",
    "    'estadocivil1' : 1,\n",
    "    'estadocivil2' : 3,\n",
    "    'estadocivil3' : 4,\n",
    "    'estadocivil4' : 5,\n",
    "    'estadocivil5' : 5,\n",
    "    'estadocivil6' : 6,\n",
    "    'estadocivil7' : 2\n",
    "}\n",
    "  \n",
    "mc(civil_dt, 'civilstate')\n",
    "\n",
    "for i in civil_dt:\n",
    "    train = train.drop(i, axis=1)\n",
    "    test = test.drop(i, axis=1)"
   ]
  },
  {
   "cell_type": "code",
   "execution_count": 42,
   "id": "89eddd25",
   "metadata": {
    "colab": {
     "base_uri": "https://localhost:8080/"
    },
    "execution": {
     "iopub.execute_input": "2021-08-24T03:24:01.587438Z",
     "iopub.status.busy": "2021-08-24T03:24:01.586531Z",
     "iopub.status.idle": "2021-08-24T03:24:01.590241Z",
     "shell.execute_reply": "2021-08-24T03:24:01.590756Z",
     "shell.execute_reply.started": "2021-08-24T03:17:29.284639Z"
    },
    "executionInfo": {
     "elapsed": 64,
     "status": "ok",
     "timestamp": 1672001876013,
     "user": {
      "displayName": "marina wafeek",
      "userId": "08678773223737812097"
     },
     "user_tz": -120
    },
    "id": "89eddd25",
    "outputId": "c218bb89-8c7f-496b-c393-a3cfdd12299d",
    "papermill": {
     "duration": 0.120727,
     "end_time": "2021-08-24T03:24:01.590937",
     "exception": false,
     "start_time": "2021-08-24T03:24:01.470210",
     "status": "completed"
    },
    "tags": []
   },
   "outputs": [
    {
     "data": {
      "text/plain": [
       "2    3275\n",
       "4    2565\n",
       "1    1317\n",
       "3    1178\n",
       "5     905\n",
       "6     317\n",
       "Name: civilstate, dtype: int64"
      ]
     },
     "execution_count": 42,
     "metadata": {},
     "output_type": "execute_result"
    }
   ],
   "source": [
    "train['civilstate'].value_counts()"
   ]
  },
  {
   "cell_type": "code",
   "execution_count": 43,
   "id": "16a1f95c",
   "metadata": {
    "execution": {
     "iopub.execute_input": "2021-08-24T03:24:01.823998Z",
     "iopub.status.busy": "2021-08-24T03:24:01.823316Z",
     "iopub.status.idle": "2021-08-24T03:24:01.831898Z",
     "shell.execute_reply": "2021-08-24T03:24:01.832443Z",
     "shell.execute_reply.started": "2021-08-24T03:17:29.296207Z"
    },
    "id": "16a1f95c",
    "papermill": {
     "duration": 0.132502,
     "end_time": "2021-08-24T03:24:01.832623",
     "exception": false,
     "start_time": "2021-08-24T03:24:01.700121",
     "status": "completed"
    },
    "tags": []
   },
   "outputs": [],
   "source": [
    "# We'll drop all the columns of kinship besides parentesco1, since they are individual features without huge relevance\n",
    "\n",
    "drop_cols = ['parentesco2', 'parentesco3', 'parentesco4', 'parentesco5', 'parentesco6', 'parentesco7', 'parentesco8', 'parentesco9', 'parentesco10', 'parentesco11', 'parentesco12']\n",
    "\n",
    "train = train.drop(drop_cols, axis=1)\n",
    "test = test.drop(drop_cols, axis=1)\n",
    "\n",
    "train = train.rename(columns = {'parentesco1': 'ishousehead'})\n",
    "test = test.rename(columns = {'parentesco1': 'ishousehead'})"
   ]
  },
  {
   "cell_type": "code",
   "execution_count": 44,
   "id": "e6b1b670",
   "metadata": {
    "execution": {
     "iopub.execute_input": "2021-08-24T03:24:02.063566Z",
     "iopub.status.busy": "2021-08-24T03:24:02.061083Z",
     "iopub.status.idle": "2021-08-24T03:24:02.146492Z",
     "shell.execute_reply": "2021-08-24T03:24:02.147006Z",
     "shell.execute_reply.started": "2021-08-24T03:17:29.324606Z"
    },
    "id": "e6b1b670",
    "papermill": {
     "duration": 0.204672,
     "end_time": "2021-08-24T03:24:02.147213",
     "exception": false,
     "start_time": "2021-08-24T03:24:01.942541",
     "status": "completed"
    },
    "tags": []
   },
   "outputs": [],
   "source": [
    "# Individual education\n",
    "\n",
    "train['education'] = 0\n",
    "test['education'] = 0\n",
    "\n",
    "educ_dt = {\n",
    "    'instlevel1' : 1,\n",
    "    'instlevel2' : 2,\n",
    "    'instlevel3' : 3,\n",
    "    'instlevel4' : 4,\n",
    "    'instlevel5' : 5,\n",
    "    'instlevel6' : 6,\n",
    "    'instlevel7' : 7,\n",
    "    'instlevel8' : 8,\n",
    "    'instlevel9' : 9\n",
    "}\n",
    "  \n",
    "mc(educ_dt, 'education')\n",
    "\n",
    "for i in educ_dt:\n",
    "    train = train.drop(i, axis=1)\n",
    "    test = test.drop(i, axis=1)"
   ]
  },
  {
   "cell_type": "code",
   "execution_count": 45,
   "id": "d8efa9f0",
   "metadata": {
    "colab": {
     "base_uri": "https://localhost:8080/"
    },
    "execution": {
     "iopub.execute_input": "2021-08-24T03:24:02.377991Z",
     "iopub.status.busy": "2021-08-24T03:24:02.376836Z",
     "iopub.status.idle": "2021-08-24T03:24:02.381867Z",
     "shell.execute_reply": "2021-08-24T03:24:02.382360Z",
     "shell.execute_reply.started": "2021-08-24T03:17:29.421565Z"
    },
    "executionInfo": {
     "elapsed": 37,
     "status": "ok",
     "timestamp": 1672001876499,
     "user": {
      "displayName": "marina wafeek",
      "userId": "08678773223737812097"
     },
     "user_tz": -120
    },
    "id": "d8efa9f0",
    "outputId": "090cfae7-a64d-45de-d848-5a50ea76efd2",
    "papermill": {
     "duration": 0.125909,
     "end_time": "2021-08-24T03:24:02.382555",
     "exception": false,
     "start_time": "2021-08-24T03:24:02.256646",
     "status": "completed"
    },
    "tags": []
   },
   "outputs": [
    {
     "data": {
      "text/plain": [
       "3    1985\n",
       "4    1772\n",
       "2    1630\n",
       "8    1336\n",
       "1    1287\n",
       "5    1077\n",
       "6     171\n",
       "7     149\n",
       "9     147\n",
       "0       3\n",
       "Name: education, dtype: int64"
      ]
     },
     "execution_count": 45,
     "metadata": {},
     "output_type": "execute_result"
    }
   ],
   "source": [
    "train['education'].value_counts()"
   ]
  },
  {
   "cell_type": "code",
   "execution_count": 46,
   "id": "40e6fd33",
   "metadata": {
    "execution": {
     "iopub.execute_input": "2021-08-24T03:24:02.605889Z",
     "iopub.status.busy": "2021-08-24T03:24:02.605244Z",
     "iopub.status.idle": "2021-08-24T03:24:02.608587Z",
     "shell.execute_reply": "2021-08-24T03:24:02.607930Z",
     "shell.execute_reply.started": "2021-08-24T03:17:29.432279Z"
    },
    "id": "40e6fd33",
    "papermill": {
     "duration": 0.117171,
     "end_time": "2021-08-24T03:24:02.608722",
     "exception": false,
     "start_time": "2021-08-24T03:24:02.491551",
     "status": "completed"
    },
    "tags": []
   },
   "outputs": [],
   "source": [
    "train.loc[train['education'] == 0, 'education'] = 1"
   ]
  },
  {
   "cell_type": "code",
   "execution_count": 47,
   "id": "6bc474cb",
   "metadata": {
    "colab": {
     "base_uri": "https://localhost:8080/"
    },
    "execution": {
     "iopub.execute_input": "2021-08-24T03:24:02.835138Z",
     "iopub.status.busy": "2021-08-24T03:24:02.834123Z",
     "iopub.status.idle": "2021-08-24T03:24:02.839021Z",
     "shell.execute_reply": "2021-08-24T03:24:02.838443Z",
     "shell.execute_reply.started": "2021-08-24T03:17:29.449374Z"
    },
    "executionInfo": {
     "elapsed": 32,
     "status": "ok",
     "timestamp": 1672001876501,
     "user": {
      "displayName": "marina wafeek",
      "userId": "08678773223737812097"
     },
     "user_tz": -120
    },
    "id": "6bc474cb",
    "outputId": "a0323f06-7d7b-4d49-c1bc-eea52c6eb8fb",
    "papermill": {
     "duration": 0.121119,
     "end_time": "2021-08-24T03:24:02.839197",
     "exception": false,
     "start_time": "2021-08-24T03:24:02.718078",
     "status": "completed"
    },
    "tags": []
   },
   "outputs": [
    {
     "data": {
      "text/plain": [
       "Index(['Id', 'v2a1', 'hacdor', 'rooms', 'hacapo', 'v14a', 'refrig', 'v18q',\n",
       "       'v18q1', 'r4t1', 'r4t3', 'tamhog', 'tamviv', 'escolari', 'rez_esc',\n",
       "       'hhsize', 'paredblolad', 'paredzocalo', 'paredpreb', 'pareddes',\n",
       "       'paredmad', 'paredzinc', 'paredfibras', 'paredother', 'epared1',\n",
       "       'epared2', 'epared3', 'etecho1', 'etecho2', 'etecho3', 'eviv1', 'eviv2',\n",
       "       'eviv3', 'dis', 'male', 'female', 'ishousehead', 'idhogar', 'hogar_nin',\n",
       "       'hogar_adul', 'hogar_mayor', 'hogar_total', 'meaneduc', 'bedrooms',\n",
       "       'overcrowding', 'isprecarious', 'computer', 'television', 'mobilephone',\n",
       "       'qmobilephone', 'lugar1', 'lugar2', 'lugar3', 'lugar4', 'lugar5',\n",
       "       'lugar6', 'isurban', 'age', 'Target', 'v2a1-missing', 'rez_esc-missing',\n",
       "       'floortype', 'rooftype', 'waterprov', 'elecsource', 'toiletdwel',\n",
       "       'cookingsource', 'rubbishdisp', 'houseowned', 'dependencynew',\n",
       "       'headescolari', 'civilstate', 'education'],\n",
       "      dtype='object')"
      ]
     },
     "execution_count": 47,
     "metadata": {},
     "output_type": "execute_result"
    }
   ],
   "source": [
    "train.columns"
   ]
  },
  {
   "cell_type": "code",
   "execution_count": null,
   "id": "d462cba2",
   "metadata": {
    "id": "d462cba2",
    "papermill": {
     "duration": 0.108464,
     "end_time": "2021-08-24T03:24:03.292321",
     "exception": false,
     "start_time": "2021-08-24T03:24:03.183857",
     "status": "completed"
    },
    "tags": []
   },
   "outputs": [],
   "source": []
  },
  {
   "cell_type": "code",
   "execution_count": null,
   "id": "DOVCYeXkMzUf",
   "metadata": {
    "id": "DOVCYeXkMzUf"
   },
   "outputs": [],
   "source": []
  },
  {
   "cell_type": "code",
   "execution_count": 48,
   "id": "0543690e",
   "metadata": {
    "execution": {
     "iopub.execute_input": "2021-08-24T03:24:08.178997Z",
     "iopub.status.busy": "2021-08-24T03:24:08.163248Z",
     "iopub.status.idle": "2021-08-24T03:24:10.887507Z",
     "shell.execute_reply": "2021-08-24T03:24:10.886761Z",
     "shell.execute_reply.started": "2021-08-24T03:17:31.921752Z"
    },
    "id": "0543690e",
    "papermill": {
     "duration": 2.86505,
     "end_time": "2021-08-24T03:24:10.887702",
     "exception": false,
     "start_time": "2021-08-24T03:24:08.022652",
     "status": "completed"
    },
    "tags": []
   },
   "outputs": [],
   "source": [
    "# It seems that Having a Tablet, a Computer, Number of Tablets and of Mobile Phones are the variables with higher correlation with Target\n",
    "# Lets try aggregating the number of computers, tablets and mobile phones into a new feature and see if it represents a higher correlation\n",
    "\n",
    "train['sumelectronics'] = train[['qmobilephone', 'v18q1', 'computer']].apply(np.sum, axis=1)\n",
    "test['sumelectronics'] = test[['qmobilephone', 'v18q1', 'computer']].apply(np.sum, axis=1)"
   ]
  },
  {
   "cell_type": "code",
   "execution_count": 49,
   "id": "f453e133",
   "metadata": {
    "execution": {
     "iopub.execute_input": "2021-08-24T03:24:11.947371Z",
     "iopub.status.busy": "2021-08-24T03:24:11.946665Z",
     "iopub.status.idle": "2021-08-24T03:24:11.954550Z",
     "shell.execute_reply": "2021-08-24T03:24:11.953967Z",
     "shell.execute_reply.started": "2021-08-24T03:17:35.374749Z"
    },
    "id": "f453e133",
    "papermill": {
     "duration": 0.143443,
     "end_time": "2021-08-24T03:24:11.954706",
     "exception": false,
     "start_time": "2021-08-24T03:24:11.811263",
     "status": "completed"
    },
    "tags": []
   },
   "outputs": [],
   "source": [
    "# We managed to create a feature with higher correlation than the others separately, so this feature will substitute the others\n",
    "\n",
    "drop_cols = ['refrig', 'v18q', 'v18q1', 'computer', 'television', 'mobilephone', 'qmobilephone']\n",
    "\n",
    "train = train.drop(drop_cols, axis=1)\n",
    "test = test.drop(drop_cols, axis=1)"
   ]
  },
  {
   "cell_type": "code",
   "execution_count": 50,
   "id": "65933eca",
   "metadata": {
    "colab": {
     "base_uri": "https://localhost:8080/"
    },
    "execution": {
     "iopub.execute_input": "2021-08-24T03:24:12.208722Z",
     "iopub.status.busy": "2021-08-24T03:24:12.207783Z",
     "iopub.status.idle": "2021-08-24T03:24:12.211828Z",
     "shell.execute_reply": "2021-08-24T03:24:12.212291Z",
     "shell.execute_reply.started": "2021-08-24T03:17:35.391146Z"
    },
    "executionInfo": {
     "elapsed": 5,
     "status": "ok",
     "timestamp": 1672001902814,
     "user": {
      "displayName": "marina wafeek",
      "userId": "08678773223737812097"
     },
     "user_tz": -120
    },
    "id": "65933eca",
    "outputId": "016833f9-5452-402c-9353-c0c119899d53",
    "papermill": {
     "duration": 0.135221,
     "end_time": "2021-08-24T03:24:12.212483",
     "exception": false,
     "start_time": "2021-08-24T03:24:12.077262",
     "status": "completed"
    },
    "tags": []
   },
   "outputs": [
    {
     "data": {
      "text/plain": [
       "Index(['Id', 'v2a1', 'hacdor', 'rooms', 'hacapo', 'v14a', 'r4t1', 'r4t3',\n",
       "       'tamhog', 'tamviv', 'escolari', 'rez_esc', 'hhsize', 'paredblolad',\n",
       "       'paredzocalo', 'paredpreb', 'pareddes', 'paredmad', 'paredzinc',\n",
       "       'paredfibras', 'paredother', 'epared1', 'epared2', 'epared3', 'etecho1',\n",
       "       'etecho2', 'etecho3', 'eviv1', 'eviv2', 'eviv3', 'dis', 'male',\n",
       "       'female', 'ishousehead', 'idhogar', 'hogar_nin', 'hogar_adul',\n",
       "       'hogar_mayor', 'hogar_total', 'meaneduc', 'bedrooms', 'overcrowding',\n",
       "       'isprecarious', 'lugar1', 'lugar2', 'lugar3', 'lugar4', 'lugar5',\n",
       "       'lugar6', 'isurban', 'age', 'Target', 'v2a1-missing', 'rez_esc-missing',\n",
       "       'floortype', 'rooftype', 'waterprov', 'elecsource', 'toiletdwel',\n",
       "       'cookingsource', 'rubbishdisp', 'houseowned', 'dependencynew',\n",
       "       'headescolari', 'civilstate', 'education', 'sumelectronics'],\n",
       "      dtype='object')"
      ]
     },
     "execution_count": 50,
     "metadata": {},
     "output_type": "execute_result"
    }
   ],
   "source": [
    "train.columns"
   ]
  },
  {
   "cell_type": "code",
   "execution_count": 51,
   "id": "9388525a",
   "metadata": {
    "execution": {
     "iopub.execute_input": "2021-08-24T03:24:12.476799Z",
     "iopub.status.busy": "2021-08-24T03:24:12.472900Z",
     "iopub.status.idle": "2021-08-24T03:24:12.480685Z",
     "shell.execute_reply": "2021-08-24T03:24:12.479956Z",
     "shell.execute_reply.started": "2021-08-24T03:17:35.402399Z"
    },
    "id": "9388525a",
    "papermill": {
     "duration": 0.143611,
     "end_time": "2021-08-24T03:24:12.480837",
     "exception": false,
     "start_time": "2021-08-24T03:24:12.337226",
     "status": "completed"
    },
    "tags": []
   },
   "outputs": [],
   "source": [
    "train[['tamhog', 'hhsize']]\n",
    "train[['tamviv', 'hogar_total']]\n",
    "\n",
    "train = train.drop(['hhsize', 'hogar_total'], axis=1)\n",
    "test = test.drop(['hhsize', 'hogar_total'], axis=1)\n",
    "\n",
    "\n",
    "# Duplicated Column"
   ]
  },
  {
   "cell_type": "code",
   "execution_count": 52,
   "id": "30fd671e",
   "metadata": {
    "execution": {
     "iopub.execute_input": "2021-08-24T03:24:12.738187Z",
     "iopub.status.busy": "2021-08-24T03:24:12.734894Z",
     "iopub.status.idle": "2021-08-24T03:24:12.742026Z",
     "shell.execute_reply": "2021-08-24T03:24:12.741467Z",
     "shell.execute_reply.started": "2021-08-24T03:17:35.425763Z"
    },
    "id": "30fd671e",
    "papermill": {
     "duration": 0.140132,
     "end_time": "2021-08-24T03:24:12.742218",
     "exception": false,
     "start_time": "2021-08-24T03:24:12.602086",
     "status": "completed"
    },
    "tags": []
   },
   "outputs": [],
   "source": [
    "# Dependency column already makes the relation between dependent and independent individuals in the household\n",
    "# The columns indicating the number of individuals of each age will be dropped\n",
    "\n",
    "drop_cols = ['hogar_nin', 'hogar_adul', 'hogar_mayor']\n",
    "\n",
    "train = train.drop(drop_cols, axis=1)\n",
    "test = test.drop(drop_cols, axis=1)"
   ]
  },
  {
   "cell_type": "code",
   "execution_count": 53,
   "id": "a3976868",
   "metadata": {
    "colab": {
     "base_uri": "https://localhost:8080/",
     "height": 676
    },
    "execution": {
     "iopub.execute_input": "2021-08-24T03:24:13.008265Z",
     "iopub.status.busy": "2021-08-24T03:24:13.007576Z",
     "iopub.status.idle": "2021-08-24T03:24:13.011788Z",
     "shell.execute_reply": "2021-08-24T03:24:13.011119Z",
     "shell.execute_reply.started": "2021-08-24T03:17:35.443449Z"
    },
    "executionInfo": {
     "elapsed": 30,
     "status": "ok",
     "timestamp": 1672001959661,
     "user": {
      "displayName": "marina wafeek",
      "userId": "08678773223737812097"
     },
     "user_tz": -120
    },
    "id": "a3976868",
    "outputId": "dd71f24b-3736-4550-d8c3-33c4cf89c3ea",
    "papermill": {
     "duration": 0.145507,
     "end_time": "2021-08-24T03:24:13.011929",
     "exception": false,
     "start_time": "2021-08-24T03:24:12.866422",
     "status": "completed"
    },
    "tags": []
   },
   "outputs": [
    {
     "data": {
      "text/html": [
       "<div>\n",
       "<style scoped>\n",
       "    .dataframe tbody tr th:only-of-type {\n",
       "        vertical-align: middle;\n",
       "    }\n",
       "\n",
       "    .dataframe tbody tr th {\n",
       "        vertical-align: top;\n",
       "    }\n",
       "\n",
       "    .dataframe thead th {\n",
       "        text-align: right;\n",
       "    }\n",
       "</style>\n",
       "<table border=\"1\" class=\"dataframe\">\n",
       "  <thead>\n",
       "    <tr style=\"text-align: right;\">\n",
       "      <th></th>\n",
       "      <th>hacdor</th>\n",
       "      <th>rooms</th>\n",
       "      <th>hacapo</th>\n",
       "      <th>tamviv</th>\n",
       "      <th>bedrooms</th>\n",
       "      <th>overcrowding</th>\n",
       "    </tr>\n",
       "  </thead>\n",
       "  <tbody>\n",
       "    <tr>\n",
       "      <th>0</th>\n",
       "      <td>0</td>\n",
       "      <td>3</td>\n",
       "      <td>0</td>\n",
       "      <td>1</td>\n",
       "      <td>1</td>\n",
       "      <td>1.000000</td>\n",
       "    </tr>\n",
       "    <tr>\n",
       "      <th>1</th>\n",
       "      <td>0</td>\n",
       "      <td>4</td>\n",
       "      <td>0</td>\n",
       "      <td>1</td>\n",
       "      <td>1</td>\n",
       "      <td>1.000000</td>\n",
       "    </tr>\n",
       "    <tr>\n",
       "      <th>2</th>\n",
       "      <td>0</td>\n",
       "      <td>8</td>\n",
       "      <td>0</td>\n",
       "      <td>1</td>\n",
       "      <td>2</td>\n",
       "      <td>0.500000</td>\n",
       "    </tr>\n",
       "    <tr>\n",
       "      <th>3</th>\n",
       "      <td>0</td>\n",
       "      <td>5</td>\n",
       "      <td>0</td>\n",
       "      <td>4</td>\n",
       "      <td>3</td>\n",
       "      <td>1.333333</td>\n",
       "    </tr>\n",
       "    <tr>\n",
       "      <th>4</th>\n",
       "      <td>0</td>\n",
       "      <td>5</td>\n",
       "      <td>0</td>\n",
       "      <td>4</td>\n",
       "      <td>3</td>\n",
       "      <td>1.333333</td>\n",
       "    </tr>\n",
       "    <tr>\n",
       "      <th>5</th>\n",
       "      <td>0</td>\n",
       "      <td>5</td>\n",
       "      <td>0</td>\n",
       "      <td>4</td>\n",
       "      <td>3</td>\n",
       "      <td>1.333333</td>\n",
       "    </tr>\n",
       "    <tr>\n",
       "      <th>6</th>\n",
       "      <td>0</td>\n",
       "      <td>5</td>\n",
       "      <td>0</td>\n",
       "      <td>4</td>\n",
       "      <td>3</td>\n",
       "      <td>1.333333</td>\n",
       "    </tr>\n",
       "    <tr>\n",
       "      <th>7</th>\n",
       "      <td>1</td>\n",
       "      <td>2</td>\n",
       "      <td>0</td>\n",
       "      <td>4</td>\n",
       "      <td>1</td>\n",
       "      <td>4.000000</td>\n",
       "    </tr>\n",
       "    <tr>\n",
       "      <th>8</th>\n",
       "      <td>1</td>\n",
       "      <td>2</td>\n",
       "      <td>0</td>\n",
       "      <td>4</td>\n",
       "      <td>1</td>\n",
       "      <td>4.000000</td>\n",
       "    </tr>\n",
       "    <tr>\n",
       "      <th>9</th>\n",
       "      <td>1</td>\n",
       "      <td>2</td>\n",
       "      <td>0</td>\n",
       "      <td>4</td>\n",
       "      <td>1</td>\n",
       "      <td>4.000000</td>\n",
       "    </tr>\n",
       "    <tr>\n",
       "      <th>10</th>\n",
       "      <td>1</td>\n",
       "      <td>2</td>\n",
       "      <td>0</td>\n",
       "      <td>4</td>\n",
       "      <td>1</td>\n",
       "      <td>4.000000</td>\n",
       "    </tr>\n",
       "    <tr>\n",
       "      <th>11</th>\n",
       "      <td>0</td>\n",
       "      <td>3</td>\n",
       "      <td>0</td>\n",
       "      <td>2</td>\n",
       "      <td>2</td>\n",
       "      <td>1.000000</td>\n",
       "    </tr>\n",
       "    <tr>\n",
       "      <th>12</th>\n",
       "      <td>0</td>\n",
       "      <td>3</td>\n",
       "      <td>0</td>\n",
       "      <td>2</td>\n",
       "      <td>2</td>\n",
       "      <td>1.000000</td>\n",
       "    </tr>\n",
       "    <tr>\n",
       "      <th>13</th>\n",
       "      <td>0</td>\n",
       "      <td>4</td>\n",
       "      <td>0</td>\n",
       "      <td>2</td>\n",
       "      <td>2</td>\n",
       "      <td>1.000000</td>\n",
       "    </tr>\n",
       "    <tr>\n",
       "      <th>14</th>\n",
       "      <td>0</td>\n",
       "      <td>4</td>\n",
       "      <td>0</td>\n",
       "      <td>2</td>\n",
       "      <td>2</td>\n",
       "      <td>1.000000</td>\n",
       "    </tr>\n",
       "    <tr>\n",
       "      <th>15</th>\n",
       "      <td>1</td>\n",
       "      <td>2</td>\n",
       "      <td>0</td>\n",
       "      <td>4</td>\n",
       "      <td>1</td>\n",
       "      <td>4.000000</td>\n",
       "    </tr>\n",
       "    <tr>\n",
       "      <th>16</th>\n",
       "      <td>1</td>\n",
       "      <td>2</td>\n",
       "      <td>0</td>\n",
       "      <td>4</td>\n",
       "      <td>1</td>\n",
       "      <td>4.000000</td>\n",
       "    </tr>\n",
       "    <tr>\n",
       "      <th>17</th>\n",
       "      <td>1</td>\n",
       "      <td>2</td>\n",
       "      <td>0</td>\n",
       "      <td>4</td>\n",
       "      <td>1</td>\n",
       "      <td>4.000000</td>\n",
       "    </tr>\n",
       "    <tr>\n",
       "      <th>18</th>\n",
       "      <td>1</td>\n",
       "      <td>2</td>\n",
       "      <td>0</td>\n",
       "      <td>4</td>\n",
       "      <td>1</td>\n",
       "      <td>4.000000</td>\n",
       "    </tr>\n",
       "    <tr>\n",
       "      <th>19</th>\n",
       "      <td>0</td>\n",
       "      <td>4</td>\n",
       "      <td>0</td>\n",
       "      <td>2</td>\n",
       "      <td>2</td>\n",
       "      <td>1.000000</td>\n",
       "    </tr>\n",
       "  </tbody>\n",
       "</table>\n",
       "</div>"
      ],
      "text/plain": [
       "    hacdor  rooms  hacapo  tamviv  bedrooms  overcrowding\n",
       "0        0      3       0       1         1      1.000000\n",
       "1        0      4       0       1         1      1.000000\n",
       "2        0      8       0       1         2      0.500000\n",
       "3        0      5       0       4         3      1.333333\n",
       "4        0      5       0       4         3      1.333333\n",
       "5        0      5       0       4         3      1.333333\n",
       "6        0      5       0       4         3      1.333333\n",
       "7        1      2       0       4         1      4.000000\n",
       "8        1      2       0       4         1      4.000000\n",
       "9        1      2       0       4         1      4.000000\n",
       "10       1      2       0       4         1      4.000000\n",
       "11       0      3       0       2         2      1.000000\n",
       "12       0      3       0       2         2      1.000000\n",
       "13       0      4       0       2         2      1.000000\n",
       "14       0      4       0       2         2      1.000000\n",
       "15       1      2       0       4         1      4.000000\n",
       "16       1      2       0       4         1      4.000000\n",
       "17       1      2       0       4         1      4.000000\n",
       "18       1      2       0       4         1      4.000000\n",
       "19       0      4       0       2         2      1.000000"
      ]
     },
     "execution_count": 53,
     "metadata": {},
     "output_type": "execute_result"
    }
   ],
   "source": [
    "train[['hacdor', 'rooms', 'hacapo', 'tamviv', 'bedrooms', 'overcrowding']].head(20)"
   ]
  },
  {
   "cell_type": "code",
   "execution_count": 54,
   "id": "05eb6f87",
   "metadata": {
    "colab": {
     "base_uri": "https://localhost:8080/"
    },
    "execution": {
     "iopub.execute_input": "2021-08-24T03:24:13.272575Z",
     "iopub.status.busy": "2021-08-24T03:24:13.271818Z",
     "iopub.status.idle": "2021-08-24T03:24:13.279857Z",
     "shell.execute_reply": "2021-08-24T03:24:13.279113Z",
     "shell.execute_reply.started": "2021-08-24T03:17:35.473619Z"
    },
    "executionInfo": {
     "elapsed": 28,
     "status": "ok",
     "timestamp": 1672001959662,
     "user": {
      "displayName": "marina wafeek",
      "userId": "08678773223737812097"
     },
     "user_tz": -120
    },
    "id": "05eb6f87",
    "outputId": "80e984d7-5a8c-4b15-e41d-c32a0300ba35",
    "papermill": {
     "duration": 0.142076,
     "end_time": "2021-08-24T03:24:13.280011",
     "exception": false,
     "start_time": "2021-08-24T03:24:13.137935",
     "status": "completed"
    },
    "tags": []
   },
   "outputs": [
    {
     "data": {
      "text/plain": [
       "0    9331\n",
       "1     226\n",
       "Name: hacapo, dtype: int64"
      ]
     },
     "execution_count": 54,
     "metadata": {},
     "output_type": "execute_result"
    }
   ],
   "source": [
    "train['hacapo'].value_counts()"
   ]
  },
  {
   "cell_type": "code",
   "execution_count": 55,
   "id": "7af14c4d",
   "metadata": {
    "colab": {
     "base_uri": "https://localhost:8080/",
     "height": 487
    },
    "execution": {
     "iopub.execute_input": "2021-08-24T03:24:13.576349Z",
     "iopub.status.busy": "2021-08-24T03:24:13.562538Z",
     "iopub.status.idle": "2021-08-24T03:24:13.639764Z",
     "shell.execute_reply": "2021-08-24T03:24:13.638906Z",
     "shell.execute_reply.started": "2021-08-24T03:17:35.486034Z"
    },
    "executionInfo": {
     "elapsed": 475,
     "status": "ok",
     "timestamp": 1672001960118,
     "user": {
      "displayName": "marina wafeek",
      "userId": "08678773223737812097"
     },
     "user_tz": -120
    },
    "id": "7af14c4d",
    "outputId": "e6870668-ece2-4ec4-e161-da98b63ba7c4",
    "papermill": {
     "duration": 0.220461,
     "end_time": "2021-08-24T03:24:13.639923",
     "exception": false,
     "start_time": "2021-08-24T03:24:13.419462",
     "status": "completed"
    },
    "tags": []
   },
   "outputs": [
    {
     "data": {
      "text/html": [
       "<div>\n",
       "<style scoped>\n",
       "    .dataframe tbody tr th:only-of-type {\n",
       "        vertical-align: middle;\n",
       "    }\n",
       "\n",
       "    .dataframe tbody tr th {\n",
       "        vertical-align: top;\n",
       "    }\n",
       "\n",
       "    .dataframe thead th {\n",
       "        text-align: right;\n",
       "    }\n",
       "</style>\n",
       "<table border=\"1\" class=\"dataframe\">\n",
       "  <thead>\n",
       "    <tr style=\"text-align: right;\">\n",
       "      <th></th>\n",
       "      <th>Id</th>\n",
       "      <th>v2a1</th>\n",
       "      <th>hacdor</th>\n",
       "      <th>rooms</th>\n",
       "      <th>hacapo</th>\n",
       "      <th>v14a</th>\n",
       "      <th>r4t1</th>\n",
       "      <th>r4t3</th>\n",
       "      <th>tamhog</th>\n",
       "      <th>tamviv</th>\n",
       "      <th>...</th>\n",
       "      <th>elecsource</th>\n",
       "      <th>toiletdwel</th>\n",
       "      <th>cookingsource</th>\n",
       "      <th>rubbishdisp</th>\n",
       "      <th>houseowned</th>\n",
       "      <th>dependencynew</th>\n",
       "      <th>headescolari</th>\n",
       "      <th>civilstate</th>\n",
       "      <th>education</th>\n",
       "      <th>sumelectronics</th>\n",
       "    </tr>\n",
       "  </thead>\n",
       "  <tbody>\n",
       "    <tr>\n",
       "      <th>23</th>\n",
       "      <td>ID_848b0fdf1</td>\n",
       "      <td>100000.0</td>\n",
       "      <td>1</td>\n",
       "      <td>1</td>\n",
       "      <td>1</td>\n",
       "      <td>0</td>\n",
       "      <td>0</td>\n",
       "      <td>3</td>\n",
       "      <td>3</td>\n",
       "      <td>3</td>\n",
       "      <td>...</td>\n",
       "      <td>3</td>\n",
       "      <td>1</td>\n",
       "      <td>4</td>\n",
       "      <td>4</td>\n",
       "      <td>0</td>\n",
       "      <td>0.00</td>\n",
       "      <td>6</td>\n",
       "      <td>4</td>\n",
       "      <td>3</td>\n",
       "      <td>3.0</td>\n",
       "    </tr>\n",
       "    <tr>\n",
       "      <th>24</th>\n",
       "      <td>ID_298d857e5</td>\n",
       "      <td>100000.0</td>\n",
       "      <td>1</td>\n",
       "      <td>1</td>\n",
       "      <td>1</td>\n",
       "      <td>0</td>\n",
       "      <td>0</td>\n",
       "      <td>3</td>\n",
       "      <td>3</td>\n",
       "      <td>3</td>\n",
       "      <td>...</td>\n",
       "      <td>3</td>\n",
       "      <td>1</td>\n",
       "      <td>4</td>\n",
       "      <td>4</td>\n",
       "      <td>0</td>\n",
       "      <td>0.00</td>\n",
       "      <td>0</td>\n",
       "      <td>5</td>\n",
       "      <td>8</td>\n",
       "      <td>3.0</td>\n",
       "    </tr>\n",
       "    <tr>\n",
       "      <th>25</th>\n",
       "      <td>ID_1d5bf8ddf</td>\n",
       "      <td>100000.0</td>\n",
       "      <td>1</td>\n",
       "      <td>1</td>\n",
       "      <td>1</td>\n",
       "      <td>0</td>\n",
       "      <td>0</td>\n",
       "      <td>3</td>\n",
       "      <td>3</td>\n",
       "      <td>3</td>\n",
       "      <td>...</td>\n",
       "      <td>3</td>\n",
       "      <td>1</td>\n",
       "      <td>4</td>\n",
       "      <td>4</td>\n",
       "      <td>0</td>\n",
       "      <td>0.00</td>\n",
       "      <td>0</td>\n",
       "      <td>4</td>\n",
       "      <td>7</td>\n",
       "      <td>3.0</td>\n",
       "    </tr>\n",
       "    <tr>\n",
       "      <th>144</th>\n",
       "      <td>ID_912ff9986</td>\n",
       "      <td>0.0</td>\n",
       "      <td>1</td>\n",
       "      <td>3</td>\n",
       "      <td>1</td>\n",
       "      <td>1</td>\n",
       "      <td>0</td>\n",
       "      <td>10</td>\n",
       "      <td>10</td>\n",
       "      <td>10</td>\n",
       "      <td>...</td>\n",
       "      <td>3</td>\n",
       "      <td>3</td>\n",
       "      <td>2</td>\n",
       "      <td>4</td>\n",
       "      <td>1</td>\n",
       "      <td>0.25</td>\n",
       "      <td>0</td>\n",
       "      <td>2</td>\n",
       "      <td>3</td>\n",
       "      <td>5.0</td>\n",
       "    </tr>\n",
       "    <tr>\n",
       "      <th>145</th>\n",
       "      <td>ID_3f1c6eec1</td>\n",
       "      <td>0.0</td>\n",
       "      <td>1</td>\n",
       "      <td>3</td>\n",
       "      <td>1</td>\n",
       "      <td>1</td>\n",
       "      <td>0</td>\n",
       "      <td>10</td>\n",
       "      <td>10</td>\n",
       "      <td>10</td>\n",
       "      <td>...</td>\n",
       "      <td>3</td>\n",
       "      <td>3</td>\n",
       "      <td>2</td>\n",
       "      <td>4</td>\n",
       "      <td>1</td>\n",
       "      <td>0.25</td>\n",
       "      <td>0</td>\n",
       "      <td>2</td>\n",
       "      <td>3</td>\n",
       "      <td>5.0</td>\n",
       "    </tr>\n",
       "    <tr>\n",
       "      <th>...</th>\n",
       "      <td>...</td>\n",
       "      <td>...</td>\n",
       "      <td>...</td>\n",
       "      <td>...</td>\n",
       "      <td>...</td>\n",
       "      <td>...</td>\n",
       "      <td>...</td>\n",
       "      <td>...</td>\n",
       "      <td>...</td>\n",
       "      <td>...</td>\n",
       "      <td>...</td>\n",
       "      <td>...</td>\n",
       "      <td>...</td>\n",
       "      <td>...</td>\n",
       "      <td>...</td>\n",
       "      <td>...</td>\n",
       "      <td>...</td>\n",
       "      <td>...</td>\n",
       "      <td>...</td>\n",
       "      <td>...</td>\n",
       "      <td>...</td>\n",
       "    </tr>\n",
       "    <tr>\n",
       "      <th>9357</th>\n",
       "      <td>ID_05fff291e</td>\n",
       "      <td>0.0</td>\n",
       "      <td>1</td>\n",
       "      <td>2</td>\n",
       "      <td>1</td>\n",
       "      <td>1</td>\n",
       "      <td>2</td>\n",
       "      <td>6</td>\n",
       "      <td>6</td>\n",
       "      <td>6</td>\n",
       "      <td>...</td>\n",
       "      <td>3</td>\n",
       "      <td>3</td>\n",
       "      <td>2</td>\n",
       "      <td>1</td>\n",
       "      <td>1</td>\n",
       "      <td>2.00</td>\n",
       "      <td>0</td>\n",
       "      <td>3</td>\n",
       "      <td>3</td>\n",
       "      <td>1.0</td>\n",
       "    </tr>\n",
       "    <tr>\n",
       "      <th>9358</th>\n",
       "      <td>ID_9df6542eb</td>\n",
       "      <td>0.0</td>\n",
       "      <td>1</td>\n",
       "      <td>2</td>\n",
       "      <td>1</td>\n",
       "      <td>1</td>\n",
       "      <td>2</td>\n",
       "      <td>6</td>\n",
       "      <td>6</td>\n",
       "      <td>6</td>\n",
       "      <td>...</td>\n",
       "      <td>3</td>\n",
       "      <td>3</td>\n",
       "      <td>2</td>\n",
       "      <td>1</td>\n",
       "      <td>1</td>\n",
       "      <td>2.00</td>\n",
       "      <td>0</td>\n",
       "      <td>2</td>\n",
       "      <td>4</td>\n",
       "      <td>1.0</td>\n",
       "    </tr>\n",
       "    <tr>\n",
       "      <th>9359</th>\n",
       "      <td>ID_26c172c8c</td>\n",
       "      <td>0.0</td>\n",
       "      <td>1</td>\n",
       "      <td>2</td>\n",
       "      <td>1</td>\n",
       "      <td>1</td>\n",
       "      <td>2</td>\n",
       "      <td>6</td>\n",
       "      <td>6</td>\n",
       "      <td>6</td>\n",
       "      <td>...</td>\n",
       "      <td>3</td>\n",
       "      <td>3</td>\n",
       "      <td>2</td>\n",
       "      <td>1</td>\n",
       "      <td>1</td>\n",
       "      <td>2.00</td>\n",
       "      <td>0</td>\n",
       "      <td>2</td>\n",
       "      <td>2</td>\n",
       "      <td>1.0</td>\n",
       "    </tr>\n",
       "    <tr>\n",
       "      <th>9360</th>\n",
       "      <td>ID_b327c80dd</td>\n",
       "      <td>0.0</td>\n",
       "      <td>1</td>\n",
       "      <td>2</td>\n",
       "      <td>1</td>\n",
       "      <td>1</td>\n",
       "      <td>2</td>\n",
       "      <td>6</td>\n",
       "      <td>6</td>\n",
       "      <td>6</td>\n",
       "      <td>...</td>\n",
       "      <td>3</td>\n",
       "      <td>3</td>\n",
       "      <td>2</td>\n",
       "      <td>1</td>\n",
       "      <td>1</td>\n",
       "      <td>2.00</td>\n",
       "      <td>0</td>\n",
       "      <td>2</td>\n",
       "      <td>2</td>\n",
       "      <td>1.0</td>\n",
       "    </tr>\n",
       "    <tr>\n",
       "      <th>9361</th>\n",
       "      <td>ID_4759aa8b1</td>\n",
       "      <td>0.0</td>\n",
       "      <td>1</td>\n",
       "      <td>2</td>\n",
       "      <td>1</td>\n",
       "      <td>1</td>\n",
       "      <td>2</td>\n",
       "      <td>6</td>\n",
       "      <td>6</td>\n",
       "      <td>6</td>\n",
       "      <td>...</td>\n",
       "      <td>3</td>\n",
       "      <td>3</td>\n",
       "      <td>2</td>\n",
       "      <td>1</td>\n",
       "      <td>1</td>\n",
       "      <td>2.00</td>\n",
       "      <td>6</td>\n",
       "      <td>3</td>\n",
       "      <td>3</td>\n",
       "      <td>1.0</td>\n",
       "    </tr>\n",
       "  </tbody>\n",
       "</table>\n",
       "<p>226 rows × 62 columns</p>\n",
       "</div>"
      ],
      "text/plain": [
       "                Id      v2a1  hacdor  rooms  hacapo  v14a  r4t1  r4t3  tamhog  \\\n",
       "23    ID_848b0fdf1  100000.0       1      1       1     0     0     3       3   \n",
       "24    ID_298d857e5  100000.0       1      1       1     0     0     3       3   \n",
       "25    ID_1d5bf8ddf  100000.0       1      1       1     0     0     3       3   \n",
       "144   ID_912ff9986       0.0       1      3       1     1     0    10      10   \n",
       "145   ID_3f1c6eec1       0.0       1      3       1     1     0    10      10   \n",
       "...            ...       ...     ...    ...     ...   ...   ...   ...     ...   \n",
       "9357  ID_05fff291e       0.0       1      2       1     1     2     6       6   \n",
       "9358  ID_9df6542eb       0.0       1      2       1     1     2     6       6   \n",
       "9359  ID_26c172c8c       0.0       1      2       1     1     2     6       6   \n",
       "9360  ID_b327c80dd       0.0       1      2       1     1     2     6       6   \n",
       "9361  ID_4759aa8b1       0.0       1      2       1     1     2     6       6   \n",
       "\n",
       "      tamviv  ...  elecsource  toiletdwel  cookingsource  rubbishdisp  \\\n",
       "23         3  ...           3           1              4            4   \n",
       "24         3  ...           3           1              4            4   \n",
       "25         3  ...           3           1              4            4   \n",
       "144       10  ...           3           3              2            4   \n",
       "145       10  ...           3           3              2            4   \n",
       "...      ...  ...         ...         ...            ...          ...   \n",
       "9357       6  ...           3           3              2            1   \n",
       "9358       6  ...           3           3              2            1   \n",
       "9359       6  ...           3           3              2            1   \n",
       "9360       6  ...           3           3              2            1   \n",
       "9361       6  ...           3           3              2            1   \n",
       "\n",
       "      houseowned  dependencynew  headescolari  civilstate  education  \\\n",
       "23             0           0.00             6           4          3   \n",
       "24             0           0.00             0           5          8   \n",
       "25             0           0.00             0           4          7   \n",
       "144            1           0.25             0           2          3   \n",
       "145            1           0.25             0           2          3   \n",
       "...          ...            ...           ...         ...        ...   \n",
       "9357           1           2.00             0           3          3   \n",
       "9358           1           2.00             0           2          4   \n",
       "9359           1           2.00             0           2          2   \n",
       "9360           1           2.00             0           2          2   \n",
       "9361           1           2.00             6           3          3   \n",
       "\n",
       "      sumelectronics  \n",
       "23               3.0  \n",
       "24               3.0  \n",
       "25               3.0  \n",
       "144              5.0  \n",
       "145              5.0  \n",
       "...              ...  \n",
       "9357             1.0  \n",
       "9358             1.0  \n",
       "9359             1.0  \n",
       "9360             1.0  \n",
       "9361             1.0  \n",
       "\n",
       "[226 rows x 62 columns]"
      ]
     },
     "execution_count": 55,
     "metadata": {},
     "output_type": "execute_result"
    }
   ],
   "source": [
    "train.loc[train['hacapo'] == 1]"
   ]
  },
  {
   "cell_type": "code",
   "execution_count": 56,
   "id": "e6f9bd88",
   "metadata": {
    "colab": {
     "base_uri": "https://localhost:8080/",
     "height": 423
    },
    "execution": {
     "iopub.execute_input": "2021-08-24T03:24:13.936746Z",
     "iopub.status.busy": "2021-08-24T03:24:13.935578Z",
     "iopub.status.idle": "2021-08-24T03:24:13.940377Z",
     "shell.execute_reply": "2021-08-24T03:24:13.939681Z",
     "shell.execute_reply.started": "2021-08-24T03:17:35.546019Z"
    },
    "executionInfo": {
     "elapsed": 47,
     "status": "ok",
     "timestamp": 1672001960120,
     "user": {
      "displayName": "marina wafeek",
      "userId": "08678773223737812097"
     },
     "user_tz": -120
    },
    "id": "e6f9bd88",
    "outputId": "737a06e6-9817-427e-a1e5-675ce2114472",
    "papermill": {
     "duration": 0.158593,
     "end_time": "2021-08-24T03:24:13.940528",
     "exception": false,
     "start_time": "2021-08-24T03:24:13.781935",
     "status": "completed"
    },
    "tags": []
   },
   "outputs": [
    {
     "data": {
      "text/html": [
       "<div>\n",
       "<style scoped>\n",
       "    .dataframe tbody tr th:only-of-type {\n",
       "        vertical-align: middle;\n",
       "    }\n",
       "\n",
       "    .dataframe tbody tr th {\n",
       "        vertical-align: top;\n",
       "    }\n",
       "\n",
       "    .dataframe thead th {\n",
       "        text-align: right;\n",
       "    }\n",
       "</style>\n",
       "<table border=\"1\" class=\"dataframe\">\n",
       "  <thead>\n",
       "    <tr style=\"text-align: right;\">\n",
       "      <th></th>\n",
       "      <th>overcrowding</th>\n",
       "      <th>hacapo</th>\n",
       "      <th>hacdor</th>\n",
       "      <th>tamviv</th>\n",
       "      <th>rooms</th>\n",
       "      <th>tamhog</th>\n",
       "    </tr>\n",
       "  </thead>\n",
       "  <tbody>\n",
       "    <tr>\n",
       "      <th>0</th>\n",
       "      <td>1.000000</td>\n",
       "      <td>0</td>\n",
       "      <td>0</td>\n",
       "      <td>1</td>\n",
       "      <td>3</td>\n",
       "      <td>1</td>\n",
       "    </tr>\n",
       "    <tr>\n",
       "      <th>1</th>\n",
       "      <td>1.000000</td>\n",
       "      <td>0</td>\n",
       "      <td>0</td>\n",
       "      <td>1</td>\n",
       "      <td>4</td>\n",
       "      <td>1</td>\n",
       "    </tr>\n",
       "    <tr>\n",
       "      <th>2</th>\n",
       "      <td>0.500000</td>\n",
       "      <td>0</td>\n",
       "      <td>0</td>\n",
       "      <td>1</td>\n",
       "      <td>8</td>\n",
       "      <td>1</td>\n",
       "    </tr>\n",
       "    <tr>\n",
       "      <th>3</th>\n",
       "      <td>1.333333</td>\n",
       "      <td>0</td>\n",
       "      <td>0</td>\n",
       "      <td>4</td>\n",
       "      <td>5</td>\n",
       "      <td>4</td>\n",
       "    </tr>\n",
       "    <tr>\n",
       "      <th>4</th>\n",
       "      <td>1.333333</td>\n",
       "      <td>0</td>\n",
       "      <td>0</td>\n",
       "      <td>4</td>\n",
       "      <td>5</td>\n",
       "      <td>4</td>\n",
       "    </tr>\n",
       "    <tr>\n",
       "      <th>...</th>\n",
       "      <td>...</td>\n",
       "      <td>...</td>\n",
       "      <td>...</td>\n",
       "      <td>...</td>\n",
       "      <td>...</td>\n",
       "      <td>...</td>\n",
       "    </tr>\n",
       "    <tr>\n",
       "      <th>9552</th>\n",
       "      <td>1.250000</td>\n",
       "      <td>0</td>\n",
       "      <td>0</td>\n",
       "      <td>5</td>\n",
       "      <td>6</td>\n",
       "      <td>5</td>\n",
       "    </tr>\n",
       "    <tr>\n",
       "      <th>9553</th>\n",
       "      <td>1.250000</td>\n",
       "      <td>0</td>\n",
       "      <td>0</td>\n",
       "      <td>5</td>\n",
       "      <td>6</td>\n",
       "      <td>5</td>\n",
       "    </tr>\n",
       "    <tr>\n",
       "      <th>9554</th>\n",
       "      <td>1.250000</td>\n",
       "      <td>0</td>\n",
       "      <td>0</td>\n",
       "      <td>5</td>\n",
       "      <td>6</td>\n",
       "      <td>5</td>\n",
       "    </tr>\n",
       "    <tr>\n",
       "      <th>9555</th>\n",
       "      <td>1.250000</td>\n",
       "      <td>0</td>\n",
       "      <td>0</td>\n",
       "      <td>5</td>\n",
       "      <td>6</td>\n",
       "      <td>5</td>\n",
       "    </tr>\n",
       "    <tr>\n",
       "      <th>9556</th>\n",
       "      <td>1.250000</td>\n",
       "      <td>0</td>\n",
       "      <td>0</td>\n",
       "      <td>5</td>\n",
       "      <td>6</td>\n",
       "      <td>5</td>\n",
       "    </tr>\n",
       "  </tbody>\n",
       "</table>\n",
       "<p>9557 rows × 6 columns</p>\n",
       "</div>"
      ],
      "text/plain": [
       "      overcrowding  hacapo  hacdor  tamviv  rooms  tamhog\n",
       "0         1.000000       0       0       1      3       1\n",
       "1         1.000000       0       0       1      4       1\n",
       "2         0.500000       0       0       1      8       1\n",
       "3         1.333333       0       0       4      5       4\n",
       "4         1.333333       0       0       4      5       4\n",
       "...            ...     ...     ...     ...    ...     ...\n",
       "9552      1.250000       0       0       5      6       5\n",
       "9553      1.250000       0       0       5      6       5\n",
       "9554      1.250000       0       0       5      6       5\n",
       "9555      1.250000       0       0       5      6       5\n",
       "9556      1.250000       0       0       5      6       5\n",
       "\n",
       "[9557 rows x 6 columns]"
      ]
     },
     "execution_count": 56,
     "metadata": {},
     "output_type": "execute_result"
    }
   ],
   "source": [
    "train[['overcrowding', 'hacapo', 'hacdor', 'tamviv', 'rooms', 'tamhog']]"
   ]
  },
  {
   "cell_type": "code",
   "execution_count": null,
   "id": "Dd9YYGGLMPYK",
   "metadata": {
    "id": "Dd9YYGGLMPYK"
   },
   "outputs": [],
   "source": []
  },
  {
   "cell_type": "code",
   "execution_count": 57,
   "id": "0be0a018",
   "metadata": {
    "colab": {
     "base_uri": "https://localhost:8080/"
    },
    "execution": {
     "iopub.execute_input": "2021-08-24T03:24:14.207550Z",
     "iopub.status.busy": "2021-08-24T03:24:14.206637Z",
     "iopub.status.idle": "2021-08-24T03:24:14.211308Z",
     "shell.execute_reply": "2021-08-24T03:24:14.210635Z",
     "shell.execute_reply.started": "2021-08-24T03:17:35.571514Z"
    },
    "executionInfo": {
     "elapsed": 46,
     "status": "ok",
     "timestamp": 1672001960123,
     "user": {
      "displayName": "marina wafeek",
      "userId": "08678773223737812097"
     },
     "user_tz": -120
    },
    "id": "0be0a018",
    "outputId": "ad96c0d2-fb90-4aa0-da76-00908c22c1f8",
    "papermill": {
     "duration": 0.1405,
     "end_time": "2021-08-24T03:24:14.211456",
     "exception": false,
     "start_time": "2021-08-24T03:24:14.070956",
     "status": "completed"
    },
    "tags": []
   },
   "outputs": [
    {
     "data": {
      "text/plain": [
       "5     2940\n",
       "4     2587\n",
       "6     1607\n",
       "3      890\n",
       "7      732\n",
       "8      298\n",
       "2      188\n",
       "9      168\n",
       "1       97\n",
       "10      43\n",
       "11       7\n",
       "Name: rooms, dtype: int64"
      ]
     },
     "execution_count": 57,
     "metadata": {},
     "output_type": "execute_result"
    }
   ],
   "source": [
    "train['rooms'].value_counts()"
   ]
  },
  {
   "cell_type": "code",
   "execution_count": 58,
   "id": "b7c3a514",
   "metadata": {
    "colab": {
     "base_uri": "https://localhost:8080/"
    },
    "execution": {
     "iopub.execute_input": "2021-08-24T03:24:14.480393Z",
     "iopub.status.busy": "2021-08-24T03:24:14.479679Z",
     "iopub.status.idle": "2021-08-24T03:24:14.484809Z",
     "shell.execute_reply": "2021-08-24T03:24:14.485345Z",
     "shell.execute_reply.started": "2021-08-24T03:17:35.582425Z"
    },
    "executionInfo": {
     "elapsed": 38,
     "status": "ok",
     "timestamp": 1672001960124,
     "user": {
      "displayName": "marina wafeek",
      "userId": "08678773223737812097"
     },
     "user_tz": -120
    },
    "id": "b7c3a514",
    "outputId": "ae336a8b-8a55-4332-9e40-c6e816120b86",
    "papermill": {
     "duration": 0.143023,
     "end_time": "2021-08-24T03:24:14.485541",
     "exception": false,
     "start_time": "2021-08-24T03:24:14.342518",
     "status": "completed"
    },
    "tags": []
   },
   "outputs": [
    {
     "data": {
      "text/plain": [
       "4     2451\n",
       "3     2258\n",
       "5     1590\n",
       "2     1362\n",
       "6      819\n",
       "1      386\n",
       "7      364\n",
       "8       96\n",
       "9       90\n",
       "10      60\n",
       "11      44\n",
       "12      24\n",
       "13      13\n",
       "Name: tamhog, dtype: int64"
      ]
     },
     "execution_count": 58,
     "metadata": {},
     "output_type": "execute_result"
    }
   ],
   "source": [
    "train['tamhog'].value_counts()"
   ]
  },
  {
   "cell_type": "code",
   "execution_count": 59,
   "id": "f1034aab",
   "metadata": {
    "colab": {
     "base_uri": "https://localhost:8080/",
     "height": 505
    },
    "execution": {
     "iopub.execute_input": "2021-08-24T03:24:14.746347Z",
     "iopub.status.busy": "2021-08-24T03:24:14.745577Z",
     "iopub.status.idle": "2021-08-24T03:24:15.458700Z",
     "shell.execute_reply": "2021-08-24T03:24:15.459186Z",
     "shell.execute_reply.started": "2021-08-24T03:17:35.599749Z"
    },
    "executionInfo": {
     "elapsed": 413,
     "status": "ok",
     "timestamp": 1672001960508,
     "user": {
      "displayName": "marina wafeek",
      "userId": "08678773223737812097"
     },
     "user_tz": -120
    },
    "id": "f1034aab",
    "outputId": "67d7149f-8940-4a09-ec0b-bac6a4483aac",
    "papermill": {
     "duration": 0.846453,
     "end_time": "2021-08-24T03:24:15.459405",
     "exception": false,
     "start_time": "2021-08-24T03:24:14.612952",
     "status": "completed"
    },
    "tags": []
   },
   "outputs": [
    {
     "data": {
      "text/plain": [
       "<AxesSubplot:>"
      ]
     },
     "execution_count": 59,
     "metadata": {},
     "output_type": "execute_result"
    },
    {
     "data": {
      "image/png": "[encoded data removed]",
      "text/plain": [
       "<Figure size 720x576 with 2 Axes>"
      ]
     },
     "metadata": {
      "needs_background": "light"
     },
     "output_type": "display_data"
    }
   ],
   "source": [
    "# There are some columns related to the size of the house and the number of persons in the house\n",
    "# We'll aggregate all these columns in a new feature that represents the number of people/size of the house\n",
    "\n",
    "overcrowd_df = train[['bedrooms', 'hacdor', 'rooms', 'hacapo', 'tamviv', 'tamhog', 'overcrowding', 'Target']]\n",
    "\n",
    "corr_matrix = overcrowd_df.corr()\n",
    "\n",
    "fig, ax = plt.subplots(figsize=(10,8))\n",
    "sns.heatmap(corr_matrix, annot=True)"
   ]
  },
  {
   "cell_type": "code",
   "execution_count": 60,
   "id": "2a0170ec",
   "metadata": {
    "execution": {
     "iopub.execute_input": "2021-08-24T03:24:15.976771Z",
     "iopub.status.busy": "2021-08-24T03:24:15.975936Z",
     "iopub.status.idle": "2021-08-24T03:24:16.025390Z",
     "shell.execute_reply": "2021-08-24T03:24:16.025907Z",
     "shell.execute_reply.started": "2021-08-24T03:17:36.258949Z"
    },
    "id": "2a0170ec",
    "papermill": {
     "duration": 0.180585,
     "end_time": "2021-08-24T03:24:16.026087",
     "exception": false,
     "start_time": "2021-08-24T03:24:15.845502",
     "status": "completed"
    },
    "tags": []
   },
   "outputs": [],
   "source": [
    "# No combination were able to create a feature with higher correlation than overcrowding\n",
    "# So it will be preserved\n",
    "# The others will be dropped\n",
    "\n",
    "col_drops = ['bedrooms', 'hacdor', 'rooms', 'hacapo', 'tamviv', 'tamhog']\n",
    "\n",
    "train['overcrowding'] = train['overcrowding'].apply(lambda x: round(x, 1))\n",
    "test['overcrowding'] = test['overcrowding'].apply(lambda x: round(x, 1))\n",
    "\n",
    "train = train.drop(col_drops, axis=1)\n",
    "test = test.drop(col_drops, axis=1)"
   ]
  },
  {
   "cell_type": "code",
   "execution_count": 61,
   "id": "e6afc71a",
   "metadata": {
    "colab": {
     "base_uri": "https://localhost:8080/",
     "height": 299
    },
    "execution": {
     "iopub.execute_input": "2021-08-24T03:24:16.295758Z",
     "iopub.status.busy": "2021-08-24T03:24:16.294786Z",
     "iopub.status.idle": "2021-08-24T03:24:16.327339Z",
     "shell.execute_reply": "2021-08-24T03:24:16.327823Z",
     "shell.execute_reply.started": "2021-08-24T03:17:36.312521Z"
    },
    "executionInfo": {
     "elapsed": 12,
     "status": "ok",
     "timestamp": 1672001960850,
     "user": {
      "displayName": "marina wafeek",
      "userId": "08678773223737812097"
     },
     "user_tz": -120
    },
    "id": "e6afc71a",
    "outputId": "1ebdec4d-0eae-4085-b9b4-40f0672040c1",
    "papermill": {
     "duration": 0.171946,
     "end_time": "2021-08-24T03:24:16.328013",
     "exception": false,
     "start_time": "2021-08-24T03:24:16.156067",
     "status": "completed"
    },
    "tags": []
   },
   "outputs": [
    {
     "data": {
      "text/html": [
       "<div>\n",
       "<style scoped>\n",
       "    .dataframe tbody tr th:only-of-type {\n",
       "        vertical-align: middle;\n",
       "    }\n",
       "\n",
       "    .dataframe tbody tr th {\n",
       "        vertical-align: top;\n",
       "    }\n",
       "\n",
       "    .dataframe thead th {\n",
       "        text-align: right;\n",
       "    }\n",
       "</style>\n",
       "<table border=\"1\" class=\"dataframe\">\n",
       "  <thead>\n",
       "    <tr style=\"text-align: right;\">\n",
       "      <th></th>\n",
       "      <th>Id</th>\n",
       "      <th>v2a1</th>\n",
       "      <th>v14a</th>\n",
       "      <th>r4t1</th>\n",
       "      <th>r4t3</th>\n",
       "      <th>escolari</th>\n",
       "      <th>rez_esc</th>\n",
       "      <th>paredblolad</th>\n",
       "      <th>paredzocalo</th>\n",
       "      <th>paredpreb</th>\n",
       "      <th>...</th>\n",
       "      <th>elecsource</th>\n",
       "      <th>toiletdwel</th>\n",
       "      <th>cookingsource</th>\n",
       "      <th>rubbishdisp</th>\n",
       "      <th>houseowned</th>\n",
       "      <th>dependencynew</th>\n",
       "      <th>headescolari</th>\n",
       "      <th>civilstate</th>\n",
       "      <th>education</th>\n",
       "      <th>sumelectronics</th>\n",
       "    </tr>\n",
       "  </thead>\n",
       "  <tbody>\n",
       "    <tr>\n",
       "      <th>0</th>\n",
       "      <td>ID_279628684</td>\n",
       "      <td>190000.0</td>\n",
       "      <td>1</td>\n",
       "      <td>0</td>\n",
       "      <td>1</td>\n",
       "      <td>10</td>\n",
       "      <td>0.0</td>\n",
       "      <td>1</td>\n",
       "      <td>0</td>\n",
       "      <td>0</td>\n",
       "      <td>...</td>\n",
       "      <td>3</td>\n",
       "      <td>4</td>\n",
       "      <td>3</td>\n",
       "      <td>4</td>\n",
       "      <td>0</td>\n",
       "      <td>0.0</td>\n",
       "      <td>10</td>\n",
       "      <td>5</td>\n",
       "      <td>4</td>\n",
       "      <td>1.0</td>\n",
       "    </tr>\n",
       "    <tr>\n",
       "      <th>1</th>\n",
       "      <td>ID_f29eb3ddd</td>\n",
       "      <td>135000.0</td>\n",
       "      <td>1</td>\n",
       "      <td>0</td>\n",
       "      <td>1</td>\n",
       "      <td>12</td>\n",
       "      <td>0.0</td>\n",
       "      <td>0</td>\n",
       "      <td>0</td>\n",
       "      <td>0</td>\n",
       "      <td>...</td>\n",
       "      <td>3</td>\n",
       "      <td>4</td>\n",
       "      <td>4</td>\n",
       "      <td>4</td>\n",
       "      <td>0</td>\n",
       "      <td>10.0</td>\n",
       "      <td>12</td>\n",
       "      <td>5</td>\n",
       "      <td>8</td>\n",
       "      <td>2.0</td>\n",
       "    </tr>\n",
       "    <tr>\n",
       "      <th>2</th>\n",
       "      <td>ID_68de51c94</td>\n",
       "      <td>0.0</td>\n",
       "      <td>1</td>\n",
       "      <td>0</td>\n",
       "      <td>1</td>\n",
       "      <td>11</td>\n",
       "      <td>0.0</td>\n",
       "      <td>0</td>\n",
       "      <td>0</td>\n",
       "      <td>0</td>\n",
       "      <td>...</td>\n",
       "      <td>3</td>\n",
       "      <td>4</td>\n",
       "      <td>4</td>\n",
       "      <td>4</td>\n",
       "      <td>1</td>\n",
       "      <td>10.0</td>\n",
       "      <td>11</td>\n",
       "      <td>6</td>\n",
       "      <td>5</td>\n",
       "      <td>0.0</td>\n",
       "    </tr>\n",
       "    <tr>\n",
       "      <th>3</th>\n",
       "      <td>ID_d671db89c</td>\n",
       "      <td>180000.0</td>\n",
       "      <td>1</td>\n",
       "      <td>1</td>\n",
       "      <td>4</td>\n",
       "      <td>9</td>\n",
       "      <td>1.0</td>\n",
       "      <td>1</td>\n",
       "      <td>0</td>\n",
       "      <td>0</td>\n",
       "      <td>...</td>\n",
       "      <td>3</td>\n",
       "      <td>4</td>\n",
       "      <td>4</td>\n",
       "      <td>4</td>\n",
       "      <td>0</td>\n",
       "      <td>1.0</td>\n",
       "      <td>0</td>\n",
       "      <td>2</td>\n",
       "      <td>4</td>\n",
       "      <td>4.0</td>\n",
       "    </tr>\n",
       "    <tr>\n",
       "      <th>4</th>\n",
       "      <td>ID_d56d6f5f5</td>\n",
       "      <td>180000.0</td>\n",
       "      <td>1</td>\n",
       "      <td>1</td>\n",
       "      <td>4</td>\n",
       "      <td>11</td>\n",
       "      <td>0.0</td>\n",
       "      <td>1</td>\n",
       "      <td>0</td>\n",
       "      <td>0</td>\n",
       "      <td>...</td>\n",
       "      <td>3</td>\n",
       "      <td>4</td>\n",
       "      <td>4</td>\n",
       "      <td>4</td>\n",
       "      <td>0</td>\n",
       "      <td>1.0</td>\n",
       "      <td>0</td>\n",
       "      <td>3</td>\n",
       "      <td>5</td>\n",
       "      <td>4.0</td>\n",
       "    </tr>\n",
       "  </tbody>\n",
       "</table>\n",
       "<p>5 rows × 56 columns</p>\n",
       "</div>"
      ],
      "text/plain": [
       "             Id      v2a1  v14a  r4t1  r4t3  escolari  rez_esc  paredblolad  \\\n",
       "0  ID_279628684  190000.0     1     0     1        10      0.0            1   \n",
       "1  ID_f29eb3ddd  135000.0     1     0     1        12      0.0            0   \n",
       "2  ID_68de51c94       0.0     1     0     1        11      0.0            0   \n",
       "3  ID_d671db89c  180000.0     1     1     4         9      1.0            1   \n",
       "4  ID_d56d6f5f5  180000.0     1     1     4        11      0.0            1   \n",
       "\n",
       "   paredzocalo  paredpreb  ...  elecsource  toiletdwel  cookingsource  \\\n",
       "0            0          0  ...           3           4              3   \n",
       "1            0          0  ...           3           4              4   \n",
       "2            0          0  ...           3           4              4   \n",
       "3            0          0  ...           3           4              4   \n",
       "4            0          0  ...           3           4              4   \n",
       "\n",
       "   rubbishdisp  houseowned  dependencynew  headescolari  civilstate  \\\n",
       "0            4           0            0.0            10           5   \n",
       "1            4           0           10.0            12           5   \n",
       "2            4           1           10.0            11           6   \n",
       "3            4           0            1.0             0           2   \n",
       "4            4           0            1.0             0           3   \n",
       "\n",
       "   education  sumelectronics  \n",
       "0          4             1.0  \n",
       "1          8             2.0  \n",
       "2          5             0.0  \n",
       "3          4             4.0  \n",
       "4          5             4.0  \n",
       "\n",
       "[5 rows x 56 columns]"
      ]
     },
     "execution_count": 61,
     "metadata": {},
     "output_type": "execute_result"
    }
   ],
   "source": [
    "train.head()"
   ]
  },
  {
   "cell_type": "code",
   "execution_count": 62,
   "id": "c0f387e3",
   "metadata": {
    "execution": {
     "iopub.execute_input": "2021-08-24T03:24:16.593993Z",
     "iopub.status.busy": "2021-08-24T03:24:16.593263Z",
     "iopub.status.idle": "2021-08-24T03:24:25.504430Z",
     "shell.execute_reply": "2021-08-24T03:24:25.503827Z",
     "shell.execute_reply.started": "2021-08-24T03:17:36.347743Z"
    },
    "id": "c0f387e3",
    "papermill": {
     "duration": 9.04386,
     "end_time": "2021-08-24T03:24:25.504603",
     "exception": false,
     "start_time": "2021-08-24T03:24:16.460743",
     "status": "completed"
    },
    "tags": []
   },
   "outputs": [],
   "source": [
    "# We will rebuild the dis column into a feature that sums the total of disable people in the house\n",
    "\n",
    "train['totaldisabled'] = 0\n",
    "\n",
    "tot_dis = train.groupby('idhogar')['dis'].apply(np.sum, axis=0)\n",
    "\n",
    "for i in tot_dis.index:\n",
    "    train.loc[train['idhogar'] == i, 'totaldisabled'] = int(tot_dis.loc[tot_dis.index == i].values)"
   ]
  },
  {
   "cell_type": "code",
   "execution_count": 63,
   "id": "f5b8f13e",
   "metadata": {
    "execution": {
     "iopub.execute_input": "2021-08-24T03:24:25.781875Z",
     "iopub.status.busy": "2021-08-24T03:24:25.780923Z",
     "iopub.status.idle": "2021-08-24T03:24:25.788011Z",
     "shell.execute_reply": "2021-08-24T03:24:25.787314Z",
     "shell.execute_reply.started": "2021-08-24T03:17:45.278164Z"
    },
    "id": "f5b8f13e",
    "papermill": {
     "duration": 0.147053,
     "end_time": "2021-08-24T03:24:25.788181",
     "exception": false,
     "start_time": "2021-08-24T03:24:25.641128",
     "status": "completed"
    },
    "tags": []
   },
   "outputs": [],
   "source": [
    "train[['totaldisabled', 'Target']].corr()\n",
    "\n",
    "train = train.drop('totaldisabled', axis=1)\n",
    "\n",
    "# The correlation is still to low to be worth keeping the columns"
   ]
  },
  {
   "cell_type": "code",
   "execution_count": 64,
   "id": "db1cf8f7",
   "metadata": {
    "execution": {
     "iopub.execute_input": "2021-08-24T03:24:26.067427Z",
     "iopub.status.busy": "2021-08-24T03:24:26.063770Z",
     "iopub.status.idle": "2021-08-24T03:24:35.133307Z",
     "shell.execute_reply": "2021-08-24T03:24:35.133847Z",
     "shell.execute_reply.started": "2021-08-24T03:17:45.289649Z"
    },
    "id": "db1cf8f7",
    "papermill": {
     "duration": 9.210341,
     "end_time": "2021-08-24T03:24:35.134034",
     "exception": false,
     "start_time": "2021-08-24T03:24:25.923693",
     "status": "completed"
    },
    "tags": []
   },
   "outputs": [],
   "source": [
    "# We'll do the same to rez_esc\n",
    "\n",
    "train['totalrezesc'] = 0\n",
    "\n",
    "tot_dis = train.groupby('idhogar')['rez_esc'].apply(np.sum, axis=0)\n",
    "\n",
    "for i in tot_dis.index:\n",
    "    train.loc[train['idhogar'] == i, 'totalrezesc'] = int(tot_dis.loc[tot_dis.index == i].values)"
   ]
  },
  {
   "cell_type": "code",
   "execution_count": 65,
   "id": "db5522e7",
   "metadata": {
    "execution": {
     "iopub.execute_input": "2021-08-24T03:24:35.399027Z",
     "iopub.status.busy": "2021-08-24T03:24:35.398366Z",
     "iopub.status.idle": "2021-08-24T03:24:35.407339Z",
     "shell.execute_reply": "2021-08-24T03:24:35.406469Z",
     "shell.execute_reply.started": "2021-08-24T03:17:54.228133Z"
    },
    "id": "db5522e7",
    "papermill": {
     "duration": 0.142893,
     "end_time": "2021-08-24T03:24:35.407512",
     "exception": false,
     "start_time": "2021-08-24T03:24:35.264619",
     "status": "completed"
    },
    "tags": []
   },
   "outputs": [],
   "source": [
    "train[['totalrezesc', 'Target']].corr()\n",
    "\n",
    "train = train.drop('totalrezesc', axis=1)\n",
    "\n",
    "# The correlation is still to low to be worth keeping the columns"
   ]
  },
  {
   "cell_type": "code",
   "execution_count": 66,
   "id": "9c06b014",
   "metadata": {
    "colab": {
     "base_uri": "https://localhost:8080/",
     "height": 299
    },
    "execution": {
     "iopub.execute_input": "2021-08-24T03:24:35.696910Z",
     "iopub.status.busy": "2021-08-24T03:24:35.684426Z",
     "iopub.status.idle": "2021-08-24T03:24:35.704920Z",
     "shell.execute_reply": "2021-08-24T03:24:35.705440Z",
     "shell.execute_reply.started": "2021-08-24T03:17:54.239221Z"
    },
    "executionInfo": {
     "elapsed": 36,
     "status": "ok",
     "timestamp": 1672001971429,
     "user": {
      "displayName": "marina wafeek",
      "userId": "08678773223737812097"
     },
     "user_tz": -120
    },
    "id": "9c06b014",
    "outputId": "8490a841-f46b-4a11-d572-28a5033777f6",
    "papermill": {
     "duration": 0.163851,
     "end_time": "2021-08-24T03:24:35.705616",
     "exception": false,
     "start_time": "2021-08-24T03:24:35.541765",
     "status": "completed"
    },
    "tags": []
   },
   "outputs": [
    {
     "data": {
      "text/html": [
       "<div>\n",
       "<style scoped>\n",
       "    .dataframe tbody tr th:only-of-type {\n",
       "        vertical-align: middle;\n",
       "    }\n",
       "\n",
       "    .dataframe tbody tr th {\n",
       "        vertical-align: top;\n",
       "    }\n",
       "\n",
       "    .dataframe thead th {\n",
       "        text-align: right;\n",
       "    }\n",
       "</style>\n",
       "<table border=\"1\" class=\"dataframe\">\n",
       "  <thead>\n",
       "    <tr style=\"text-align: right;\">\n",
       "      <th></th>\n",
       "      <th>Id</th>\n",
       "      <th>v2a1</th>\n",
       "      <th>v14a</th>\n",
       "      <th>r4t1</th>\n",
       "      <th>r4t3</th>\n",
       "      <th>escolari</th>\n",
       "      <th>rez_esc</th>\n",
       "      <th>paredblolad</th>\n",
       "      <th>paredzocalo</th>\n",
       "      <th>paredpreb</th>\n",
       "      <th>...</th>\n",
       "      <th>elecsource</th>\n",
       "      <th>toiletdwel</th>\n",
       "      <th>cookingsource</th>\n",
       "      <th>rubbishdisp</th>\n",
       "      <th>houseowned</th>\n",
       "      <th>dependencynew</th>\n",
       "      <th>headescolari</th>\n",
       "      <th>civilstate</th>\n",
       "      <th>education</th>\n",
       "      <th>sumelectronics</th>\n",
       "    </tr>\n",
       "  </thead>\n",
       "  <tbody>\n",
       "    <tr>\n",
       "      <th>0</th>\n",
       "      <td>ID_279628684</td>\n",
       "      <td>190000.0</td>\n",
       "      <td>1</td>\n",
       "      <td>0</td>\n",
       "      <td>1</td>\n",
       "      <td>10</td>\n",
       "      <td>0.0</td>\n",
       "      <td>1</td>\n",
       "      <td>0</td>\n",
       "      <td>0</td>\n",
       "      <td>...</td>\n",
       "      <td>3</td>\n",
       "      <td>4</td>\n",
       "      <td>3</td>\n",
       "      <td>4</td>\n",
       "      <td>0</td>\n",
       "      <td>0.0</td>\n",
       "      <td>10</td>\n",
       "      <td>5</td>\n",
       "      <td>4</td>\n",
       "      <td>1.0</td>\n",
       "    </tr>\n",
       "    <tr>\n",
       "      <th>1</th>\n",
       "      <td>ID_f29eb3ddd</td>\n",
       "      <td>135000.0</td>\n",
       "      <td>1</td>\n",
       "      <td>0</td>\n",
       "      <td>1</td>\n",
       "      <td>12</td>\n",
       "      <td>0.0</td>\n",
       "      <td>0</td>\n",
       "      <td>0</td>\n",
       "      <td>0</td>\n",
       "      <td>...</td>\n",
       "      <td>3</td>\n",
       "      <td>4</td>\n",
       "      <td>4</td>\n",
       "      <td>4</td>\n",
       "      <td>0</td>\n",
       "      <td>10.0</td>\n",
       "      <td>12</td>\n",
       "      <td>5</td>\n",
       "      <td>8</td>\n",
       "      <td>2.0</td>\n",
       "    </tr>\n",
       "    <tr>\n",
       "      <th>2</th>\n",
       "      <td>ID_68de51c94</td>\n",
       "      <td>0.0</td>\n",
       "      <td>1</td>\n",
       "      <td>0</td>\n",
       "      <td>1</td>\n",
       "      <td>11</td>\n",
       "      <td>0.0</td>\n",
       "      <td>0</td>\n",
       "      <td>0</td>\n",
       "      <td>0</td>\n",
       "      <td>...</td>\n",
       "      <td>3</td>\n",
       "      <td>4</td>\n",
       "      <td>4</td>\n",
       "      <td>4</td>\n",
       "      <td>1</td>\n",
       "      <td>10.0</td>\n",
       "      <td>11</td>\n",
       "      <td>6</td>\n",
       "      <td>5</td>\n",
       "      <td>0.0</td>\n",
       "    </tr>\n",
       "    <tr>\n",
       "      <th>3</th>\n",
       "      <td>ID_d671db89c</td>\n",
       "      <td>180000.0</td>\n",
       "      <td>1</td>\n",
       "      <td>1</td>\n",
       "      <td>4</td>\n",
       "      <td>9</td>\n",
       "      <td>1.0</td>\n",
       "      <td>1</td>\n",
       "      <td>0</td>\n",
       "      <td>0</td>\n",
       "      <td>...</td>\n",
       "      <td>3</td>\n",
       "      <td>4</td>\n",
       "      <td>4</td>\n",
       "      <td>4</td>\n",
       "      <td>0</td>\n",
       "      <td>1.0</td>\n",
       "      <td>0</td>\n",
       "      <td>2</td>\n",
       "      <td>4</td>\n",
       "      <td>4.0</td>\n",
       "    </tr>\n",
       "    <tr>\n",
       "      <th>4</th>\n",
       "      <td>ID_d56d6f5f5</td>\n",
       "      <td>180000.0</td>\n",
       "      <td>1</td>\n",
       "      <td>1</td>\n",
       "      <td>4</td>\n",
       "      <td>11</td>\n",
       "      <td>0.0</td>\n",
       "      <td>1</td>\n",
       "      <td>0</td>\n",
       "      <td>0</td>\n",
       "      <td>...</td>\n",
       "      <td>3</td>\n",
       "      <td>4</td>\n",
       "      <td>4</td>\n",
       "      <td>4</td>\n",
       "      <td>0</td>\n",
       "      <td>1.0</td>\n",
       "      <td>0</td>\n",
       "      <td>3</td>\n",
       "      <td>5</td>\n",
       "      <td>4.0</td>\n",
       "    </tr>\n",
       "  </tbody>\n",
       "</table>\n",
       "<p>5 rows × 56 columns</p>\n",
       "</div>"
      ],
      "text/plain": [
       "             Id      v2a1  v14a  r4t1  r4t3  escolari  rez_esc  paredblolad  \\\n",
       "0  ID_279628684  190000.0     1     0     1        10      0.0            1   \n",
       "1  ID_f29eb3ddd  135000.0     1     0     1        12      0.0            0   \n",
       "2  ID_68de51c94       0.0     1     0     1        11      0.0            0   \n",
       "3  ID_d671db89c  180000.0     1     1     4         9      1.0            1   \n",
       "4  ID_d56d6f5f5  180000.0     1     1     4        11      0.0            1   \n",
       "\n",
       "   paredzocalo  paredpreb  ...  elecsource  toiletdwel  cookingsource  \\\n",
       "0            0          0  ...           3           4              3   \n",
       "1            0          0  ...           3           4              4   \n",
       "2            0          0  ...           3           4              4   \n",
       "3            0          0  ...           3           4              4   \n",
       "4            0          0  ...           3           4              4   \n",
       "\n",
       "   rubbishdisp  houseowned  dependencynew  headescolari  civilstate  \\\n",
       "0            4           0            0.0            10           5   \n",
       "1            4           0           10.0            12           5   \n",
       "2            4           1           10.0            11           6   \n",
       "3            4           0            1.0             0           2   \n",
       "4            4           0            1.0             0           3   \n",
       "\n",
       "   education  sumelectronics  \n",
       "0          4             1.0  \n",
       "1          8             2.0  \n",
       "2          5             0.0  \n",
       "3          4             4.0  \n",
       "4          5             4.0  \n",
       "\n",
       "[5 rows x 56 columns]"
      ]
     },
     "execution_count": 66,
     "metadata": {},
     "output_type": "execute_result"
    }
   ],
   "source": [
    "train.head()"
   ]
  },
  {
   "cell_type": "code",
   "execution_count": 67,
   "id": "4ef3e5a9",
   "metadata": {
    "execution": {
     "iopub.execute_input": "2021-08-24T03:24:35.976002Z",
     "iopub.status.busy": "2021-08-24T03:24:35.975350Z",
     "iopub.status.idle": "2021-08-24T03:24:35.987227Z",
     "shell.execute_reply": "2021-08-24T03:24:35.986522Z",
     "shell.execute_reply.started": "2021-08-24T03:17:54.275717Z"
    },
    "id": "4ef3e5a9",
    "papermill": {
     "duration": 0.14688,
     "end_time": "2021-08-24T03:24:35.987385",
     "exception": false,
     "start_time": "2021-08-24T03:24:35.840505",
     "status": "completed"
    },
    "tags": []
   },
   "outputs": [],
   "source": [
    "# We now will drop the last of the features individual related\n",
    "\n",
    "drop_cols = ['escolari', 'rez_esc', 'rez_esc-missing', 'dis', 'male', 'female', 'age', 'civilstate', 'education']\n",
    "\n",
    "train = train.drop(drop_cols, axis=1)\n",
    "test = test.drop(drop_cols, axis=1)"
   ]
  },
  {
   "cell_type": "code",
   "execution_count": 68,
   "id": "31b3936c",
   "metadata": {
    "colab": {
     "base_uri": "https://localhost:8080/"
    },
    "execution": {
     "iopub.execute_input": "2021-08-24T03:24:36.544324Z",
     "iopub.status.busy": "2021-08-24T03:24:36.543403Z",
     "iopub.status.idle": "2021-08-24T03:24:36.548812Z",
     "shell.execute_reply": "2021-08-24T03:24:36.548246Z",
     "shell.execute_reply.started": "2021-08-24T03:17:54.314656Z"
    },
    "executionInfo": {
     "elapsed": 224,
     "status": "ok",
     "timestamp": 1672001987704,
     "user": {
      "displayName": "marina wafeek",
      "userId": "08678773223737812097"
     },
     "user_tz": -120
    },
    "id": "31b3936c",
    "outputId": "b6ec9f21-7d02-4cfd-c73a-0d69e59dde52",
    "papermill": {
     "duration": 0.141643,
     "end_time": "2021-08-24T03:24:36.548958",
     "exception": false,
     "start_time": "2021-08-24T03:24:36.407315",
     "status": "completed"
    },
    "tags": []
   },
   "outputs": [
    {
     "data": {
      "text/plain": [
       "(9557, 47)"
      ]
     },
     "execution_count": 68,
     "metadata": {},
     "output_type": "execute_result"
    }
   ],
   "source": [
    "train.shape"
   ]
  },
  {
   "cell_type": "code",
   "execution_count": 69,
   "id": "85ed6c08",
   "metadata": {
    "colab": {
     "base_uri": "https://localhost:8080/"
    },
    "execution": {
     "iopub.execute_input": "2021-08-24T03:24:36.814607Z",
     "iopub.status.busy": "2021-08-24T03:24:36.813655Z",
     "iopub.status.idle": "2021-08-24T03:24:36.818218Z",
     "shell.execute_reply": "2021-08-24T03:24:36.817560Z",
     "shell.execute_reply.started": "2021-08-24T03:17:54.324341Z"
    },
    "executionInfo": {
     "elapsed": 383,
     "status": "ok",
     "timestamp": 1672001993941,
     "user": {
      "displayName": "marina wafeek",
      "userId": "08678773223737812097"
     },
     "user_tz": -120
    },
    "id": "85ed6c08",
    "outputId": "39dc7500-0558-4d93-aba5-aea9abe1052a",
    "papermill": {
     "duration": 0.138296,
     "end_time": "2021-08-24T03:24:36.818367",
     "exception": false,
     "start_time": "2021-08-24T03:24:36.680071",
     "status": "completed"
    },
    "tags": []
   },
   "outputs": [
    {
     "data": {
      "text/plain": [
       "(23856, 46)"
      ]
     },
     "execution_count": 69,
     "metadata": {},
     "output_type": "execute_result"
    }
   ],
   "source": [
    "test.shape"
   ]
  },
  {
   "cell_type": "code",
   "execution_count": 70,
   "id": "f0ce3d3f",
   "metadata": {
    "colab": {
     "base_uri": "https://localhost:8080/"
    },
    "execution": {
     "iopub.execute_input": "2021-08-24T03:24:37.092103Z",
     "iopub.status.busy": "2021-08-24T03:24:37.091457Z",
     "iopub.status.idle": "2021-08-24T03:24:37.108960Z",
     "shell.execute_reply": "2021-08-24T03:24:37.108003Z",
     "shell.execute_reply.started": "2021-08-24T03:17:54.340209Z"
    },
    "executionInfo": {
     "elapsed": 220,
     "status": "ok",
     "timestamp": 1672002401894,
     "user": {
      "displayName": "marina wafeek",
      "userId": "08678773223737812097"
     },
     "user_tz": -120
    },
    "id": "f0ce3d3f",
    "outputId": "9170e01e-a4d1-45d1-9d12-73078ac87a60",
    "papermill": {
     "duration": 0.156696,
     "end_time": "2021-08-24T03:24:37.109196",
     "exception": false,
     "start_time": "2021-08-24T03:24:36.952500",
     "status": "completed"
    },
    "tags": []
   },
   "outputs": [
    {
     "name": "stdout",
     "output_type": "stream",
     "text": [
      "Target            1.000000\n",
      "meaneduc          0.335110\n",
      "eviv3             0.294222\n",
      "epared3           0.292451\n",
      "floortype         0.273167\n",
      "sumelectronics    0.264639\n",
      "paredblolad       0.261274\n",
      "etecho3           0.257378\n",
      "cookingsource     0.196131\n",
      "lugar1            0.173359\n",
      "v2a1              0.166942\n",
      "headescolari      0.132692\n",
      "rubbishdisp       0.129377\n",
      "toiletdwel        0.121378\n",
      "houseowned        0.088243\n",
      "isurban           0.087131\n",
      "waterprov         0.077769\n",
      "v14a              0.063382\n",
      "rooftype          0.059949\n",
      "ishousehead       0.037903\n",
      "elecsource        0.024678\n",
      "paredother       -0.000629\n",
      "lugar2           -0.018523\n",
      "paredfibras      -0.027730\n",
      "lugar6           -0.043413\n",
      "paredzinc        -0.051806\n",
      "lugar4           -0.076784\n",
      "paredzocalo      -0.079199\n",
      "pareddes         -0.082923\n",
      "lugar3           -0.086227\n",
      "lugar5           -0.089619\n",
      "paredpreb        -0.099002\n",
      "isprecarious     -0.117094\n",
      "etecho2          -0.139205\n",
      "v2a1-missing     -0.143441\n",
      "r4t3             -0.147548\n",
      "dependencynew    -0.156558\n",
      "paredmad         -0.168237\n",
      "epared2          -0.177334\n",
      "eviv2            -0.179421\n",
      "etecho1          -0.190837\n",
      "epared1          -0.203025\n",
      "eviv1            -0.208038\n",
      "overcrowding     -0.290183\n",
      "r4t1             -0.316745\n",
      "Name: Target, dtype: float64\n"
     ]
    }
   ],
   "source": [
    "\n",
    "# We already built enough features, now lets analyse the correlation of each one to target and keep dropping redundant features\n",
    "\n",
    "corr_matrix = train.corr()\n",
    "print(corr_matrix['Target'].sort_values(ascending=False))\n",
    "\n",
    "# We will drop most of the features that is between 0.2 and -0.2, unless we have a good reason to keep it\n",
    "\n",
    "\n",
    "drop_cols = ['cookingsource', 'v2a1', 'toiletdwel', 'rubbishdisp', 'isurban', 'waterprov', 'v14a', 'houseowned', 'rooftype', 'elecsource', 'r4t3', 'v2a1-missing', 'Id','idhogar']\n",
    "\n",
    "train = train.drop(drop_cols, axis=1)\n",
    "test = test.drop(drop_cols, axis=1)\n",
    "\n",
    "train = train.rename(columns = {'r4t1': 'numchilds', 'dependencynew' : 'dependency'})\n",
    "test = test.rename(columns = {'r4t1': 'numchilds', 'dependencynew' : 'dependency'})\n"
   ]
  },
  {
   "cell_type": "code",
   "execution_count": 71,
   "id": "8c2dd3e7",
   "metadata": {
    "colab": {
     "base_uri": "https://localhost:8080/",
     "height": 270
    },
    "execution": {
     "iopub.execute_input": "2021-08-24T03:24:37.398211Z",
     "iopub.status.busy": "2021-08-24T03:24:37.397232Z",
     "iopub.status.idle": "2021-08-24T03:24:37.402237Z",
     "shell.execute_reply": "2021-08-24T03:24:37.401437Z",
     "shell.execute_reply.started": "2021-08-24T03:17:54.366365Z"
    },
    "executionInfo": {
     "elapsed": 9,
     "status": "ok",
     "timestamp": 1672002407297,
     "user": {
      "displayName": "marina wafeek",
      "userId": "08678773223737812097"
     },
     "user_tz": -120
    },
    "id": "8c2dd3e7",
    "outputId": "2cce86d8-213f-437a-c94b-b3520d4c35b2",
    "papermill": {
     "duration": 0.15776,
     "end_time": "2021-08-24T03:24:37.402398",
     "exception": false,
     "start_time": "2021-08-24T03:24:37.244638",
     "status": "completed"
    },
    "tags": []
   },
   "outputs": [
    {
     "data": {
      "text/html": [
       "<div>\n",
       "<style scoped>\n",
       "    .dataframe tbody tr th:only-of-type {\n",
       "        vertical-align: middle;\n",
       "    }\n",
       "\n",
       "    .dataframe tbody tr th {\n",
       "        vertical-align: top;\n",
       "    }\n",
       "\n",
       "    .dataframe thead th {\n",
       "        text-align: right;\n",
       "    }\n",
       "</style>\n",
       "<table border=\"1\" class=\"dataframe\">\n",
       "  <thead>\n",
       "    <tr style=\"text-align: right;\">\n",
       "      <th></th>\n",
       "      <th>numchilds</th>\n",
       "      <th>paredblolad</th>\n",
       "      <th>paredzocalo</th>\n",
       "      <th>paredpreb</th>\n",
       "      <th>pareddes</th>\n",
       "      <th>paredmad</th>\n",
       "      <th>paredzinc</th>\n",
       "      <th>paredfibras</th>\n",
       "      <th>paredother</th>\n",
       "      <th>epared1</th>\n",
       "      <th>...</th>\n",
       "      <th>lugar2</th>\n",
       "      <th>lugar3</th>\n",
       "      <th>lugar4</th>\n",
       "      <th>lugar5</th>\n",
       "      <th>lugar6</th>\n",
       "      <th>Target</th>\n",
       "      <th>floortype</th>\n",
       "      <th>dependency</th>\n",
       "      <th>headescolari</th>\n",
       "      <th>sumelectronics</th>\n",
       "    </tr>\n",
       "  </thead>\n",
       "  <tbody>\n",
       "    <tr>\n",
       "      <th>0</th>\n",
       "      <td>0</td>\n",
       "      <td>1</td>\n",
       "      <td>0</td>\n",
       "      <td>0</td>\n",
       "      <td>0</td>\n",
       "      <td>0</td>\n",
       "      <td>0</td>\n",
       "      <td>0</td>\n",
       "      <td>0</td>\n",
       "      <td>0</td>\n",
       "      <td>...</td>\n",
       "      <td>0</td>\n",
       "      <td>0</td>\n",
       "      <td>0</td>\n",
       "      <td>0</td>\n",
       "      <td>0</td>\n",
       "      <td>4</td>\n",
       "      <td>5</td>\n",
       "      <td>0.0</td>\n",
       "      <td>10</td>\n",
       "      <td>1.0</td>\n",
       "    </tr>\n",
       "    <tr>\n",
       "      <th>1</th>\n",
       "      <td>0</td>\n",
       "      <td>0</td>\n",
       "      <td>0</td>\n",
       "      <td>0</td>\n",
       "      <td>0</td>\n",
       "      <td>1</td>\n",
       "      <td>0</td>\n",
       "      <td>0</td>\n",
       "      <td>0</td>\n",
       "      <td>0</td>\n",
       "      <td>...</td>\n",
       "      <td>0</td>\n",
       "      <td>0</td>\n",
       "      <td>0</td>\n",
       "      <td>0</td>\n",
       "      <td>0</td>\n",
       "      <td>4</td>\n",
       "      <td>4</td>\n",
       "      <td>10.0</td>\n",
       "      <td>12</td>\n",
       "      <td>2.0</td>\n",
       "    </tr>\n",
       "    <tr>\n",
       "      <th>2</th>\n",
       "      <td>0</td>\n",
       "      <td>0</td>\n",
       "      <td>0</td>\n",
       "      <td>0</td>\n",
       "      <td>0</td>\n",
       "      <td>1</td>\n",
       "      <td>0</td>\n",
       "      <td>0</td>\n",
       "      <td>0</td>\n",
       "      <td>0</td>\n",
       "      <td>...</td>\n",
       "      <td>0</td>\n",
       "      <td>0</td>\n",
       "      <td>0</td>\n",
       "      <td>0</td>\n",
       "      <td>0</td>\n",
       "      <td>4</td>\n",
       "      <td>5</td>\n",
       "      <td>10.0</td>\n",
       "      <td>11</td>\n",
       "      <td>0.0</td>\n",
       "    </tr>\n",
       "    <tr>\n",
       "      <th>3</th>\n",
       "      <td>1</td>\n",
       "      <td>1</td>\n",
       "      <td>0</td>\n",
       "      <td>0</td>\n",
       "      <td>0</td>\n",
       "      <td>0</td>\n",
       "      <td>0</td>\n",
       "      <td>0</td>\n",
       "      <td>0</td>\n",
       "      <td>0</td>\n",
       "      <td>...</td>\n",
       "      <td>0</td>\n",
       "      <td>0</td>\n",
       "      <td>0</td>\n",
       "      <td>0</td>\n",
       "      <td>0</td>\n",
       "      <td>4</td>\n",
       "      <td>5</td>\n",
       "      <td>1.0</td>\n",
       "      <td>0</td>\n",
       "      <td>4.0</td>\n",
       "    </tr>\n",
       "    <tr>\n",
       "      <th>4</th>\n",
       "      <td>1</td>\n",
       "      <td>1</td>\n",
       "      <td>0</td>\n",
       "      <td>0</td>\n",
       "      <td>0</td>\n",
       "      <td>0</td>\n",
       "      <td>0</td>\n",
       "      <td>0</td>\n",
       "      <td>0</td>\n",
       "      <td>0</td>\n",
       "      <td>...</td>\n",
       "      <td>0</td>\n",
       "      <td>0</td>\n",
       "      <td>0</td>\n",
       "      <td>0</td>\n",
       "      <td>0</td>\n",
       "      <td>4</td>\n",
       "      <td>5</td>\n",
       "      <td>1.0</td>\n",
       "      <td>0</td>\n",
       "      <td>4.0</td>\n",
       "    </tr>\n",
       "  </tbody>\n",
       "</table>\n",
       "<p>5 rows × 33 columns</p>\n",
       "</div>"
      ],
      "text/plain": [
       "   numchilds  paredblolad  paredzocalo  paredpreb  pareddes  paredmad  \\\n",
       "0          0            1            0          0         0         0   \n",
       "1          0            0            0          0         0         1   \n",
       "2          0            0            0          0         0         1   \n",
       "3          1            1            0          0         0         0   \n",
       "4          1            1            0          0         0         0   \n",
       "\n",
       "   paredzinc  paredfibras  paredother  epared1  ...  lugar2  lugar3  lugar4  \\\n",
       "0          0            0           0        0  ...       0       0       0   \n",
       "1          0            0           0        0  ...       0       0       0   \n",
       "2          0            0           0        0  ...       0       0       0   \n",
       "3          0            0           0        0  ...       0       0       0   \n",
       "4          0            0           0        0  ...       0       0       0   \n",
       "\n",
       "   lugar5  lugar6  Target  floortype  dependency  headescolari  sumelectronics  \n",
       "0       0       0       4          5         0.0            10             1.0  \n",
       "1       0       0       4          4        10.0            12             2.0  \n",
       "2       0       0       4          5        10.0            11             0.0  \n",
       "3       0       0       4          5         1.0             0             4.0  \n",
       "4       0       0       4          5         1.0             0             4.0  \n",
       "\n",
       "[5 rows x 33 columns]"
      ]
     },
     "execution_count": 71,
     "metadata": {},
     "output_type": "execute_result"
    }
   ],
   "source": [
    "train.head()"
   ]
  },
  {
   "cell_type": "code",
   "execution_count": 72,
   "id": "7271821a",
   "metadata": {
    "colab": {
     "base_uri": "https://localhost:8080/",
     "height": 270
    },
    "execution": {
     "iopub.execute_input": "2021-08-24T03:24:37.690721Z",
     "iopub.status.busy": "2021-08-24T03:24:37.689731Z",
     "iopub.status.idle": "2021-08-24T03:24:37.694707Z",
     "shell.execute_reply": "2021-08-24T03:24:37.694196Z",
     "shell.execute_reply.started": "2021-08-24T03:17:54.388648Z"
    },
    "executionInfo": {
     "elapsed": 10,
     "status": "ok",
     "timestamp": 1672002408626,
     "user": {
      "displayName": "marina wafeek",
      "userId": "08678773223737812097"
     },
     "user_tz": -120
    },
    "id": "7271821a",
    "outputId": "9c3fa444-a160-403c-bc40-1dcda1b662ec",
    "papermill": {
     "duration": 0.158565,
     "end_time": "2021-08-24T03:24:37.694853",
     "exception": false,
     "start_time": "2021-08-24T03:24:37.536288",
     "status": "completed"
    },
    "tags": []
   },
   "outputs": [
    {
     "data": {
      "text/html": [
       "<div>\n",
       "<style scoped>\n",
       "    .dataframe tbody tr th:only-of-type {\n",
       "        vertical-align: middle;\n",
       "    }\n",
       "\n",
       "    .dataframe tbody tr th {\n",
       "        vertical-align: top;\n",
       "    }\n",
       "\n",
       "    .dataframe thead th {\n",
       "        text-align: right;\n",
       "    }\n",
       "</style>\n",
       "<table border=\"1\" class=\"dataframe\">\n",
       "  <thead>\n",
       "    <tr style=\"text-align: right;\">\n",
       "      <th></th>\n",
       "      <th>numchilds</th>\n",
       "      <th>paredblolad</th>\n",
       "      <th>paredzocalo</th>\n",
       "      <th>paredpreb</th>\n",
       "      <th>pareddes</th>\n",
       "      <th>paredmad</th>\n",
       "      <th>paredzinc</th>\n",
       "      <th>paredfibras</th>\n",
       "      <th>paredother</th>\n",
       "      <th>epared1</th>\n",
       "      <th>...</th>\n",
       "      <th>lugar1</th>\n",
       "      <th>lugar2</th>\n",
       "      <th>lugar3</th>\n",
       "      <th>lugar4</th>\n",
       "      <th>lugar5</th>\n",
       "      <th>lugar6</th>\n",
       "      <th>floortype</th>\n",
       "      <th>dependency</th>\n",
       "      <th>headescolari</th>\n",
       "      <th>sumelectronics</th>\n",
       "    </tr>\n",
       "  </thead>\n",
       "  <tbody>\n",
       "    <tr>\n",
       "      <th>0</th>\n",
       "      <td>1</td>\n",
       "      <td>1</td>\n",
       "      <td>0</td>\n",
       "      <td>0</td>\n",
       "      <td>0</td>\n",
       "      <td>0</td>\n",
       "      <td>0</td>\n",
       "      <td>0</td>\n",
       "      <td>0</td>\n",
       "      <td>0</td>\n",
       "      <td>...</td>\n",
       "      <td>1</td>\n",
       "      <td>0</td>\n",
       "      <td>0</td>\n",
       "      <td>0</td>\n",
       "      <td>0</td>\n",
       "      <td>0</td>\n",
       "      <td>5</td>\n",
       "      <td>0.5</td>\n",
       "      <td>0</td>\n",
       "      <td>3.0</td>\n",
       "    </tr>\n",
       "    <tr>\n",
       "      <th>1</th>\n",
       "      <td>1</td>\n",
       "      <td>1</td>\n",
       "      <td>0</td>\n",
       "      <td>0</td>\n",
       "      <td>0</td>\n",
       "      <td>0</td>\n",
       "      <td>0</td>\n",
       "      <td>0</td>\n",
       "      <td>0</td>\n",
       "      <td>0</td>\n",
       "      <td>...</td>\n",
       "      <td>1</td>\n",
       "      <td>0</td>\n",
       "      <td>0</td>\n",
       "      <td>0</td>\n",
       "      <td>0</td>\n",
       "      <td>0</td>\n",
       "      <td>5</td>\n",
       "      <td>0.5</td>\n",
       "      <td>0</td>\n",
       "      <td>3.0</td>\n",
       "    </tr>\n",
       "    <tr>\n",
       "      <th>2</th>\n",
       "      <td>1</td>\n",
       "      <td>1</td>\n",
       "      <td>0</td>\n",
       "      <td>0</td>\n",
       "      <td>0</td>\n",
       "      <td>0</td>\n",
       "      <td>0</td>\n",
       "      <td>0</td>\n",
       "      <td>0</td>\n",
       "      <td>0</td>\n",
       "      <td>...</td>\n",
       "      <td>1</td>\n",
       "      <td>0</td>\n",
       "      <td>0</td>\n",
       "      <td>0</td>\n",
       "      <td>0</td>\n",
       "      <td>0</td>\n",
       "      <td>5</td>\n",
       "      <td>0.5</td>\n",
       "      <td>17</td>\n",
       "      <td>3.0</td>\n",
       "    </tr>\n",
       "    <tr>\n",
       "      <th>3</th>\n",
       "      <td>0</td>\n",
       "      <td>1</td>\n",
       "      <td>0</td>\n",
       "      <td>0</td>\n",
       "      <td>0</td>\n",
       "      <td>0</td>\n",
       "      <td>0</td>\n",
       "      <td>0</td>\n",
       "      <td>0</td>\n",
       "      <td>0</td>\n",
       "      <td>...</td>\n",
       "      <td>1</td>\n",
       "      <td>0</td>\n",
       "      <td>0</td>\n",
       "      <td>0</td>\n",
       "      <td>0</td>\n",
       "      <td>0</td>\n",
       "      <td>5</td>\n",
       "      <td>0.0</td>\n",
       "      <td>16</td>\n",
       "      <td>4.0</td>\n",
       "    </tr>\n",
       "    <tr>\n",
       "      <th>4</th>\n",
       "      <td>0</td>\n",
       "      <td>1</td>\n",
       "      <td>0</td>\n",
       "      <td>0</td>\n",
       "      <td>0</td>\n",
       "      <td>0</td>\n",
       "      <td>0</td>\n",
       "      <td>0</td>\n",
       "      <td>0</td>\n",
       "      <td>0</td>\n",
       "      <td>...</td>\n",
       "      <td>1</td>\n",
       "      <td>0</td>\n",
       "      <td>0</td>\n",
       "      <td>0</td>\n",
       "      <td>0</td>\n",
       "      <td>0</td>\n",
       "      <td>5</td>\n",
       "      <td>10.0</td>\n",
       "      <td>11</td>\n",
       "      <td>2.0</td>\n",
       "    </tr>\n",
       "  </tbody>\n",
       "</table>\n",
       "<p>5 rows × 32 columns</p>\n",
       "</div>"
      ],
      "text/plain": [
       "   numchilds  paredblolad  paredzocalo  paredpreb  pareddes  paredmad  \\\n",
       "0          1            1            0          0         0         0   \n",
       "1          1            1            0          0         0         0   \n",
       "2          1            1            0          0         0         0   \n",
       "3          0            1            0          0         0         0   \n",
       "4          0            1            0          0         0         0   \n",
       "\n",
       "   paredzinc  paredfibras  paredother  epared1  ...  lugar1  lugar2  lugar3  \\\n",
       "0          0            0           0        0  ...       1       0       0   \n",
       "1          0            0           0        0  ...       1       0       0   \n",
       "2          0            0           0        0  ...       1       0       0   \n",
       "3          0            0           0        0  ...       1       0       0   \n",
       "4          0            0           0        0  ...       1       0       0   \n",
       "\n",
       "   lugar4  lugar5  lugar6  floortype  dependency  headescolari  sumelectronics  \n",
       "0       0       0       0          5         0.5             0             3.0  \n",
       "1       0       0       0          5         0.5             0             3.0  \n",
       "2       0       0       0          5         0.5            17             3.0  \n",
       "3       0       0       0          5         0.0            16             4.0  \n",
       "4       0       0       0          5        10.0            11             2.0  \n",
       "\n",
       "[5 rows x 32 columns]"
      ]
     },
     "execution_count": 72,
     "metadata": {},
     "output_type": "execute_result"
    }
   ],
   "source": [
    "test.head()"
   ]
  },
  {
   "cell_type": "markdown",
   "id": "b3cac5d9",
   "metadata": {
    "id": "b3cac5d9",
    "papermill": {
     "duration": 0.135181,
     "end_time": "2021-08-24T03:24:37.963300",
     "exception": false,
     "start_time": "2021-08-24T03:24:37.828119",
     "status": "completed"
    },
    "tags": []
   },
   "source": [
    "**Applying RondomForest**"
   ]
  },
  {
   "cell_type": "code",
   "execution_count": 73,
   "id": "6b9d8161",
   "metadata": {
    "colab": {
     "base_uri": "https://localhost:8080/"
    },
    "execution": {
     "iopub.execute_input": "2021-08-24T03:24:38.246746Z",
     "iopub.status.busy": "2021-08-24T03:24:38.245405Z",
     "iopub.status.idle": "2021-08-24T03:24:38.252276Z",
     "shell.execute_reply": "2021-08-24T03:24:38.252894Z",
     "shell.execute_reply.started": "2021-08-24T03:17:54.412085Z"
    },
    "executionInfo": {
     "elapsed": 341,
     "status": "ok",
     "timestamp": 1672002415560,
     "user": {
      "displayName": "marina wafeek",
      "userId": "08678773223737812097"
     },
     "user_tz": -120
    },
    "id": "6b9d8161",
    "outputId": "866b2d46-69b9-4034-d943-aed791db27a9",
    "papermill": {
     "duration": 0.157274,
     "end_time": "2021-08-24T03:24:38.253354",
     "exception": false,
     "start_time": "2021-08-24T03:24:38.096080",
     "status": "completed"
    },
    "tags": []
   },
   "outputs": [
    {
     "name": "stdout",
     "output_type": "stream",
     "text": [
      "Shape of X is (9557, 32), and shape of y is (9557,)\n"
     ]
    }
   ],
   "source": [
    "y = train['Target']\n",
    "X = train.drop('Target', axis=1)\n",
    "\n",
    "#Checking shape of X and y\n",
    "print(\"Shape of X is {}, and shape of y is {}\".format(X.shape, y.shape))\n",
    "\n",
    "#Splitting train and test data\n",
    "X_train,X_test,y_train,y_test = train_test_split(X, y, test_size=0.1)"
   ]
  },
  {
   "cell_type": "code",
   "execution_count": 74,
   "id": "f-OqCS4PJeRo",
   "metadata": {
    "id": "f-OqCS4PJeRo"
   },
   "outputs": [],
   "source": [
    "#instantiating the Random Forest Classifier with n_estimator as 150\n",
    "forest_m= RandomForestClassifier(n_estimators=150)\n",
    "\n",
    "#Fitting the model\n",
    "forest_m.fit(X_train,y_train)\n",
    "\n",
    "#Predicting the y_pred_test\n",
    "y_pred_test = forest_m.predict(X_test)"
   ]
  },
  {
   "cell_type": "code",
   "execution_count": 75,
   "id": "Xgqw7s4wJgj5",
   "metadata": {
    "colab": {
     "base_uri": "https://localhost:8080/"
    },
    "executionInfo": {
     "elapsed": 310,
     "status": "ok",
     "timestamp": 1672002423744,
     "user": {
      "displayName": "marina wafeek",
      "userId": "08678773223737812097"
     },
     "user_tz": -120
    },
    "id": "Xgqw7s4wJgj5",
    "outputId": "f3208c9d-808c-48f2-a6b5-0b355e7961c5"
   },
   "outputs": [
    {
     "name": "stdout",
     "output_type": "stream",
     "text": [
      "Accuracy score of forest on test dataset is : \n",
      "0.9518828451882845\n"
     ]
    }
   ],
   "source": [
    "#Checking accuracy score, confusion matrix and classification report on test data\n",
    "print(\"Accuracy score of forest on test dataset is : \")\n",
    "print(accuracy_score(y_test, y_pred_test))\n",
    "\n"
   ]
  },
  {
   "cell_type": "code",
   "execution_count": 76,
   "id": "ez854D7sKVyz",
   "metadata": {
    "colab": {
     "base_uri": "https://localhost:8080/"
    },
    "executionInfo": {
     "elapsed": 365,
     "status": "ok",
     "timestamp": 1672002428649,
     "user": {
      "displayName": "marina wafeek",
      "userId": "08678773223737812097"
     },
     "user_tz": -120
    },
    "id": "ez854D7sKVyz",
    "outputId": "17a2bec9-69ec-4ffb-f1b2-d398e524ce74"
   },
   "outputs": [
    {
     "name": "stdout",
     "output_type": "stream",
     "text": [
      "[[ 69   4   0   5]\n",
      " [  3 137   0  12]\n",
      " [  1   3 102  14]\n",
      " [  0   1   3 602]]\n"
     ]
    }
   ],
   "source": [
    "print(confusion_matrix(y_test, y_pred_test))"
   ]
  },
  {
   "cell_type": "code",
   "execution_count": 77,
   "id": "hnRNMQoGKZy7",
   "metadata": {
    "colab": {
     "base_uri": "https://localhost:8080/"
    },
    "executionInfo": {
     "elapsed": 315,
     "status": "ok",
     "timestamp": 1672002432135,
     "user": {
      "displayName": "marina wafeek",
      "userId": "08678773223737812097"
     },
     "user_tz": -120
    },
    "id": "hnRNMQoGKZy7",
    "outputId": "e4c5979d-595b-4ca6-8fd6-edf52a7b67ce"
   },
   "outputs": [
    {
     "name": "stdout",
     "output_type": "stream",
     "text": [
      "              precision    recall  f1-score   support\n",
      "\n",
      "           1       0.95      0.88      0.91        78\n",
      "           2       0.94      0.90      0.92       152\n",
      "           3       0.97      0.85      0.91       120\n",
      "           4       0.95      0.99      0.97       606\n",
      "\n",
      "    accuracy                           0.95       956\n",
      "   macro avg       0.95      0.91      0.93       956\n",
      "weighted avg       0.95      0.95      0.95       956\n",
      "\n"
     ]
    }
   ],
   "source": [
    "print(classification_report(y_test, y_pred_test))"
   ]
  },
  {
   "cell_type": "markdown",
   "id": "b5BfcUv1O-EM",
   "metadata": {
    "id": "b5BfcUv1O-EM"
   },
   "source": [
    "**Applying K-Neighbors**"
   ]
  },
  {
   "cell_type": "code",
   "execution_count": 78,
   "id": "8pHd0YpZN9La",
   "metadata": {
    "colab": {
     "base_uri": "https://localhost:8080/"
    },
    "executionInfo": {
     "elapsed": 312,
     "status": "ok",
     "timestamp": 1672004233678,
     "user": {
      "displayName": "marina wafeek",
      "userId": "08678773223737812097"
     },
     "user_tz": -120
    },
    "id": "8pHd0YpZN9La",
    "outputId": "54b75b92-7380-4271-c471-1e6cf7b19965"
   },
   "outputs": [
    {
     "name": "stdout",
     "output_type": "stream",
     "text": [
      "Accuracy score of KNeighborModel on test dataset is : \n",
      "0.9518828451882845\n"
     ]
    }
   ],
   "source": [
    "kneigh_m= KNeighborsClassifier( n_neighbors=5, weights='distance')\n",
    "kneigh_m.fit(X_train,y_train)\n",
    "y_pred = kneigh_m.predict(X_test)\n",
    "print(\"Accuracy score of KNeighborModel on test dataset is : \")\n",
    "print(accuracy_score(y_test, y_pred_test))"
   ]
  },
  {
   "cell_type": "code",
   "execution_count": 79,
   "id": "hFdZNuRhOGkc",
   "metadata": {
    "colab": {
     "base_uri": "https://localhost:8080/"
    },
    "executionInfo": {
     "elapsed": 6,
     "status": "ok",
     "timestamp": 1672004281613,
     "user": {
      "displayName": "marina wafeek",
      "userId": "08678773223737812097"
     },
     "user_tz": -120
    },
    "id": "hFdZNuRhOGkc",
    "outputId": "b75d31ef-5fb0-4798-be85-0aa8e2dd6f71"
   },
   "outputs": [
    {
     "name": "stdout",
     "output_type": "stream",
     "text": [
      "[[ 69   4   0   5]\n",
      " [  3 137   0  12]\n",
      " [  1   3 102  14]\n",
      " [  0   1   3 602]]\n"
     ]
    }
   ],
   "source": [
    "print(confusion_matrix(y_test, y_pred_test))"
   ]
  },
  {
   "cell_type": "code",
   "execution_count": 80,
   "id": "YBpL35cGOI_l",
   "metadata": {
    "colab": {
     "base_uri": "https://localhost:8080/"
    },
    "executionInfo": {
     "elapsed": 5,
     "status": "ok",
     "timestamp": 1672004284781,
     "user": {
      "displayName": "marina wafeek",
      "userId": "08678773223737812097"
     },
     "user_tz": -120
    },
    "id": "YBpL35cGOI_l",
    "outputId": "e82330cb-0acc-484d-facc-5e90a76bdc7d"
   },
   "outputs": [
    {
     "name": "stdout",
     "output_type": "stream",
     "text": [
      "              precision    recall  f1-score   support\n",
      "\n",
      "           1       0.95      0.88      0.91        78\n",
      "           2       0.94      0.90      0.92       152\n",
      "           3       0.97      0.85      0.91       120\n",
      "           4       0.95      0.99      0.97       606\n",
      "\n",
      "    accuracy                           0.95       956\n",
      "   macro avg       0.95      0.91      0.93       956\n",
      "weighted avg       0.95      0.95      0.95       956\n",
      "\n"
     ]
    }
   ],
   "source": [
    "print(classification_report(y_test, y_pred_test))"
   ]
  },
  {
   "cell_type": "markdown",
   "id": "EXKLQSpbPLHL",
   "metadata": {
    "id": "EXKLQSpbPLHL"
   },
   "source": [
    "**Applying DecisionTree**"
   ]
  },
  {
   "cell_type": "code",
   "execution_count": 81,
   "id": "663102b9",
   "metadata": {},
   "outputs": [
    {
     "name": "stdout",
     "output_type": "stream",
     "text": [
      "0.9345581237701401\n"
     ]
    }
   ],
   "source": [
    "dtree_m = DecisionTreeClassifier(criterion='gini', max_depth=69,  splitter='random')\n",
    "dtree_m.fit(X_train, y_train)\n",
    "y_pred = dtree_m.predict(X_test)\n",
    "result = f1_score(y_pred, y_test, average='macro')\n",
    "print(result)"
   ]
  },
  {
   "cell_type": "code",
   "execution_count": 82,
   "id": "6adcc055",
   "metadata": {},
   "outputs": [
    {
     "name": "stdout",
     "output_type": "stream",
     "text": [
      "[[ 69   4   0   5]\n",
      " [  3 137   0  12]\n",
      " [  1   3 102  14]\n",
      " [  0   1   3 602]]\n"
     ]
    }
   ],
   "source": [
    "print(confusion_matrix(y_test, y_pred_test))"
   ]
  },
  {
   "cell_type": "code",
   "execution_count": 83,
   "id": "2c369e38",
   "metadata": {},
   "outputs": [
    {
     "name": "stdout",
     "output_type": "stream",
     "text": [
      "              precision    recall  f1-score   support\n",
      "\n",
      "           1       0.95      0.88      0.91        78\n",
      "           2       0.94      0.90      0.92       152\n",
      "           3       0.97      0.85      0.91       120\n",
      "           4       0.95      0.99      0.97       606\n",
      "\n",
      "    accuracy                           0.95       956\n",
      "   macro avg       0.95      0.91      0.93       956\n",
      "weighted avg       0.95      0.95      0.95       956\n",
      "\n"
     ]
    }
   ],
   "source": [
    "print(classification_report(y_test, y_pred_test))"
   ]
  },
  {
   "cell_type": "code",
   "execution_count": null,
   "id": "c46e7b2c",
   "metadata": {},
   "outputs": [],
   "source": []
  }
 ],
 "metadata": {
  "colab": {
   "provenance": []
  },
  "kernelspec": {
   "display_name": "Python 3 (ipykernel)",
   "language": "python",
   "name": "python3"
  },
  "language_info": {
   "codemirror_mode": {
    "name": "ipython",
    "version": 3
   },
   "file_extension": ".py",
   "mimetype": "text/x-python",
   "name": "python",
   "nbconvert_exporter": "python",
   "pygments_lexer": "ipython3",
   "version": "3.9.7"
  },
  "papermill": {
   "default_parameters": {},
   "duration": 212.217656,
   "end_time": "2021-08-24T03:25:29.450682",
   "environment_variables": {},
   "exception": null,
   "input_path": "__notebook__.ipynb",
   "output_path": "__notebook__.ipynb",
   "parameters": {},
   "start_time": "2021-08-24T03:21:57.233026",
   "version": "2.3.3"
  }
 },
 "nbformat": 4,
 "nbformat_minor": 5
}
